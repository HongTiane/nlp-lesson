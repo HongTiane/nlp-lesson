{
 "cells": [
  {
   "cell_type": "markdown",
   "metadata": {},
   "source": [
    "# 简答题"
   ]
  },
  {
   "cell_type": "raw",
   "metadata": {},
   "source": [
    "2.1 What conditions are required to make the BFS return the optimal solution?\n",
    "1.All costs between two nodes are positive or zero.\n",
    "2.Sort the list used to maintain the searching history in every iteration.\n",
    "\n",
    "2.2 Is there a way to make DFS find the optimal solution? (You may need to read some material about iterative DFS)\n",
    "有, DFS查找最优解需要查找所有可能结果：\n",
    "1、先找到所有结果，然后对所有结果进行排序\n",
    "2、每次找到一个结果就和前一个结果进行比较，符合要求的作为是可能最优解，然后继续查找，直到找到所有结果\n",
    "\n",
    "2.3 In what conditions BFS is a better choice than DFS and vice versa?\n",
    "BFS适用于查找最优解问题\n",
    "DFS适用于查找某个问题是否有解, 此外还用于检测环、双色问题\n",
    "\n",
    "2.4 When can we use machine learning?\n",
    "1、如推荐系统、智能客服、语音识别、自动驾驶、图像识别、语音助手\n",
    "\n",
    "2.5 What is the gradient of a function?\n",
    "梯度下降是一个用来求Loss函数最小值的算法, 寻找下一个能让Loss函数下降最多的参数组合.用一个学习率a乘于Loss函数的导数计算出沿着下降程度最大的方向向下迈出距离\n",
    "\n",
    "2.6 How can we find the maximum value of a function using the information of gradient?\n",
    "梯度下降法是用于求函数的极小值的，所以使用梯度下降求函数的极大值，需要对原函数加一个负号取负值，然后对加负号的函数使用梯度下降求最小值，然后对最小值加负号就是原函数的极大值\n"
   ]
  },
  {
   "cell_type": "markdown",
   "metadata": {},
   "source": [
    "# 寻找地铁路线"
   ]
  },
  {
   "cell_type": "markdown",
   "metadata": {},
   "source": [
    "## 爬虫爬取地铁路线数据（北京地铁）"
   ]
  },
  {
   "cell_type": "code",
   "execution_count": 1,
   "metadata": {},
   "outputs": [],
   "source": [
    "import requests\n",
    "def get_page(url):\n",
    "    response = requests.get(url, verify=False)\n",
    "    if response.encoding == 'ISO-8859-1':\n",
    "        encodings = requests.utils.get_encodings_from_content(response.text)\n",
    "        if encodings:\n",
    "            encoding = encodings[0]\n",
    "        else:\n",
    "            encoding = response.apparent_encoding\n",
    "        return response.content.decode(encoding, 'replace')\n",
    "    else:\n",
    "        return response.text"
   ]
  },
  {
   "cell_type": "code",
   "execution_count": 2,
   "metadata": {},
   "outputs": [],
   "source": [
    "import re\n",
    "def get_subway_lines():\n",
    "    from bs4 import BeautifulSoup\n",
    "    subway_lines_url = 'https://www.bjsubway.com/station/xltcx/'\n",
    "    soup = BeautifulSoup(get_page(subway_lines_url), \"lxml\")\n",
    "    \n",
    "    subway_line_tags = soup.find_all(\"div\", class_=re.compile(\"subway_num[1-9]([1-9]?)|station\"))\n",
    "    \n",
    "    subway_lines = {}\n",
    "    current_subway_line = None\n",
    "    current_subway_line_stations = []\n",
    "    for subway_line_tag in subway_line_tags:\n",
    "        if subway_line_tag['class'][0].startswith('subway_num'):\n",
    "            if current_subway_line:\n",
    "                if current_subway_line == '8号线':\n",
    "                    subway_lines['8号线北'] = current_subway_line_stations[0:19]\n",
    "                    subway_lines['8号线南'] = current_subway_line_stations[19:]\n",
    "                elif current_subway_line == '14号线':\n",
    "                    subway_lines['14号线(西)'] = current_subway_line_stations[0:7]\n",
    "                    subway_lines['14号线(东)'] = current_subway_line_stations[7:]\n",
    "                else:\n",
    "                    subway_lines[current_subway_line] = current_subway_line_stations\n",
    "            current_subway_line = subway_line_tag.get_text()\n",
    "            current_subway_line_stations = []\n",
    "        else:\n",
    "            current_subway_line_stations.append(subway_line_tag.get_text())\n",
    "    subway_lines[current_subway_line] = current_subway_line_stations\n",
    "    return subway_lines"
   ]
  },
  {
   "cell_type": "code",
   "execution_count": 3,
   "metadata": {},
   "outputs": [
    {
     "name": "stderr",
     "output_type": "stream",
     "text": [
      "D:\\Users\\ZengYubin\\Anaconda3\\lib\\site-packages\\urllib3\\connectionpool.py:847: InsecureRequestWarning: Unverified HTTPS request is being made. Adding certificate verification is strongly advised. See: https://urllib3.readthedocs.io/en/latest/advanced-usage.html#ssl-warnings\n",
      "  InsecureRequestWarning)\n"
     ]
    }
   ],
   "source": [
    "subway_lines = get_subway_lines()"
   ]
  },
  {
   "cell_type": "code",
   "execution_count": 4,
   "metadata": {},
   "outputs": [
    {
     "data": {
      "text/plain": [
       "dict_keys(['1号线', '2号线', '4号线', '5号线', '6号线', '7号线', '8号线北', '8号线南', '9号线', '10号线', '13号线', '14号线(西)', '14号线(东)', '15号线', '16号线', '八通线', '昌平线', '亦庄线', '房山线', '首都机场线', '大兴线', 'S1线'])"
      ]
     },
     "execution_count": 4,
     "metadata": {},
     "output_type": "execute_result"
    }
   ],
   "source": [
    "subway_lines.keys()"
   ]
  },
  {
   "cell_type": "code",
   "execution_count": 5,
   "metadata": {},
   "outputs": [
    {
     "data": {
      "text/plain": [
       "['西直门',\n",
       " '积水潭',\n",
       " '鼓楼大街',\n",
       " '安定门',\n",
       " '雍和宫',\n",
       " '东直门',\n",
       " '东四十条',\n",
       " '朝阳门',\n",
       " '建国门',\n",
       " '北京站',\n",
       " '崇文门',\n",
       " '前门',\n",
       " '和平门',\n",
       " '宣武门',\n",
       " '长椿街',\n",
       " '复兴门',\n",
       " '阜成门',\n",
       " '车公庄']"
      ]
     },
     "execution_count": 5,
     "metadata": {},
     "output_type": "execute_result"
    }
   ],
   "source": [
    "subway_lines['2号线']"
   ]
  },
  {
   "cell_type": "code",
   "execution_count": 6,
   "metadata": {},
   "outputs": [],
   "source": [
    "import json \n",
    "def get_subway_station_coordinate(subway_station: str, city: str, ak: str):\n",
    "    rquest_url = 'https://restapi.amap.com/v3/place/text?key={ak}&keywords={subway_station}地铁站&types=150500&city={city}&children=&offset=&page=&extensions=all'\n",
    "    response = requests.get(rquest_url.format(subway_station=subway_station, city=city, ak=ak))\n",
    "    content = json.loads(response.text)\n",
    "    if content['status'] == '1':\n",
    "        for poi in content['pois']:\n",
    "            if poi['typecode'] == '150500':\n",
    "                lng, lat = poi['location'].split(',')\n",
    "                return (float(lng), float(lat))\n",
    "    print('{} coordinate: (None, None)'.format(subway_station))\n",
    "    return(None, None) "
   ]
  },
  {
   "cell_type": "code",
   "execution_count": 7,
   "metadata": {},
   "outputs": [
    {
     "data": {
      "text/plain": [
       "(116.339031, 39.93825)"
      ]
     },
     "execution_count": 7,
     "metadata": {},
     "output_type": "execute_result"
    }
   ],
   "source": [
    "get_subway_station_coordinate('动物园', '北京市', '7f0ce18c02a2074b1da8f0a8ed377b7d')"
   ]
  },
  {
   "cell_type": "code",
   "execution_count": 8,
   "metadata": {},
   "outputs": [],
   "source": [
    "def get_subway_station_location(subway_lines):\n",
    "    subway_station_location =  {}\n",
    "    for subway_line, subway_stations in subway_lines.items():\n",
    "        subway_lines = []\n",
    "        for subway_station in subway_stations:\n",
    "            if subway_station in subway_station_location:\n",
    "                subway_lines = subway_station_location[subway_station]['subway_lines']\n",
    "                if subway_line not in subway_lines:\n",
    "                    subway_lines.append(subway_line)\n",
    "            else:\n",
    "                coordinate = get_subway_station_coordinate(subway_station, '北京市', '7f0ce18c02a2074b1da8f0a8ed377b7d')\n",
    "                subway_station_location[subway_station] = {'subway_lines': [subway_line], 'coordinate': coordinate}\n",
    "    return subway_station_location"
   ]
  },
  {
   "cell_type": "code",
   "execution_count": 9,
   "metadata": {},
   "outputs": [],
   "source": [
    "subway_station_location = get_subway_station_location(subway_lines)"
   ]
  },
  {
   "cell_type": "code",
   "execution_count": 10,
   "metadata": {},
   "outputs": [
    {
     "data": {
      "text/plain": [
       "{'subway_lines': ['1号线', '6号线'], 'coordinate': (116.177388, 39.926727)}"
      ]
     },
     "execution_count": 10,
     "metadata": {},
     "output_type": "execute_result"
    }
   ],
   "source": [
    "subway_station_location['苹果园']"
   ]
  },
  {
   "cell_type": "code",
   "execution_count": 11,
   "metadata": {},
   "outputs": [
    {
     "data": {
      "text/plain": [
       "{'苹果园': {'subway_lines': ['1号线', '6号线'],\n",
       "  'coordinate': (116.177388, 39.926727)},\n",
       " '古城': {'subway_lines': ['1号线'], 'coordinate': (116.190337, 39.90745)},\n",
       " '八角游乐园': {'subway_lines': ['1号线'], 'coordinate': (116.212684, 39.907442)},\n",
       " '八宝山': {'subway_lines': ['1号线'], 'coordinate': (116.235948, 39.90744)},\n",
       " '玉泉路': {'subway_lines': ['1号线'], 'coordinate': (116.252888, 39.907433)},\n",
       " '五棵松': {'subway_lines': ['1号线'], 'coordinate': (116.273987, 39.907456)},\n",
       " '万寿路': {'subway_lines': ['1号线'], 'coordinate': (116.294765, 39.907474)},\n",
       " '公主坟': {'subway_lines': ['1号线', '10号线'],\n",
       "  'coordinate': (116.309919, 39.907469)},\n",
       " '军事博物馆': {'subway_lines': ['1号线', '9号线'],\n",
       "  'coordinate': (116.321459, 39.907422)},\n",
       " '木樨地': {'subway_lines': ['1号线'], 'coordinate': (116.337583, 39.907379)},\n",
       " '南礼士路': {'subway_lines': ['1号线'], 'coordinate': (116.352583, 39.907234)},\n",
       " '复兴门': {'subway_lines': ['1号线', '2号线'],\n",
       "  'coordinate': (116.356866, 39.907242)},\n",
       " '西单': {'subway_lines': ['1号线', '4号线'], 'coordinate': (116.374072, 39.907383)},\n",
       " '天安门西': {'subway_lines': ['1号线'], 'coordinate': (116.391278, 39.907472)},\n",
       " '天安门东': {'subway_lines': ['1号线'], 'coordinate': (116.401216, 39.90778)},\n",
       " '王府井': {'subway_lines': ['1号线'], 'coordinate': (116.411571, 39.908069)},\n",
       " '东单': {'subway_lines': ['1号线', '5号线'], 'coordinate': (116.41848, 39.908325)},\n",
       " '建国门': {'subway_lines': ['1号线', '2号线'],\n",
       "  'coordinate': (116.435806, 39.908501)},\n",
       " '永安里': {'subway_lines': ['1号线'], 'coordinate': (116.45033, 39.908472)},\n",
       " '国贸': {'subway_lines': ['1号线', '10号线'],\n",
       "  'coordinate': (116.461841, 39.909104)},\n",
       " '大望路': {'subway_lines': ['1号线', '14号线(东)'],\n",
       "  'coordinate': (116.475783, 39.908287)},\n",
       " '四惠': {'subway_lines': ['1号线', '八通线'], 'coordinate': (116.495456, 39.908749)},\n",
       " '四惠东': {'subway_lines': ['1号线', '八通线'],\n",
       "  'coordinate': (116.515664, 39.908495)},\n",
       " '西直门': {'subway_lines': ['2号线', '4号线', '13号线'],\n",
       "  'coordinate': (116.355426, 39.940474)},\n",
       " '积水潭': {'subway_lines': ['2号线'], 'coordinate': (116.373126, 39.948653)},\n",
       " '鼓楼大街': {'subway_lines': ['2号线', '8号线北'],\n",
       "  'coordinate': (116.393776, 39.948972)},\n",
       " '安定门': {'subway_lines': ['2号线'], 'coordinate': (116.40824, 39.94918)},\n",
       " '雍和宫': {'subway_lines': ['2号线', '5号线'],\n",
       "  'coordinate': (116.417069, 39.949336)},\n",
       " '东直门': {'subway_lines': ['2号线', '13号线', '首都机场线'],\n",
       "  'coordinate': (116.435842, 39.941626)},\n",
       " '东四十条': {'subway_lines': ['2号线'], 'coordinate': (116.434133, 39.933801)},\n",
       " '朝阳门': {'subway_lines': ['2号线', '6号线'],\n",
       "  'coordinate': (116.434584, 39.924499)},\n",
       " '北京站': {'subway_lines': ['2号线'], 'coordinate': (116.427287, 39.904983)},\n",
       " '崇文门': {'subway_lines': ['2号线', '5号线'],\n",
       "  'coordinate': (116.417093, 39.901063)},\n",
       " '前门': {'subway_lines': ['2号线'], 'coordinate': (116.397937, 39.900192)},\n",
       " '和平门': {'subway_lines': ['2号线'], 'coordinate': (116.384209, 39.900098)},\n",
       " '宣武门': {'subway_lines': ['2号线', '4号线'],\n",
       "  'coordinate': (116.374314, 39.899765)},\n",
       " '长椿街': {'subway_lines': ['2号线'], 'coordinate': (116.363355, 39.899433)},\n",
       " '阜成门': {'subway_lines': ['2号线'], 'coordinate': (116.356009, 39.923686)},\n",
       " '车公庄': {'subway_lines': ['2号线', '6号线'],\n",
       "  'coordinate': (116.354357, 39.932397)},\n",
       " '安河桥北': {'subway_lines': ['4号线'], 'coordinate': (116.269956, 40.012195)},\n",
       " '北宫门': {'subway_lines': ['4号线'], 'coordinate': (116.277647, 40.002373)},\n",
       " '西苑': {'subway_lines': ['4号线', '16号线'],\n",
       "  'coordinate': (116.290908, 39.998258)},\n",
       " '圆明园': {'subway_lines': ['4号线'], 'coordinate': (116.310186, 39.999662)},\n",
       " '北京大学东门': {'subway_lines': ['4号线'], 'coordinate': (116.315842, 39.992212)},\n",
       " '中关村': {'subway_lines': ['4号线'], 'coordinate': (116.316467, 39.983991)},\n",
       " '海淀黄庄': {'subway_lines': ['4号线', '10号线'],\n",
       "  'coordinate': (116.317564, 39.975996)},\n",
       " '人民大学': {'subway_lines': ['4号线'], 'coordinate': (116.321367, 39.966956)},\n",
       " '魏公村': {'subway_lines': ['4号线'], 'coordinate': (116.32322, 39.957904)},\n",
       " '国家图书馆': {'subway_lines': ['4号线', '9号线'],\n",
       "  'coordinate': (116.32519, 39.943114)},\n",
       " '动物园': {'subway_lines': ['4号线'], 'coordinate': (116.339031, 39.93825)},\n",
       " '新街口': {'subway_lines': ['4号线'], 'coordinate': (116.367742, 39.940667)},\n",
       " '平安里': {'subway_lines': ['4号线', '6号线'],\n",
       "  'coordinate': (116.372883, 39.933949)},\n",
       " '西四': {'subway_lines': ['4号线'], 'coordinate': (116.373332, 39.924206)},\n",
       " '灵境胡同': {'subway_lines': ['4号线'], 'coordinate': (116.373746, 39.915912)},\n",
       " '菜市口': {'subway_lines': ['4号线', '7号线'],\n",
       "  'coordinate': (116.374425, 39.889296)},\n",
       " '陶然亭': {'subway_lines': ['4号线'], 'coordinate': (116.374383, 39.87847)},\n",
       " '北京南站': {'subway_lines': ['4号线', '14号线(东)'],\n",
       "  'coordinate': (116.379008, 39.865012)},\n",
       " '马家堡': {'subway_lines': ['4号线'], 'coordinate': (116.371361, 39.853109)},\n",
       " '角门西': {'subway_lines': ['4号线', '10号线'],\n",
       "  'coordinate': (116.371154, 39.84585)},\n",
       " '公益西桥': {'subway_lines': ['4号线', '大兴线'],\n",
       "  'coordinate': (116.370796, 39.836135)},\n",
       " '宋家庄': {'subway_lines': ['5号线', '10号线', '亦庄线'],\n",
       "  'coordinate': (116.428368, 39.845849)},\n",
       " '刘家窑': {'subway_lines': ['5号线'], 'coordinate': (116.422119, 39.857521)},\n",
       " '蒲黄榆': {'subway_lines': ['5号线', '14号线(东)'],\n",
       "  'coordinate': (116.42372, 39.865621)},\n",
       " '天坛东门': {'subway_lines': ['5号线'], 'coordinate': (116.420833, 39.882558)},\n",
       " '磁器口': {'subway_lines': ['5号线', '7号线'], 'coordinate': (116.41994, 39.893172)},\n",
       " '灯市口': {'subway_lines': ['5号线'], 'coordinate': (116.417783, 39.917113)},\n",
       " '东四': {'subway_lines': ['5号线', '6号线'], 'coordinate': (116.417493, 39.92437)},\n",
       " '张自忠路': {'subway_lines': ['5号线'], 'coordinate': (116.417156, 39.933592)},\n",
       " '北新桥': {'subway_lines': ['5号线'], 'coordinate': (116.416884, 39.940782)},\n",
       " '和平里北街': {'subway_lines': ['5号线'], 'coordinate': (116.418504, 39.958734)},\n",
       " '和平西桥': {'subway_lines': ['5号线'], 'coordinate': (116.417975, 39.968386)},\n",
       " '惠新西街南口': {'subway_lines': ['5号线', '10号线'],\n",
       "  'coordinate': (116.417537, 39.977121)},\n",
       " '惠新西街北口': {'subway_lines': ['5号线'], 'coordinate': (116.417028, 39.987836)},\n",
       " '大屯路东': {'subway_lines': ['5号线', '15号线'],\n",
       "  'coordinate': (116.417377, 40.003841)},\n",
       " '北苑路北': {'subway_lines': ['5号线'], 'coordinate': (116.418089, 40.030436)},\n",
       " '立水桥南': {'subway_lines': ['5号线'], 'coordinate': (116.414496, 40.041956)},\n",
       " '立水桥': {'subway_lines': ['5号线', '13号线'],\n",
       "  'coordinate': (116.41235, 40.053032)},\n",
       " '天通苑南': {'subway_lines': ['5号线'], 'coordinate': (116.412684, 40.066612)},\n",
       " '天通苑': {'subway_lines': ['5号线'], 'coordinate': (116.41289, 40.075248)},\n",
       " '天通苑北': {'subway_lines': ['5号线'], 'coordinate': (116.412888, 40.083668)},\n",
       " '金安桥': {'subway_lines': ['6号线', 'S1线'], 'coordinate': (116.163167, 39.92362)},\n",
       " '杨庄': {'subway_lines': ['6号线'], 'coordinate': (116.187004, 39.92785)},\n",
       " '西黄村': {'subway_lines': ['6号线'], 'coordinate': (116.206932, 39.933605)},\n",
       " '廖公庄': {'subway_lines': ['6号线'], 'coordinate': (116.227292, 39.932422)},\n",
       " '田村': {'subway_lines': ['6号线'], 'coordinate': (116.252914, 39.929503)},\n",
       " '海淀五路居': {'subway_lines': ['6号线'], 'coordinate': (116.276531, 39.932584)},\n",
       " '慈寿寺': {'subway_lines': ['6号线', '10号线'],\n",
       "  'coordinate': (116.295467, 39.933268)},\n",
       " '花园桥': {'subway_lines': ['6号线'], 'coordinate': (116.310683, 39.93234)},\n",
       " '白石桥南': {'subway_lines': ['6号线', '9号线'],\n",
       "  'coordinate': (116.32568, 39.933022)},\n",
       " '车公庄西': {'subway_lines': ['6号线'], 'coordinate': (116.344082, 39.932466)},\n",
       " '北海北': {'subway_lines': ['6号线'], 'coordinate': (116.386829, 39.933247)},\n",
       " '南锣鼓巷': {'subway_lines': ['6号线', '8号线北'],\n",
       "  'coordinate': (116.404192, 39.933848)},\n",
       " '东大桥': {'subway_lines': ['6号线'], 'coordinate': (116.451657, 39.923054)},\n",
       " '呼家楼': {'subway_lines': ['6号线', '10号线'],\n",
       "  'coordinate': (116.461618, 39.923337)},\n",
       " '金台路': {'subway_lines': ['6号线', '14号线(东)'],\n",
       "  'coordinate': (116.478115, 39.923556)},\n",
       " '十里堡': {'subway_lines': ['6号线'], 'coordinate': (116.502045, 39.923076)},\n",
       " '青年路': {'subway_lines': ['6号线'], 'coordinate': (116.517429, 39.923168)},\n",
       " '褡裢坡': {'subway_lines': ['6号线'], 'coordinate': (116.563961, 39.924021)},\n",
       " '黄渠': {'subway_lines': ['6号线'], 'coordinate': (116.578266, 39.924201)},\n",
       " '常营': {'subway_lines': ['6号线'], 'coordinate': (116.599722, 39.925696)},\n",
       " '草房': {'subway_lines': ['6号线'], 'coordinate': (116.615574, 39.924477)},\n",
       " '物资学院路': {'subway_lines': ['6号线'], 'coordinate': (116.639316, 39.926801)},\n",
       " '通州北关': {'subway_lines': ['6号线'], 'coordinate': (116.661131, 39.917962)},\n",
       " '通运门': {'subway_lines': ['6号线'], 'coordinate': (116.673284, 39.910583)},\n",
       " '北运河西': {'subway_lines': ['6号线'], 'coordinate': (116.688358, 39.903024)},\n",
       " '北运河东': {'subway_lines': ['6号线'], 'coordinate': (116.707056, 39.903268)},\n",
       " '郝家府': {'subway_lines': ['6号线'], 'coordinate': (116.717826, 39.903195)},\n",
       " '东夏园': {'subway_lines': ['6号线'], 'coordinate': (116.73385, 39.903147)},\n",
       " '潞城': {'subway_lines': ['6号线'], 'coordinate': (116.747434, 39.902652)},\n",
       " '北京西站': {'subway_lines': ['7号线', '9号线'],\n",
       "  'coordinate': (116.321262, 39.894763)},\n",
       " '湾子': {'subway_lines': ['7号线'], 'coordinate': (116.327753, 39.889954)},\n",
       " '达官营': {'subway_lines': ['7号线'], 'coordinate': (116.336455, 39.889884)},\n",
       " '广安门内': {'subway_lines': ['7号线'], 'coordinate': (116.358239, 39.889418)},\n",
       " '虎坊桥': {'subway_lines': ['7号线'], 'coordinate': (116.384596, 39.889486)},\n",
       " '珠市口': {'subway_lines': ['7号线', '8号线南'],\n",
       "  'coordinate': (116.398372, 39.891334)},\n",
       " '桥湾': {'subway_lines': ['7号线'], 'coordinate': (116.408464, 39.892725)},\n",
       " '广渠门内': {'subway_lines': ['7号线'], 'coordinate': (116.433877, 39.893673)},\n",
       " '广渠门外': {'subway_lines': ['7号线'], 'coordinate': (116.448998, 39.893648)},\n",
       " '双井': {'subway_lines': ['7号线', '10号线'],\n",
       "  'coordinate': (116.461834, 39.893512)},\n",
       " '九龙山': {'subway_lines': ['7号线', '14号线(东)'],\n",
       "  'coordinate': (116.478695, 39.893222)},\n",
       " '大郊亭': {'subway_lines': ['7号线'], 'coordinate': (116.487935, 39.893183)},\n",
       " '百子湾': {'subway_lines': ['7号线'], 'coordinate': (116.497768, 39.89253)},\n",
       " '化工': {'subway_lines': ['7号线'], 'coordinate': (116.503439, 39.887369)},\n",
       " '南楼梓庄': {'subway_lines': ['7号线'], 'coordinate': (116.501084, 39.874578)},\n",
       " '欢乐谷景区': {'subway_lines': ['7号线'], 'coordinate': (116.500067, 39.866505)},\n",
       " '垡头': {'subway_lines': ['7号线'], 'coordinate': (116.511821, 39.860728)},\n",
       " '双合': {'subway_lines': ['7号线'], 'coordinate': (116.526836, 39.859691)},\n",
       " '焦化厂': {'subway_lines': ['7号线'], 'coordinate': (116.537247, 39.855488)},\n",
       " '朱辛庄': {'subway_lines': ['8号线北', '昌平线'],\n",
       "  'coordinate': (116.313698, 40.104297)},\n",
       " '育知路': {'subway_lines': ['8号线北'], 'coordinate': (116.326992, 40.087863)},\n",
       " '平西府': {'subway_lines': ['8号线北'], 'coordinate': (116.350425, 40.090607)},\n",
       " '回龙观东大街': {'subway_lines': ['8号线北'], 'coordinate': (116.363025, 40.081175)},\n",
       " '霍营': {'subway_lines': ['8号线北', '13号线'],\n",
       "  'coordinate': (116.360286, 40.071857)},\n",
       " '育新': {'subway_lines': ['8号线北'], 'coordinate': (116.347328, 40.060039)},\n",
       " '西小口': {'subway_lines': ['8号线北'], 'coordinate': (116.351644, 40.046873)},\n",
       " '永泰庄': {'subway_lines': ['8号线北'], 'coordinate': (116.35458, 40.037728)},\n",
       " '林萃桥': {'subway_lines': ['8号线北'], 'coordinate': (116.372998, 40.021906)},\n",
       " '森林公园南门': {'subway_lines': ['8号线北'], 'coordinate': (116.3926, 40.010122)},\n",
       " '奥林匹克公园': {'subway_lines': ['8号线北', '15号线'],\n",
       "  'coordinate': (116.391758, 40.002207)},\n",
       " '奥体中心': {'subway_lines': ['8号线北'], 'coordinate': (116.393759, 39.985837)},\n",
       " '北土城': {'subway_lines': ['8号线北', '10号线'],\n",
       "  'coordinate': (116.394193, 39.976953)},\n",
       " '安华桥': {'subway_lines': ['8号线北'], 'coordinate': (116.394655, 39.968507)},\n",
       " '安德里北街': {'subway_lines': ['8号线北'], 'coordinate': (116.395145, 39.957227)},\n",
       " '什刹海': {'subway_lines': ['8号线北'], 'coordinate': (116.396219, 39.937583)},\n",
       " '中国美术馆': {'subway_lines': ['8号线北'], 'coordinate': (116.410803, 39.923705)},\n",
       " '天桥': {'subway_lines': ['8号线南'], 'coordinate': (116.398712, 39.88192)},\n",
       " '永定门外': {'subway_lines': ['8号线南', '14号线(东)'],\n",
       "  'coordinate': (116.399369, 39.867435)},\n",
       " '木樨园': {'subway_lines': ['8号线南'], 'coordinate': (116.399839, 39.859262)},\n",
       " '海户屯': {'subway_lines': ['8号线南'], 'coordinate': (116.400301, 39.851805)},\n",
       " '大红门': {'subway_lines': ['8号线南', '10号线'],\n",
       "  'coordinate': (116.399154, 39.845383)},\n",
       " '大红门南': {'subway_lines': ['8号线南'], 'coordinate': (116.401045, 39.836715)},\n",
       " '和义': {'subway_lines': ['8号线南'], 'coordinate': (116.402073, 39.814838)},\n",
       " '东高地': {'subway_lines': ['8号线南'], 'coordinate': (116.409427, 39.805074)},\n",
       " '火箭万源': {'subway_lines': ['8号线南'], 'coordinate': (116.418627, 39.799287)},\n",
       " '五福堂': {'subway_lines': ['8号线南'], 'coordinate': (116.423903, 39.785046)},\n",
       " '德茂': {'subway_lines': ['8号线南'], 'coordinate': (116.441467, 39.772649)},\n",
       " '瀛海': {'subway_lines': ['8号线南'], 'coordinate': (116.448912, 39.760618)},\n",
       " '郭公庄': {'subway_lines': ['9号线', '房山线'],\n",
       "  'coordinate': (116.301889, 39.814322)},\n",
       " '丰台科技园': {'subway_lines': ['9号线'], 'coordinate': (116.297176, 39.825233)},\n",
       " '科怡路': {'subway_lines': ['9号线'], 'coordinate': (116.297432, 39.83248)},\n",
       " '丰台南路': {'subway_lines': ['9号线'], 'coordinate': (116.296748, 39.840444)},\n",
       " '丰台东大街': {'subway_lines': ['9号线'], 'coordinate': (116.293857, 39.855111)},\n",
       " '七里庄': {'subway_lines': ['9号线', '14号线(西)'],\n",
       "  'coordinate': (116.294292, 39.866773)},\n",
       " '六里桥': {'subway_lines': ['9号线', '10号线'],\n",
       "  'coordinate': (116.302808, 39.880239)},\n",
       " '六里桥东': {'subway_lines': ['9号线'], 'coordinate': (116.315024, 39.887125)},\n",
       " '白堆子': {'subway_lines': ['9号线'], 'coordinate': (116.325762, 39.923818)},\n",
       " '巴沟': {'subway_lines': ['10号线'], 'coordinate': (116.293362, 39.974408)},\n",
       " '苏州街': {'subway_lines': ['10号线'], 'coordinate': (116.306332, 39.975642)},\n",
       " '知春里': {'subway_lines': ['10号线'], 'coordinate': (116.328709, 39.976334)},\n",
       " '知春路': {'subway_lines': ['10号线', '13号线'],\n",
       "  'coordinate': (116.33996, 39.976476)},\n",
       " '西土城': {'subway_lines': ['10号线'], 'coordinate': (116.354098, 39.976549)},\n",
       " '牡丹园': {'subway_lines': ['10号线'], 'coordinate': (116.369844, 39.976603)},\n",
       " '健德门': {'subway_lines': ['10号线'], 'coordinate': (116.381353, 39.976723)},\n",
       " '安贞门': {'subway_lines': ['10号线'], 'coordinate': (116.405954, 39.977005)},\n",
       " '芍药居': {'subway_lines': ['10号线', '13号线'],\n",
       "  'coordinate': (116.435914, 39.977636)},\n",
       " '太阳宫': {'subway_lines': ['10号线'], 'coordinate': (116.447469, 39.972678)},\n",
       " '三元桥': {'subway_lines': ['10号线', '首都机场线'],\n",
       "  'coordinate': (116.456997, 39.961508)},\n",
       " '亮马桥': {'subway_lines': ['10号线'], 'coordinate': (116.461794, 39.949415)},\n",
       " '农业展览馆': {'subway_lines': ['10号线'], 'coordinate': (116.461724, 39.941344)},\n",
       " '团结湖': {'subway_lines': ['10号线'], 'coordinate': (116.461806, 39.933747)},\n",
       " '金台夕照': {'subway_lines': ['10号线'], 'coordinate': (116.461743, 39.916838)},\n",
       " '劲松': {'subway_lines': ['10号线'], 'coordinate': (116.461325, 39.884387)},\n",
       " '潘家园': {'subway_lines': ['10号线'], 'coordinate': (116.460926, 39.875387)},\n",
       " '十里河': {'subway_lines': ['10号线', '14号线(东)'],\n",
       "  'coordinate': (116.457983, 39.866417)},\n",
       " '分钟寺': {'subway_lines': ['10号线'], 'coordinate': (116.453976, 39.852227)},\n",
       " '成寿寺': {'subway_lines': ['10号线'], 'coordinate': (116.447531, 39.845874)},\n",
       " '石榴庄': {'subway_lines': ['10号线'], 'coordinate': (116.414103, 39.845905)},\n",
       " '角门东': {'subway_lines': ['10号线'], 'coordinate': (116.385649, 39.845135)},\n",
       " '草桥': {'subway_lines': ['10号线'], 'coordinate': (116.351387, 39.845869)},\n",
       " '纪家庙': {'subway_lines': ['10号线'], 'coordinate': (116.333381, 39.844433)},\n",
       " '首经贸': {'subway_lines': ['10号线'], 'coordinate': (116.320202, 39.844463)},\n",
       " '丰台站': {'subway_lines': ['10号线'], 'coordinate': (116.30454, 39.849639)},\n",
       " '泥洼': {'subway_lines': ['10号线'], 'coordinate': (116.304173, 39.858609)},\n",
       " '西局': {'subway_lines': ['10号线', '14号线(西)'],\n",
       "  'coordinate': (116.303819, 39.86677)},\n",
       " '莲花桥': {'subway_lines': ['10号线'], 'coordinate': (116.310347, 39.897867)},\n",
       " '西钓鱼台': {'subway_lines': ['10号线'], 'coordinate': (116.298064, 39.923481)},\n",
       " '车道沟': {'subway_lines': ['10号线'], 'coordinate': (116.293818, 39.947923)},\n",
       " '长春桥': {'subway_lines': ['10号线'], 'coordinate': (116.294255, 39.958527)},\n",
       " '火器营': {'subway_lines': ['10号线'], 'coordinate': (116.289058, 39.965938)},\n",
       " '大钟寺': {'subway_lines': ['13号线'], 'coordinate': (116.345139, 39.966612)},\n",
       " '五道口': {'subway_lines': ['13号线'], 'coordinate': (116.337742, 39.992894)},\n",
       " '上地': {'subway_lines': ['13号线'], 'coordinate': (116.320193, 40.033007)},\n",
       " '西二旗': {'subway_lines': ['13号线', '昌平线'],\n",
       "  'coordinate': (116.306295, 40.053034)},\n",
       " '龙泽': {'subway_lines': ['13号线'], 'coordinate': (116.319429, 40.070882)},\n",
       " '回龙观': {'subway_lines': ['13号线'], 'coordinate': (116.336116, 40.0708)},\n",
       " '北苑': {'subway_lines': ['13号线'], 'coordinate': (116.434518, 40.042997)},\n",
       " '望京西': {'subway_lines': ['13号线', '15号线'],\n",
       "  'coordinate': (116.449884, 39.995724)},\n",
       " '光熙门': {'subway_lines': ['13号线'], 'coordinate': (116.431761, 39.968337)},\n",
       " '柳芳': {'subway_lines': ['13号线'], 'coordinate': (116.432728, 39.958157)},\n",
       " '张郭庄': {'subway_lines': ['14号线(西)'], 'coordinate': (116.187193, 39.8581)},\n",
       " '园博园': {'subway_lines': ['14号线(西)'], 'coordinate': (116.201643, 39.861328)},\n",
       " '大瓦窑': {'subway_lines': ['14号线(西)'], 'coordinate': (116.24048, 39.85947)},\n",
       " '郭庄子': {'subway_lines': ['14号线(西)'], 'coordinate': (116.253068, 39.864841)},\n",
       " '大井': {'subway_lines': ['14号线(西)'], 'coordinate': (116.276061, 39.865226)},\n",
       " '善各庄': {'subway_lines': ['14号线(东)'], 'coordinate': (116.478195, 40.02716)},\n",
       " '陶然桥': {'subway_lines': ['14号线(东)'], 'coordinate': (116.387167, 39.868791)},\n",
       " '景泰': {'subway_lines': ['14号线(东)'], 'coordinate': (116.411026, 39.86525)},\n",
       " '方庄': {'subway_lines': ['14号线(东)'], 'coordinate': (116.440244, 39.865868)},\n",
       " '北工大西门': {'subway_lines': ['14号线(东)'], 'coordinate': (116.477318, 39.875437)},\n",
       " '平乐园': {'subway_lines': ['14号线(东)'], 'coordinate': (116.477307, 39.885275)},\n",
       " '朝阳公园': {'subway_lines': ['14号线(东)'], 'coordinate': (116.478291, 39.933492)},\n",
       " '枣营': {'subway_lines': ['14号线(东)'], 'coordinate': (116.474947, 39.944132)},\n",
       " '东风北桥': {'subway_lines': ['14号线(东)'], 'coordinate': (116.485919, 39.958375)},\n",
       " '高家园': {'subway_lines': ['14号线(东)'], 'coordinate': (116.488543, 39.980572)},\n",
       " '阜通': {'subway_lines': ['14号线(东)'], 'coordinate': (116.47174, 39.991699)},\n",
       " '望京': {'subway_lines': ['14号线(东)', '15号线'],\n",
       "  'coordinate': (116.469409, 39.998521)},\n",
       " '将台': {'subway_lines': ['14号线(东)'], 'coordinate': (116.489496, 39.971109)},\n",
       " '望京南': {'subway_lines': ['14号线(东)'], 'coordinate': (116.481634, 39.984634)},\n",
       " '东湖渠': {'subway_lines': ['14号线(东)'], 'coordinate': (116.467412, 40.01067)},\n",
       " '来广营': {'subway_lines': ['14号线(东)'], 'coordinate': (116.466994, 40.020588)},\n",
       " '俸伯': {'subway_lines': ['15号线'], 'coordinate': (116.684732, 40.132573)},\n",
       " '顺义': {'subway_lines': ['15号线'], 'coordinate': (116.657023, 40.129994)},\n",
       " '石门': {'subway_lines': ['15号线'], 'coordinate': (116.641117, 40.129802)},\n",
       " '南法信': {'subway_lines': ['15号线'], 'coordinate': (116.609535, 40.128478)},\n",
       " '后沙峪': {'subway_lines': ['15号线'], 'coordinate': (116.564211, 40.114127)},\n",
       " '花梨坎': {'subway_lines': ['15号线'], 'coordinate': (116.557593, 40.084436)},\n",
       " '国展': {'subway_lines': ['15号线'], 'coordinate': (116.555127, 40.07003)},\n",
       " '孙河': {'subway_lines': ['15号线'], 'coordinate': (116.5347, 40.045113)},\n",
       " '马泉营': {'subway_lines': ['15号线'], 'coordinate': (116.50348, 40.033721)},\n",
       " '崔各庄': {'subway_lines': ['15号线'], 'coordinate': (116.492968, 40.022201)},\n",
       " '望京东': {'subway_lines': ['15号线'], 'coordinate': (116.487105, 40.0032)},\n",
       " '关庄': {'subway_lines': ['15号线'], 'coordinate': (116.430947, 40.001134)},\n",
       " '安立路': {'subway_lines': ['15号线'], 'coordinate': (116.407845, 40.002619)},\n",
       " '北沙滩': {'subway_lines': ['15号线'], 'coordinate': (116.368143, 40.001492)},\n",
       " '六道口': {'subway_lines': ['15号线'], 'coordinate': (116.35267, 40.000958)},\n",
       " '清华东路西口': {'subway_lines': ['15号线'], 'coordinate': (116.33953, 40.000673)},\n",
       " '农大南路': {'subway_lines': ['16号线'], 'coordinate': (116.282272, 40.021398)},\n",
       " '马连洼': {'subway_lines': ['16号线'], 'coordinate': (116.27252, 40.032637)},\n",
       " '西北旺': {'subway_lines': ['16号线'], 'coordinate': (116.257923, 40.048703)},\n",
       " '永丰南': {'subway_lines': ['16号线'], 'coordinate': (116.248154, 40.065575)},\n",
       " '永丰': {'subway_lines': ['16号线'], 'coordinate': (116.238481, 40.071868)},\n",
       " '屯佃': {'subway_lines': ['16号线'], 'coordinate': (116.21585, 40.068454)},\n",
       " '稻香湖路': {'subway_lines': ['16号线'], 'coordinate': (116.188145, 40.068936)},\n",
       " '温阳路': {'subway_lines': ['16号线'], 'coordinate': (116.161361, 40.068516)},\n",
       " '北安河': {'subway_lines': ['16号线'], 'coordinate': (116.130428, 40.068128)},\n",
       " '高碑店': {'subway_lines': ['八通线'], 'coordinate': (116.531421, 39.909448)},\n",
       " '传媒大学': {'subway_lines': ['八通线'], 'coordinate': (116.554639, 39.909215)},\n",
       " '双桥': {'subway_lines': ['八通线'], 'coordinate': (116.57676, 39.91014)},\n",
       " '管庄': {'subway_lines': ['八通线'], 'coordinate': (116.599002, 39.90909)},\n",
       " '八里桥': {'subway_lines': ['八通线'], 'coordinate': (116.618658, 39.906121)},\n",
       " '通州北苑': {'subway_lines': ['八通线'], 'coordinate': (116.637252, 39.903864)},\n",
       " '果园': {'subway_lines': ['八通线'], 'coordinate': (116.646606, 39.893393)},\n",
       " '九棵树': {'subway_lines': ['八通线'], 'coordinate': (116.657533, 39.890278)},\n",
       " '梨园': {'subway_lines': ['八通线'], 'coordinate': (116.66872, 39.883677)},\n",
       " '临河里': {'subway_lines': ['八通线'], 'coordinate': (116.678811, 39.875496)},\n",
       " '土桥': {'subway_lines': ['八通线'], 'coordinate': (116.686349, 39.871926)},\n",
       " '昌平西山口': {'subway_lines': ['昌平线'], 'coordinate': (116.195369, 40.244629)},\n",
       " '十三陵景区': {'subway_lines': ['昌平线'], 'coordinate': (116.207637, 40.240214)},\n",
       " '昌平': {'subway_lines': ['昌平线'], 'coordinate': (116.23359, 40.22055)},\n",
       " '昌平东关': {'subway_lines': ['昌平线'], 'coordinate': (116.262059, 40.221726)},\n",
       " '北邵洼': {'subway_lines': ['昌平线'], 'coordinate': (116.281949, 40.222001)},\n",
       " '南邵': {'subway_lines': ['昌平线'], 'coordinate': (116.287534, 40.207484)},\n",
       " '沙河高教园': {'subway_lines': ['昌平线'], 'coordinate': (116.280465, 40.164666)},\n",
       " '沙河': {'subway_lines': ['昌平线'], 'coordinate': (116.288865, 40.148278)},\n",
       " '巩华城': {'subway_lines': ['昌平线'], 'coordinate': (116.293979, 40.1309)},\n",
       " '生命科学园': {'subway_lines': ['昌平线'], 'coordinate': (116.29423, 40.09479)},\n",
       " '肖村': {'subway_lines': ['亦庄线'], 'coordinate': (116.448364, 39.834217)},\n",
       " '小红门': {'subway_lines': ['亦庄线'], 'coordinate': (116.459226, 39.827951)},\n",
       " '旧宫': {'subway_lines': ['亦庄线'], 'coordinate': (116.460789, 39.80691)},\n",
       " '亦庄桥': {'subway_lines': ['亦庄线'], 'coordinate': (116.480307, 39.803011)},\n",
       " '亦庄文化园': {'subway_lines': ['亦庄线'], 'coordinate': (116.490632, 39.80689)},\n",
       " '万源街': {'subway_lines': ['亦庄线'], 'coordinate': (116.505446, 39.802921)},\n",
       " '荣京东街': {'subway_lines': ['亦庄线'], 'coordinate': (116.51339, 39.793132)},\n",
       " '荣昌东街': {'subway_lines': ['亦庄线'], 'coordinate': (116.521737, 39.782799)},\n",
       " '同济南路': {'subway_lines': ['亦庄线'], 'coordinate': (116.539835, 39.7729)},\n",
       " '经海路': {'subway_lines': ['亦庄线'], 'coordinate': (116.562245, 39.783587)},\n",
       " '次渠南': {'subway_lines': ['亦庄线'], 'coordinate': (116.581357, 39.795118)},\n",
       " '次渠': {'subway_lines': ['亦庄线'], 'coordinate': (116.591502, 39.8035)},\n",
       " '亦庄火车站': {'subway_lines': ['亦庄线'], 'coordinate': (116.601913, 39.812607)},\n",
       " '大葆台': {'subway_lines': ['房山线'], 'coordinate': (116.291681, 39.80781)},\n",
       " '稻田': {'subway_lines': ['房山线'], 'coordinate': (116.21884, 39.794885)},\n",
       " '长阳': {'subway_lines': ['房山线'], 'coordinate': (116.212692, 39.763871)},\n",
       " '篱笆房': {'subway_lines': ['房山线'], 'coordinate': (116.189486, 39.760636)},\n",
       " '广阳城': {'subway_lines': ['房山线'], 'coordinate': (116.184985, 39.74793)},\n",
       " '良乡大学城北': {'subway_lines': ['房山线'], 'coordinate': (116.18348, 39.729906)},\n",
       " '良乡大学城': {'subway_lines': ['房山线'], 'coordinate': (116.176541, 39.723159)},\n",
       " '良乡大学城西': {'subway_lines': ['房山线'], 'coordinate': (116.156282, 39.723157)},\n",
       " '良乡南关': {'subway_lines': ['房山线'], 'coordinate': (116.140804, 39.723202)},\n",
       " '苏庄': {'subway_lines': ['房山线'], 'coordinate': (116.125306, 39.723188)},\n",
       " '3号航站楼': {'subway_lines': ['首都机场线'], 'coordinate': (116.615579, 40.052544)},\n",
       " '2号航站楼': {'subway_lines': ['首都机场线'], 'coordinate': (116.592808, 40.079311)},\n",
       " '新宫': {'subway_lines': ['大兴线'], 'coordinate': (116.365549, 39.812592)},\n",
       " '西红门': {'subway_lines': ['大兴线'], 'coordinate': (116.328689, 39.7898)},\n",
       " '高米店北': {'subway_lines': ['大兴线'], 'coordinate': (116.330787, 39.773547)},\n",
       " '高米店南': {'subway_lines': ['大兴线'], 'coordinate': (116.331605, 39.763489)},\n",
       " '枣园': {'subway_lines': ['大兴线'], 'coordinate': (116.332204, 39.753458)},\n",
       " '清源路': {'subway_lines': ['大兴线'], 'coordinate': (116.332513, 39.742724)},\n",
       " '黄村西大街': {'subway_lines': ['大兴线'], 'coordinate': (116.332631, 39.731769)},\n",
       " '黄村火车站': {'subway_lines': ['大兴线'], 'coordinate': (116.332611, 39.722966)},\n",
       " '义和庄': {'subway_lines': ['大兴线'], 'coordinate': (116.319079, 39.712387)},\n",
       " '生物医药基地': {'subway_lines': ['大兴线'], 'coordinate': (116.321662, 39.68651)},\n",
       " '天宫院': {'subway_lines': ['大兴线'], 'coordinate': (116.319932, 39.670342)},\n",
       " '石厂': {'subway_lines': ['S1线'], 'coordinate': (116.100334, 39.889378)},\n",
       " '小园': {'subway_lines': ['S1线'], 'coordinate': (116.114443, 39.890465)},\n",
       " '栗园庄': {'subway_lines': ['S1线'], 'coordinate': (116.123254, 39.89578)},\n",
       " '上岸': {'subway_lines': ['S1线'], 'coordinate': (116.122225, 39.905138)},\n",
       " '桥户营': {'subway_lines': ['S1线'], 'coordinate': (116.125809, 39.912383)},\n",
       " '四道桥': {'subway_lines': ['S1线'], 'coordinate': (116.13401, 39.91603)}}"
      ]
     },
     "execution_count": 11,
     "metadata": {},
     "output_type": "execute_result"
    }
   ],
   "source": [
    "subway_station_location"
   ]
  },
  {
   "cell_type": "code",
   "execution_count": 12,
   "metadata": {},
   "outputs": [],
   "source": [
    "from collections import defaultdict\n",
    "\n",
    "def get_subway_station_connection(subway_lines):\n",
    "    subway_station_connection = defaultdict(list)\n",
    "    for subway_stations in subway_lines.values():\n",
    "        for i in range(len(subway_stations) - 1):\n",
    "            subway_station_connection[subway_stations[i]].append(subway_stations[i + 1])\n",
    "            subway_station_connection[subway_stations[i + 1]].append(subway_stations[i])\n",
    "    # 2号线、10号线闭环\n",
    "    subway_station_connection['西直门'].append('车公庄')\n",
    "    subway_station_connection['车公庄'].append('西直门')\n",
    "    \n",
    "    subway_station_connection['巴沟'].append('火器营')\n",
    "    subway_station_connection['火器营'].append('巴沟')\n",
    "    # 首都机场线\n",
    "    subway_station_connection['3号航站楼'].remove('三元桥')\n",
    "    subway_station_connection['3号航站楼'].append('2号航站楼')\n",
    "    subway_station_connection['2号航站楼'].remove('3号航站楼')\n",
    "    subway_station_connection['2号航站楼'].append('三元桥')\n",
    "    \n",
    "    return subway_station_connection"
   ]
  },
  {
   "cell_type": "code",
   "execution_count": 13,
   "metadata": {},
   "outputs": [],
   "source": [
    "subway_station_connection = get_subway_station_connection(subway_lines)"
   ]
  },
  {
   "cell_type": "code",
   "execution_count": 14,
   "metadata": {},
   "outputs": [
    {
     "data": {
      "text/plain": [
       "['阜成门', '车公庄西', '平安里', '西直门']"
      ]
     },
     "execution_count": 14,
     "metadata": {},
     "output_type": "execute_result"
    }
   ],
   "source": [
    "subway_station_connection['车公庄']"
   ]
  },
  {
   "cell_type": "code",
   "execution_count": 15,
   "metadata": {},
   "outputs": [],
   "source": [
    "import networkx as nx\n",
    "import matplotlib.pyplot as plt\n",
    "\n",
    "# %matplotlib inline\n",
    "\n",
    "# 设置中文字体\n",
    "plt.rcParams['font.sans-serif'] = ['SimHei']\n",
    "plt.rcParams['axes.unicode_minus'] = False"
   ]
  },
  {
   "cell_type": "code",
   "execution_count": 16,
   "metadata": {},
   "outputs": [
    {
     "name": "stderr",
     "output_type": "stream",
     "text": [
      "D:\\Users\\ZengYubin\\Anaconda3\\lib\\site-packages\\networkx\\drawing\\nx_pylab.py:611: MatplotlibDeprecationWarning: isinstance(..., numbers.Number)\n",
      "  if cb.is_numlike(alpha):\n"
     ]
    },
    {
     "data": {
      "image/png": "[encoded data removed]",
      "text/plain": [
       "<Figure size 432x288 with 1 Axes>"
      ]
     },
     "metadata": {},
     "output_type": "display_data"
    }
   ],
   "source": [
    "subway_station_connection_graph = nx.Graph(subway_station_connection)\n",
    "nx.draw(subway_station_connection_graph, {subway_station : subway_station_location[subway_station]['coordinate'] for subway_station in subway_station_location.keys()}, node_size=10)"
   ]
  },
  {
   "cell_type": "code",
   "execution_count": 17,
   "metadata": {},
   "outputs": [],
   "source": [
    "from collections import deque\n",
    "def bfs_search(origin, destination, graph=subway_station_connection):\n",
    "    \"\"\"广度优先搜索\"\"\"\n",
    "    \n",
    "    route_queue = deque()\n",
    "    visted_nodes = set()\n",
    "    \n",
    "    route_queue.append([origin])\n",
    "    while route_queue:\n",
    "        route = route_queue.popleft()\n",
    "        if route[-1] in visted_nodes: continue\n",
    "        \n",
    "        for connect_node in graph[route[-1]]:\n",
    "            if connect_node == destination:\n",
    "                return route + [connect_node]\n",
    "            # 检测闭环\n",
    "            if connect_node in route: continue\n",
    "            \n",
    "            route_queue.append(route + [connect_node])\n",
    "        visted_nodes.add(route[-1])"
   ]
  },
  {
   "cell_type": "code",
   "execution_count": 18,
   "metadata": {},
   "outputs": [
    {
     "data": {
      "text/plain": [
       "['石厂',\n",
       " '小园',\n",
       " '栗园庄',\n",
       " '上岸',\n",
       " '桥户营',\n",
       " '四道桥',\n",
       " '金安桥',\n",
       " '苹果园',\n",
       " '杨庄',\n",
       " '西黄村',\n",
       " '廖公庄',\n",
       " '田村',\n",
       " '海淀五路居',\n",
       " '慈寿寺',\n",
       " '花园桥',\n",
       " '白石桥南',\n",
       " '车公庄西',\n",
       " '车公庄',\n",
       " '西直门',\n",
       " '积水潭',\n",
       " '鼓楼大街',\n",
       " '安定门',\n",
       " '雍和宫',\n",
       " '东直门',\n",
       " '三元桥',\n",
       " '3号航站楼']"
      ]
     },
     "execution_count": 18,
     "metadata": {},
     "output_type": "execute_result"
    }
   ],
   "source": [
    "bfs_search('石厂', '3号航站楼')"
   ]
  },
  {
   "cell_type": "markdown",
   "metadata": {},
   "source": [
    "# Optimal search"
   ]
  },
  {
   "cell_type": "code",
   "execution_count": 19,
   "metadata": {},
   "outputs": [],
   "source": [
    "def optimal_search(origin, destination, *, search_strategy, graph=subway_station_connection):\n",
    "    routes = list()\n",
    "    \n",
    "    routes.append([origin])\n",
    "    while True:\n",
    "        route = routes.pop(0)\n",
    "        for connect_node in graph[route[-1]]:\n",
    "            if connect_node in route: continue\n",
    "            routes.append(route + [connect_node])\n",
    "            \n",
    "        if not routes: return\n",
    "        \n",
    "        routes = search_strategy(routes)\n",
    "        if routes[0][-1] == destination:\n",
    "            return routes[0]"
   ]
  },
  {
   "cell_type": "code",
   "execution_count": 20,
   "metadata": {},
   "outputs": [],
   "source": [
    "def search_least_subway_station(subway_station_routes):\n",
    "    \"\"\"最少地铁站\"\"\"\n",
    "    return sorted(subway_station_routes, key=lambda subway_station_route: len(subway_station_route))"
   ]
  },
  {
   "cell_type": "code",
   "execution_count": 21,
   "metadata": {},
   "outputs": [
    {
     "data": {
      "text/plain": [
       "['石厂',\n",
       " '小园',\n",
       " '栗园庄',\n",
       " '上岸',\n",
       " '桥户营',\n",
       " '四道桥',\n",
       " '金安桥',\n",
       " '苹果园',\n",
       " '杨庄',\n",
       " '西黄村',\n",
       " '廖公庄',\n",
       " '田村',\n",
       " '海淀五路居',\n",
       " '慈寿寺',\n",
       " '花园桥',\n",
       " '白石桥南',\n",
       " '车公庄西',\n",
       " '车公庄',\n",
       " '西直门',\n",
       " '积水潭',\n",
       " '鼓楼大街',\n",
       " '安定门',\n",
       " '雍和宫',\n",
       " '东直门',\n",
       " '三元桥',\n",
       " '3号航站楼']"
      ]
     },
     "execution_count": 21,
     "metadata": {},
     "output_type": "execute_result"
    }
   ],
   "source": [
    "optimal_search('石厂', '3号航站楼', search_strategy=search_least_subway_station)"
   ]
  },
  {
   "cell_type": "code",
   "execution_count": 22,
   "metadata": {},
   "outputs": [],
   "source": [
    "def get_subway_station_route_transfer_times(subway_station_route):\n",
    "    transfer_times = 1\n",
    "    for i in range(len(subway_station_route) - 2):\n",
    "        if not (set(subway_station_location[subway_station_route[i]]['subway_lines']) & set(subway_station_location[subway_station_route[i + 1]]['subway_lines']) & set(subway_station_location[subway_station_route[i + 2]]['subway_lines'])):\n",
    "            transfer_times += 1\n",
    "    return transfer_times\n",
    "\n",
    "def search_minimum_transfer(subway_station_routes):\n",
    "    \"\"\"最少换乘\"\"\"\n",
    "    return sorted(subway_station_routes, key=lambda subway_station_route: get_subway_station_route_transfer_times(subway_station_route))"
   ]
  },
  {
   "cell_type": "code",
   "execution_count": 23,
   "metadata": {},
   "outputs": [
    {
     "data": {
      "text/plain": [
       "['石厂',\n",
       " '小园',\n",
       " '栗园庄',\n",
       " '上岸',\n",
       " '桥户营',\n",
       " '四道桥',\n",
       " '金安桥',\n",
       " '苹果园',\n",
       " '杨庄',\n",
       " '西黄村',\n",
       " '廖公庄',\n",
       " '田村',\n",
       " '海淀五路居',\n",
       " '慈寿寺',\n",
       " '花园桥',\n",
       " '白石桥南',\n",
       " '车公庄西',\n",
       " '车公庄',\n",
       " '平安里',\n",
       " '北海北',\n",
       " '南锣鼓巷',\n",
       " '东四',\n",
       " '朝阳门',\n",
       " '东大桥',\n",
       " '呼家楼',\n",
       " '团结湖',\n",
       " '农业展览馆',\n",
       " '亮马桥',\n",
       " '三元桥',\n",
       " '3号航站楼']"
      ]
     },
     "execution_count": 23,
     "metadata": {},
     "output_type": "execute_result"
    }
   ],
   "source": [
    "optimal_search('石厂', '3号航站楼', search_strategy=search_minimum_transfer)"
   ]
  },
  {
   "cell_type": "code",
   "execution_count": 24,
   "metadata": {},
   "outputs": [],
   "source": [
    "import math\n",
    "def geo_distance(origin, destination):\n",
    "    \"\"\"\n",
    "    Calculate the Haversine distance.\n",
    "\n",
    "    Parameters\n",
    "    ----------\n",
    "    origin : tuple of float\n",
    "        (lat, long)\n",
    "    destination : tuple of float\n",
    "        (lat, long)\n",
    "\n",
    "    Returns\n",
    "    -------\n",
    "    distance_in_km : float\n",
    "\n",
    "    Examples\n",
    "    --------\n",
    "    >>> origin = (48.1372, 11.5756)  # Munich\n",
    "    >>> destination = (52.5186, 13.4083)  # Berlin\n",
    "    >>> round(distance(origin, destination), 1)\n",
    "    504.2\n",
    "    \"\"\"\n",
    "    lat1, lon1 = origin\n",
    "    lat2, lon2 = destination\n",
    "    radius = 6371  # km\n",
    "\n",
    "    dlat = math.radians(lat2 - lat1)\n",
    "    dlon = math.radians(lon2 - lon1)\n",
    "    a = (math.sin(dlat / 2) * math.sin(dlat / 2) +\n",
    "         math.cos(math.radians(lat1)) * math.cos(math.radians(lat2)) *\n",
    "         math.sin(dlon / 2) * math.sin(dlon / 2))\n",
    "    c = 2 * math.atan2(math.sqrt(a), math.sqrt(1 - a))\n",
    "    d = radius * c\n",
    "\n",
    "    return d\n",
    "\n",
    "def get_subway_stations_distance(origin, destination):\n",
    "    return geo_distance(subway_station_location[origin]['coordinate'], subway_station_location[destination]['coordinate'])"
   ]
  },
  {
   "cell_type": "code",
   "execution_count": 25,
   "metadata": {},
   "outputs": [
    {
     "data": {
      "text/plain": [
       "2.0463928361333146"
      ]
     },
     "execution_count": 25,
     "metadata": {},
     "output_type": "execute_result"
    }
   ],
   "source": [
    "get_subway_stations_distance('白石桥南', '车公庄西')"
   ]
  },
  {
   "cell_type": "code",
   "execution_count": 27,
   "metadata": {},
   "outputs": [],
   "source": [
    "def get_subway_station_route_distance(subway_station_route):\n",
    "    return sum([get_subway_stations_distance(subway_station_route[i], subway_station_route[i + 1]) for i in range(len(subway_station_route) -1)])\n",
    "\n",
    "def search_shortest_distance(subway_station_routes):\n",
    "    \"\"\"最短距离\"\"\"\n",
    "    return sorted(subway_station_routes, key=lambda subway_station_route: get_subway_station_route_distance(subway_station_route))"
   ]
  },
  {
   "cell_type": "code",
   "execution_count": 29,
   "metadata": {},
   "outputs": [
    {
     "data": {
      "text/plain": [
       "['石厂', '小园', '栗园庄', '上岸', '桥户营', '四道桥', '金安桥', '苹果园', '杨庄', '西黄村', '廖公庄', '田村']"
      ]
     },
     "execution_count": 29,
     "metadata": {},
     "output_type": "execute_result"
    }
   ],
   "source": [
    "optimal_search('石厂', '田村', search_strategy=search_shortest_distance)"
   ]
  },
  {
   "cell_type": "code",
   "execution_count": 30,
   "metadata": {},
   "outputs": [],
   "source": [
    "def search_optimal_path_minimum_transfer_and_shortest_distance(subway_station_routes):\n",
    "    \"\"\"搜索最优路径: 相同换乘情况下, 距离最短\"\"\"\n",
    "    transfer_times_dict = defaultdict(list)\n",
    "    for subway_station_route in subway_station_routes:\n",
    "        transfer_times = get_subway_station_route_transfer_times(subway_station_route)\n",
    "        transfer_times_dict[transfer_times].append(subway_station_route)\n",
    "    transfer_times_list = sorted(transfer_times_dict.keys())\n",
    "    sorted_subway_station_routes = []\n",
    "    for transfer_times in transfer_times_list:\n",
    "        sorted_subway_station_routes += search_shortest_distance(transfer_times_dict[transfer_times])\n",
    "    return sorted_subway_station_routes"
   ]
  },
  {
   "cell_type": "code",
   "execution_count": 31,
   "metadata": {},
   "outputs": [
    {
     "data": {
      "text/plain": [
       "['石厂',\n",
       " '小园',\n",
       " '栗园庄',\n",
       " '上岸',\n",
       " '桥户营',\n",
       " '四道桥',\n",
       " '金安桥',\n",
       " '苹果园',\n",
       " '杨庄',\n",
       " '西黄村',\n",
       " '廖公庄',\n",
       " '田村',\n",
       " '海淀五路居',\n",
       " '慈寿寺',\n",
       " '花园桥',\n",
       " '白石桥南',\n",
       " '车公庄西',\n",
       " '车公庄',\n",
       " '西直门',\n",
       " '积水潭',\n",
       " '鼓楼大街',\n",
       " '安定门',\n",
       " '雍和宫',\n",
       " '东直门',\n",
       " '三元桥',\n",
       " '3号航站楼']"
      ]
     },
     "execution_count": 31,
     "metadata": {},
     "output_type": "execute_result"
    }
   ],
   "source": [
    "optimal_search('石厂', '3号航站楼', search_strategy=search_optimal_path_minimum_transfer_and_shortest_distance)"
   ]
  },
  {
   "cell_type": "code",
   "execution_count": 32,
   "metadata": {},
   "outputs": [],
   "source": [
    "def search_optimal_path_minimum_transfer_and_least_subway_station(subway_station_routes):\n",
    "    \"\"\"搜索最优路径: 相同换乘情况下, 途径地铁站最少\"\"\"\n",
    "    transfer_times_dict = defaultdict(list)\n",
    "    for subway_station_route in subway_station_routes:\n",
    "        transfer_times = get_subway_station_route_transfer_times(subway_station_route)\n",
    "        transfer_times_dict[transfer_times].append(subway_station_route)\n",
    "    transfer_times_list = sorted(transfer_times_dict.keys())\n",
    "    sorted_subway_station_routes = []\n",
    "    for transfer_times in transfer_times_list:\n",
    "        sorted_subway_station_routes += search_least_subway_station(transfer_times_dict[transfer_times])\n",
    "    return sorted_subway_station_routes"
   ]
  },
  {
   "cell_type": "code",
   "execution_count": 33,
   "metadata": {},
   "outputs": [
    {
     "data": {
      "text/plain": [
       "['石厂',\n",
       " '小园',\n",
       " '栗园庄',\n",
       " '上岸',\n",
       " '桥户营',\n",
       " '四道桥',\n",
       " '金安桥',\n",
       " '苹果园',\n",
       " '杨庄',\n",
       " '西黄村',\n",
       " '廖公庄',\n",
       " '田村',\n",
       " '海淀五路居',\n",
       " '慈寿寺',\n",
       " '花园桥',\n",
       " '白石桥南',\n",
       " '车公庄西',\n",
       " '车公庄',\n",
       " '西直门',\n",
       " '积水潭',\n",
       " '鼓楼大街',\n",
       " '安定门',\n",
       " '雍和宫',\n",
       " '东直门',\n",
       " '三元桥',\n",
       " '3号航站楼']"
      ]
     },
     "execution_count": 33,
     "metadata": {},
     "output_type": "execute_result"
    }
   ],
   "source": [
    "optimal_search('石厂', '3号航站楼', search_strategy=search_optimal_path_minimum_transfer_and_least_subway_station)"
   ]
  },
  {
   "cell_type": "markdown",
   "metadata": {},
   "source": [
    "### Compare your results with results obtained by using some apps such as Baidu map, A map, Google map or Apple map. If there is difference, try to explanate it.\n",
    "找到的路线与百度地图相同\n"
   ]
  }
 ],
 "metadata": {
  "kernelspec": {
   "display_name": "Python 3",
   "language": "python",
   "name": "python3"
  },
  "language_info": {
   "codemirror_mode": {
    "name": "ipython",
    "version": 3
   },
   "file_extension": ".py",
   "mimetype": "text/x-python",
   "name": "python",
   "nbconvert_exporter": "python",
   "pygments_lexer": "ipython3",
   "version": "3.7.3"
  }
 },
 "nbformat": 4,
 "nbformat_minor": 2
}

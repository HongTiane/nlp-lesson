{
 "cells": [
  {
   "cell_type": "markdown",
   "metadata": {},
   "source": [
    "# Part 1 Graph"
   ]
  },
  {
   "cell_type": "code",
   "execution_count": 1,
   "metadata": {},
   "outputs": [],
   "source": [
    "coordination_source = \"\"\"\n",
    "{name:'兰州', geoCoord:[103.73, 36.03]},\n",
    "{name:'嘉峪关', geoCoord:[98.17, 39.47]},\n",
    "{name:'西宁', geoCoord:[101.74, 36.56]},\n",
    "{name:'成都', geoCoord:[104.06, 30.67]},\n",
    "{name:'石家庄', geoCoord:[114.48, 38.03]},\n",
    "{name:'拉萨', geoCoord:[102.73, 25.04]},\n",
    "{name:'贵阳', geoCoord:[106.71, 26.57]},\n",
    "{name:'武汉', geoCoord:[114.31, 30.52]},\n",
    "{name:'郑州', geoCoord:[113.65, 34.76]},\n",
    "{name:'济南', geoCoord:[117, 36.65]},\n",
    "{name:'南京', geoCoord:[118.78, 32.04]},\n",
    "{name:'合肥', geoCoord:[117.27, 31.86]},\n",
    "{name:'杭州', geoCoord:[120.19, 30.26]},\n",
    "{name:'南昌', geoCoord:[115.89, 28.68]},\n",
    "{name:'福州', geoCoord:[119.3, 26.08]},\n",
    "{name:'广州', geoCoord:[113.23, 23.16]},\n",
    "{name:'长沙', geoCoord:[113, 28.21]},\n",
    "//{name:'海口', geoCoord:[110.35, 20.02]},\n",
    "{name:'沈阳', geoCoord:[123.38, 41.8]},\n",
    "{name:'长春', geoCoord:[125.35, 43.88]},\n",
    "{name:'哈尔滨', geoCoord:[126.63, 45.75]},\n",
    "{name:'太原', geoCoord:[112.53, 37.87]},\n",
    "{name:'西安', geoCoord:[108.95, 34.27]},\n",
    "//{name:'台湾', geoCoord:[121.30, 25.03]},\n",
    "{name:'北京', geoCoord:[116.46, 39.92]},\n",
    "{name:'上海', geoCoord:[121.48, 31.22]},\n",
    "{name:'重庆', geoCoord:[106.54, 29.59]},\n",
    "{name:'天津', geoCoord:[117.2, 39.13]},\n",
    "{name:'呼和浩特', geoCoord:[111.65, 40.82]},\n",
    "{name:'南宁', geoCoord:[108.33, 22.84]},\n",
    "//{name:'西藏', geoCoord:[91.11, 29.97]},\n",
    "{name:'银川', geoCoord:[106.27, 38.47]},\n",
    "{name:'乌鲁木齐', geoCoord:[87.68, 43.77]},\n",
    "{name:'香港', geoCoord:[114.17, 22.28]},\n",
    "{name:'澳门', geoCoord:[113.54, 22.19]}\n",
    "\"\"\""
   ]
  },
  {
   "cell_type": "code",
   "execution_count": 2,
   "metadata": {},
   "outputs": [],
   "source": [
    "import re\n",
    "def get_cities_coordinate(coordination_source, separator='\\n', skip_starts='//'):\n",
    "    p = re.compile(r\"^{name:'(\\w+)', geoCoord:\\[(\\d+(?:.\\d+)*), (\\d+(?:.\\d+)*)\\]}[,]*$\")\n",
    "    cities_coordinate = {}\n",
    "    for line in coordination_source.split(separator):\n",
    "        line = line.strip()\n",
    "        if not line or line.startswith(skip_starts): continue\n",
    "        m = p.match(line)\n",
    "        if m is None: continue\n",
    "        city, x_coordinate, y_coordinate = m.groups()\n",
    "        cities_coordinate[city] = (float(x_coordinate), float(y_coordinate))\n",
    "    return cities_coordinate"
   ]
  },
  {
   "cell_type": "code",
   "execution_count": 3,
   "metadata": {},
   "outputs": [],
   "source": [
    "cities_coordinate = get_cities_coordinate(coordination_source)"
   ]
  },
  {
   "cell_type": "code",
   "execution_count": 4,
   "metadata": {},
   "outputs": [
    {
     "data": {
      "text/plain": [
       "{'兰州': (103.73, 36.03),\n",
       " '嘉峪关': (98.17, 39.47),\n",
       " '西宁': (101.74, 36.56),\n",
       " '成都': (104.06, 30.67),\n",
       " '石家庄': (114.48, 38.03),\n",
       " '拉萨': (102.73, 25.04),\n",
       " '贵阳': (106.71, 26.57),\n",
       " '武汉': (114.31, 30.52),\n",
       " '郑州': (113.65, 34.76),\n",
       " '济南': (117.0, 36.65),\n",
       " '南京': (118.78, 32.04),\n",
       " '合肥': (117.27, 31.86),\n",
       " '杭州': (120.19, 30.26),\n",
       " '南昌': (115.89, 28.68),\n",
       " '福州': (119.3, 26.08),\n",
       " '广州': (113.23, 23.16),\n",
       " '长沙': (113.0, 28.21),\n",
       " '沈阳': (123.38, 41.8),\n",
       " '长春': (125.35, 43.88),\n",
       " '哈尔滨': (126.63, 45.75),\n",
       " '太原': (112.53, 37.87),\n",
       " '西安': (108.95, 34.27),\n",
       " '北京': (116.46, 39.92),\n",
       " '上海': (121.48, 31.22),\n",
       " '重庆': (106.54, 29.59),\n",
       " '天津': (117.2, 39.13),\n",
       " '呼和浩特': (111.65, 40.82),\n",
       " '南宁': (108.33, 22.84),\n",
       " '银川': (106.27, 38.47),\n",
       " '乌鲁木齐': (87.68, 43.77),\n",
       " '香港': (114.17, 22.28),\n",
       " '澳门': (113.54, 22.19)}"
      ]
     },
     "execution_count": 4,
     "metadata": {},
     "output_type": "execute_result"
    }
   ],
   "source": [
    "cities_coordinate"
   ]
  },
  {
   "cell_type": "code",
   "execution_count": 5,
   "metadata": {},
   "outputs": [],
   "source": [
    "import math\n",
    "def geo_distance(origin, destination):\n",
    "    \"\"\"\n",
    "    Calculate the Haversine distance.\n",
    "\n",
    "    Parameters\n",
    "    ----------\n",
    "    origin : tuple of float\n",
    "        (lat, long)\n",
    "    destination : tuple of float\n",
    "        (lat, long)\n",
    "\n",
    "    Returns\n",
    "    -------\n",
    "    distance_in_km : float\n",
    "\n",
    "    Examples\n",
    "    --------\n",
    "    >>> origin = (48.1372, 11.5756)  # Munich\n",
    "    >>> destination = (52.5186, 13.4083)  # Berlin\n",
    "    >>> round(distance(origin, destination), 1)\n",
    "    504.2\n",
    "    \"\"\"\n",
    "    lat1, lon1 = origin\n",
    "    lat2, lon2 = destination\n",
    "    radius = 6371  # km\n",
    "\n",
    "    dlat = math.radians(lat2 - lat1)\n",
    "    dlon = math.radians(lon2 - lon1)\n",
    "    a = (math.sin(dlat / 2) * math.sin(dlat / 2) +\n",
    "         math.cos(math.radians(lat1)) * math.cos(math.radians(lat2)) *\n",
    "         math.sin(dlon / 2) * math.sin(dlon / 2))\n",
    "    c = 2 * math.atan2(math.sqrt(a), math.sqrt(1 - a))\n",
    "    d = radius * c\n",
    "\n",
    "    return d\n",
    "\n",
    "def get_cities_distance(origin_city, destination_city):\n",
    "    return geo_distance(cities_coordinate[origin_city], cities_coordinate[destination_city]) "
   ]
  },
  {
   "cell_type": "code",
   "execution_count": 6,
   "metadata": {},
   "outputs": [
    {
     "data": {
      "text/plain": [
       "1165.8679943488457"
      ]
     },
     "execution_count": 6,
     "metadata": {},
     "output_type": "execute_result"
    }
   ],
   "source": [
    "get_cities_distance('乌鲁木齐', '嘉峪关')"
   ]
  },
  {
   "cell_type": "markdown",
   "metadata": {},
   "source": [
    "# Draw the graph"
   ]
  },
  {
   "cell_type": "code",
   "execution_count": 7,
   "metadata": {},
   "outputs": [],
   "source": [
    "import networkx as nx\n",
    "import matplotlib.pyplot as plt\n",
    "\n",
    "# %matplotlib inline\n",
    "\n",
    "# 设置中文字体\n",
    "plt.rcParams['font.sans-serif'] = ['SimHei']\n",
    "plt.rcParams['axes.unicode_minus'] = False"
   ]
  },
  {
   "cell_type": "code",
   "execution_count": 8,
   "metadata": {},
   "outputs": [
    {
     "data": {
      "image/png": "[encoded data removed]",
      "text/plain": [
       "<Figure size 432x288 with 1 Axes>"
      ]
     },
     "metadata": {},
     "output_type": "display_data"
    }
   ],
   "source": [
    "city_graph = nx.Graph()\n",
    "city_graph.add_nodes_from(list(cities_coordinate.keys()))\n",
    "\n",
    "nx.draw(city_graph, cities_coordinate, with_labels=True, width=200, node_size=60)"
   ]
  },
  {
   "cell_type": "code",
   "execution_count": 9,
   "metadata": {},
   "outputs": [],
   "source": [
    "from collections import defaultdict\n",
    "\n",
    "def build_cities_connection(cities_coordinate, threshold = 700):\n",
    "    cities_connection = defaultdict(list)\n",
    "    for city in cities_coordinate.keys():\n",
    "        for connect_city in cities_coordinate.keys():\n",
    "            if connect_city == city or connect_city in cities_connection[city]: continue\n",
    "            \n",
    "            if get_cities_distance(city, connect_city) <= threshold: \n",
    "                cities_connection[city].append(connect_city)\n",
    "    return cities_connection"
   ]
  },
  {
   "cell_type": "code",
   "execution_count": 10,
   "metadata": {},
   "outputs": [],
   "source": [
    "cities_connection = build_cities_connection(cities_coordinate)"
   ]
  },
  {
   "cell_type": "code",
   "execution_count": 11,
   "metadata": {},
   "outputs": [
    {
     "data": {
      "text/plain": [
       "defaultdict(list,\n",
       "            {'兰州': ['嘉峪关', '西宁', '成都', '拉萨', '贵阳', '西安', '重庆', '南宁', '银川'],\n",
       "             '嘉峪关': ['兰州', '西宁', '成都', '拉萨'],\n",
       "             '西宁': ['兰州', '嘉峪关', '成都', '拉萨', '贵阳', '重庆', '银川'],\n",
       "             '成都': ['兰州', '嘉峪关', '西宁', '拉萨', '贵阳', '西安', '重庆', '南宁', '银川'],\n",
       "             '石家庄': ['武汉',\n",
       "              '郑州',\n",
       "              '济南',\n",
       "              '南京',\n",
       "              '合肥',\n",
       "              '南昌',\n",
       "              '广州',\n",
       "              '长沙',\n",
       "              '太原',\n",
       "              '西安',\n",
       "              '北京',\n",
       "              '天津',\n",
       "              '呼和浩特'],\n",
       "             '拉萨': ['兰州', '嘉峪关', '西宁', '成都', '贵阳', '重庆', '南宁', '银川'],\n",
       "             '贵阳': ['兰州', '西宁', '成都', '拉萨', '西安', '重庆', '南宁', '银川'],\n",
       "             '武汉': ['石家庄',\n",
       "              '郑州',\n",
       "              '济南',\n",
       "              '南京',\n",
       "              '合肥',\n",
       "              '杭州',\n",
       "              '南昌',\n",
       "              '福州',\n",
       "              '广州',\n",
       "              '长沙',\n",
       "              '太原',\n",
       "              '西安',\n",
       "              '北京',\n",
       "              '天津',\n",
       "              '呼和浩特',\n",
       "              '香港',\n",
       "              '澳门'],\n",
       "             '郑州': ['石家庄',\n",
       "              '武汉',\n",
       "              '济南',\n",
       "              '南京',\n",
       "              '合肥',\n",
       "              '南昌',\n",
       "              '广州',\n",
       "              '长沙',\n",
       "              '太原',\n",
       "              '西安',\n",
       "              '北京',\n",
       "              '天津',\n",
       "              '呼和浩特',\n",
       "              '香港',\n",
       "              '澳门'],\n",
       "             '济南': ['石家庄',\n",
       "              '武汉',\n",
       "              '郑州',\n",
       "              '南京',\n",
       "              '合肥',\n",
       "              '杭州',\n",
       "              '南昌',\n",
       "              '福州',\n",
       "              '长沙',\n",
       "              '太原',\n",
       "              '北京',\n",
       "              '上海',\n",
       "              '天津',\n",
       "              '呼和浩特'],\n",
       "             '南京': ['石家庄',\n",
       "              '武汉',\n",
       "              '郑州',\n",
       "              '济南',\n",
       "              '合肥',\n",
       "              '杭州',\n",
       "              '南昌',\n",
       "              '福州',\n",
       "              '长沙',\n",
       "              '北京',\n",
       "              '上海',\n",
       "              '天津'],\n",
       "             '合肥': ['石家庄',\n",
       "              '武汉',\n",
       "              '郑州',\n",
       "              '济南',\n",
       "              '南京',\n",
       "              '杭州',\n",
       "              '南昌',\n",
       "              '福州',\n",
       "              '广州',\n",
       "              '长沙',\n",
       "              '太原',\n",
       "              '北京',\n",
       "              '上海',\n",
       "              '天津',\n",
       "              '香港',\n",
       "              '澳门'],\n",
       "             '杭州': ['武汉', '济南', '南京', '合肥', '南昌', '福州', '北京', '上海', '天津'],\n",
       "             '南昌': ['石家庄',\n",
       "              '武汉',\n",
       "              '郑州',\n",
       "              '济南',\n",
       "              '南京',\n",
       "              '合肥',\n",
       "              '杭州',\n",
       "              '福州',\n",
       "              '广州',\n",
       "              '长沙',\n",
       "              '太原',\n",
       "              '北京',\n",
       "              '上海',\n",
       "              '天津',\n",
       "              '香港',\n",
       "              '澳门'],\n",
       "             '福州': ['武汉',\n",
       "              '济南',\n",
       "              '南京',\n",
       "              '合肥',\n",
       "              '杭州',\n",
       "              '南昌',\n",
       "              '广州',\n",
       "              '上海',\n",
       "              '香港',\n",
       "              '澳门'],\n",
       "             '广州': ['石家庄',\n",
       "              '武汉',\n",
       "              '郑州',\n",
       "              '合肥',\n",
       "              '南昌',\n",
       "              '福州',\n",
       "              '长沙',\n",
       "              '太原',\n",
       "              '西安',\n",
       "              '南宁',\n",
       "              '香港',\n",
       "              '澳门'],\n",
       "             '长沙': ['石家庄',\n",
       "              '武汉',\n",
       "              '郑州',\n",
       "              '济南',\n",
       "              '南京',\n",
       "              '合肥',\n",
       "              '南昌',\n",
       "              '广州',\n",
       "              '太原',\n",
       "              '西安',\n",
       "              '北京',\n",
       "              '天津',\n",
       "              '呼和浩特',\n",
       "              '南宁',\n",
       "              '香港',\n",
       "              '澳门'],\n",
       "             '沈阳': ['长春', '哈尔滨', '上海'],\n",
       "             '长春': ['沈阳', '哈尔滨'],\n",
       "             '哈尔滨': ['沈阳', '长春'],\n",
       "             '太原': ['石家庄',\n",
       "              '武汉',\n",
       "              '郑州',\n",
       "              '济南',\n",
       "              '合肥',\n",
       "              '南昌',\n",
       "              '广州',\n",
       "              '长沙',\n",
       "              '西安',\n",
       "              '北京',\n",
       "              '天津',\n",
       "              '呼和浩特',\n",
       "              '银川',\n",
       "              '澳门'],\n",
       "             '西安': ['兰州',\n",
       "              '成都',\n",
       "              '石家庄',\n",
       "              '贵阳',\n",
       "              '武汉',\n",
       "              '郑州',\n",
       "              '广州',\n",
       "              '长沙',\n",
       "              '太原',\n",
       "              '重庆',\n",
       "              '呼和浩特',\n",
       "              '南宁',\n",
       "              '银川'],\n",
       "             '北京': ['石家庄',\n",
       "              '武汉',\n",
       "              '郑州',\n",
       "              '济南',\n",
       "              '南京',\n",
       "              '合肥',\n",
       "              '杭州',\n",
       "              '南昌',\n",
       "              '长沙',\n",
       "              '太原',\n",
       "              '天津',\n",
       "              '呼和浩特'],\n",
       "             '上海': ['济南', '南京', '合肥', '杭州', '南昌', '福州', '沈阳', '天津'],\n",
       "             '重庆': ['兰州', '西宁', '成都', '拉萨', '贵阳', '西安', '呼和浩特', '南宁', '银川'],\n",
       "             '天津': ['石家庄',\n",
       "              '武汉',\n",
       "              '郑州',\n",
       "              '济南',\n",
       "              '南京',\n",
       "              '合肥',\n",
       "              '杭州',\n",
       "              '南昌',\n",
       "              '长沙',\n",
       "              '太原',\n",
       "              '北京',\n",
       "              '上海',\n",
       "              '呼和浩特'],\n",
       "             '呼和浩特': ['石家庄',\n",
       "              '武汉',\n",
       "              '郑州',\n",
       "              '济南',\n",
       "              '长沙',\n",
       "              '太原',\n",
       "              '西安',\n",
       "              '北京',\n",
       "              '重庆',\n",
       "              '天津',\n",
       "              '银川'],\n",
       "             '南宁': ['兰州',\n",
       "              '成都',\n",
       "              '拉萨',\n",
       "              '贵阳',\n",
       "              '广州',\n",
       "              '长沙',\n",
       "              '西安',\n",
       "              '重庆',\n",
       "              '银川',\n",
       "              '香港',\n",
       "              '澳门'],\n",
       "             '银川': ['兰州',\n",
       "              '西宁',\n",
       "              '成都',\n",
       "              '拉萨',\n",
       "              '贵阳',\n",
       "              '太原',\n",
       "              '西安',\n",
       "              '重庆',\n",
       "              '呼和浩特',\n",
       "              '南宁'],\n",
       "             '乌鲁木齐': [],\n",
       "             '香港': ['武汉', '郑州', '合肥', '南昌', '福州', '广州', '长沙', '南宁', '澳门'],\n",
       "             '澳门': ['武汉',\n",
       "              '郑州',\n",
       "              '合肥',\n",
       "              '南昌',\n",
       "              '福州',\n",
       "              '广州',\n",
       "              '长沙',\n",
       "              '太原',\n",
       "              '南宁',\n",
       "              '香港']})"
      ]
     },
     "execution_count": 11,
     "metadata": {},
     "output_type": "execute_result"
    }
   ],
   "source": [
    "cities_connection"
   ]
  },
  {
   "cell_type": "code",
   "execution_count": 12,
   "metadata": {},
   "outputs": [
    {
     "name": "stderr",
     "output_type": "stream",
     "text": [
      "D:\\Users\\ZengYubin\\Anaconda3\\lib\\site-packages\\networkx\\drawing\\nx_pylab.py:611: MatplotlibDeprecationWarning: isinstance(..., numbers.Number)\n",
      "  if cb.is_numlike(alpha):\n"
     ]
    },
    {
     "data": {
      "image/png": "[encoded data removed]",
      "text/plain": [
       "<Figure size 432x288 with 1 Axes>"
      ]
     },
     "metadata": {},
     "output_type": "display_data"
    }
   ],
   "source": [
    "cities_connection_graph = nx.Graph(cities_connection)\n",
    "nx.draw(cities_connection_graph, cities_coordinate, with_labels=True, node_size=10)"
   ]
  },
  {
   "cell_type": "markdown",
   "metadata": {},
   "source": [
    "# BFS & DFS"
   ]
  },
  {
   "cell_type": "code",
   "execution_count": 13,
   "metadata": {},
   "outputs": [],
   "source": [
    "from collections import deque\n",
    "def bfs_search(origin, destination, graph=cities_connection):\n",
    "    \"\"\"广度优先搜索\"\"\"\n",
    "    \n",
    "    city_route_queue = deque()\n",
    "    visted_cities = set()\n",
    "    \n",
    "    city_route_queue.append([origin])\n",
    "    while city_route_queue:\n",
    "        city_route = city_route_queue.popleft()\n",
    "        if city_route[-1] in visted_cities: continue\n",
    "        \n",
    "        for connect_city in graph[city_route[-1]]:\n",
    "            if connect_city == destination:\n",
    "                return city_route + [connect_city]\n",
    "            \n",
    "            if connect_city in city_route: continue\n",
    "            \n",
    "            city_route_queue.append(city_route + [connect_city])\n",
    "        visted_cities.add(city_route[-1])"
   ]
  },
  {
   "cell_type": "code",
   "execution_count": 14,
   "metadata": {},
   "outputs": [
    {
     "data": {
      "text/plain": [
       "['北京', '石家庄', '广州']"
      ]
     },
     "execution_count": 14,
     "metadata": {},
     "output_type": "execute_result"
    }
   ],
   "source": [
    "bfs_search('北京', '广州')"
   ]
  },
  {
   "cell_type": "code",
   "execution_count": 15,
   "metadata": {},
   "outputs": [],
   "source": [
    "def dfs_search(origin, destination, graph=cities_connection):\n",
    "    \"\"\"深度优先搜索\"\"\"\n",
    "    \n",
    "    city_route_stack = deque()\n",
    "    visted_cities = set()\n",
    "    \n",
    "    city_route_stack.append([origin])\n",
    "    while city_route_stack:\n",
    "        city_route = city_route_stack.pop()\n",
    "        if city_route[-1] in visted_cities: continue\n",
    "        \n",
    "        for connect_city in graph[city_route[-1]]:\n",
    "            if connect_city == destination:\n",
    "                return city_route + [connect_city]\n",
    "            \n",
    "            if connect_city in city_route: continue\n",
    "            \n",
    "            city_route_stack.append(city_route + [connect_city])\n",
    "        visted_cities.add(city_route[-1])"
   ]
  },
  {
   "cell_type": "code",
   "execution_count": 16,
   "metadata": {},
   "outputs": [
    {
     "data": {
      "text/plain": [
       "['北京', '呼和浩特', '银川', '南宁', '广州']"
      ]
     },
     "execution_count": 16,
     "metadata": {},
     "output_type": "execute_result"
    }
   ],
   "source": [
    "dfs_search('北京', '广州')"
   ]
  },
  {
   "cell_type": "markdown",
   "metadata": {},
   "source": [
    "# Optimal search"
   ]
  },
  {
   "cell_type": "code",
   "execution_count": 17,
   "metadata": {},
   "outputs": [],
   "source": [
    "def bfs_optimal_search(origin, destination, *, search_strategy, graph=cities_connection):\n",
    "    city_routes = list()\n",
    "    \n",
    "    city_routes.append([origin])\n",
    "    while True:\n",
    "        city_route = city_routes.pop(0)\n",
    "        for connect_city in graph[city_route[-1]]:\n",
    "            if connect_city in city_route: continue\n",
    "            city_routes.append(city_route + [connect_city])\n",
    "            \n",
    "        if not city_routes: return\n",
    "        \n",
    "        city_routes = search_strategy(city_routes)\n",
    "        if city_routes[0][-1] == destination:\n",
    "            return city_routes[0]"
   ]
  },
  {
   "cell_type": "code",
   "execution_count": 18,
   "metadata": {},
   "outputs": [],
   "source": [
    "def search_minimum_distance(city_routes):\n",
    "    return sorted(city_routes, key=lambda city_route: sum([get_cities_distance(city_route[i], city_route[i + 1]) for i in range(len(city_route) - 1)]))"
   ]
  },
  {
   "cell_type": "code",
   "execution_count": 19,
   "metadata": {},
   "outputs": [
    {
     "data": {
      "text/plain": [
       "[['北京', '广州'], ['哈尔滨', '上海']]"
      ]
     },
     "execution_count": 19,
     "metadata": {},
     "output_type": "execute_result"
    }
   ],
   "source": [
    "search_minimum_distance([['北京', '广州'], ['哈尔滨', '上海']])"
   ]
  },
  {
   "cell_type": "code",
   "execution_count": 20,
   "metadata": {},
   "outputs": [
    {
     "data": {
      "text/plain": [
       "['北京', '武汉', '广州']"
      ]
     },
     "execution_count": 20,
     "metadata": {},
     "output_type": "execute_result"
    }
   ],
   "source": [
    "bfs_optimal_search('北京', '广州', search_strategy=search_minimum_distance)"
   ]
  },
  {
   "cell_type": "markdown",
   "metadata": {},
   "source": [
    "# Machine Learning"
   ]
  },
  {
   "cell_type": "code",
   "execution_count": 21,
   "metadata": {},
   "outputs": [],
   "source": [
    "from sklearn.datasets import load_boston"
   ]
  },
  {
   "cell_type": "code",
   "execution_count": 22,
   "metadata": {},
   "outputs": [],
   "source": [
    "dataset = load_boston()"
   ]
  },
  {
   "cell_type": "code",
   "execution_count": 23,
   "metadata": {},
   "outputs": [
    {
     "data": {
      "text/plain": [
       "array(['CRIM', 'ZN', 'INDUS', 'CHAS', 'NOX', 'RM', 'AGE', 'DIS', 'RAD',\n",
       "       'TAX', 'PTRATIO', 'B', 'LSTAT'], dtype='<U7')"
      ]
     },
     "execution_count": 23,
     "metadata": {},
     "output_type": "execute_result"
    }
   ],
   "source": [
    "dataset.feature_names"
   ]
  },
  {
   "cell_type": "code",
   "execution_count": 24,
   "metadata": {},
   "outputs": [],
   "source": [
    "x, y = dataset['data'], dataset['target']"
   ]
  },
  {
   "cell_type": "code",
   "execution_count": 25,
   "metadata": {},
   "outputs": [],
   "source": [
    "x_rm = x[:, 5]"
   ]
  },
  {
   "cell_type": "code",
   "execution_count": 26,
   "metadata": {},
   "outputs": [
    {
     "data": {
      "text/plain": [
       "<matplotlib.collections.PathCollection at 0x1ec745b0390>"
      ]
     },
     "execution_count": 26,
     "metadata": {},
     "output_type": "execute_result"
    },
    {
     "data": {
      "image/png": "[encoded data removed]",
      "text/plain": [
       "<Figure size 432x288 with 1 Axes>"
      ]
     },
     "metadata": {
      "needs_background": "light"
     },
     "output_type": "display_data"
    }
   ],
   "source": [
    "plt.scatter(x_rm, y)"
   ]
  },
  {
   "cell_type": "markdown",
   "metadata": {},
   "source": [
    "# Linear Regression "
   ]
  },
  {
   "cell_type": "markdown",
   "metadata": {},
   "source": [
    "### linear function\n",
    "$$ y = k*rm + b$$"
   ]
  },
  {
   "cell_type": "code",
   "execution_count": 27,
   "metadata": {},
   "outputs": [],
   "source": [
    "def price(rm, k, b):\n",
    "    return k * rm + b"
   ]
  },
  {
   "cell_type": "markdown",
   "metadata": {},
   "source": [
    "### loss function(mean square loss)\n",
    "$$ loss = \\frac{1}{n} \\sum{(y_i - \\hat{y_i})}^2 = \\frac{1}{n} \\sum{(y_i - (kx_i + b_i))}^2$$"
   ]
  },
  {
   "cell_type": "code",
   "execution_count": 28,
   "metadata": {},
   "outputs": [],
   "source": [
    "def loss(y, y_hat):\n",
    "    return sum([(y[i] - y_hat[i])**2 for i in range(len(y))]) / len(y)"
   ]
  },
  {
   "cell_type": "markdown",
   "metadata": {},
   "source": [
    "### gradient descent\n",
    "#### partial derivatives\n",
    "$$ \\frac{\\partial{loss}}{\\partial{k}} = -\\frac{2}{n}\\sum(y_i - \\hat{y_i})x_i$$\n",
    "\n",
    "$$ \\frac{\\partial{loss}}{\\partial{b}} = -\\frac{2}{n}\\sum(y_i - \\hat{y_i})$$"
   ]
  },
  {
   "cell_type": "code",
   "execution_count": 29,
   "metadata": {},
   "outputs": [],
   "source": [
    "def partial_derivative_k(x, y, y_hat):\n",
    "    n = len(y)\n",
    "    return -2 * sum([((y[i] - y_hat[i]) * x[i]) for i in range(n)]) / n"
   ]
  },
  {
   "cell_type": "code",
   "execution_count": 30,
   "metadata": {},
   "outputs": [],
   "source": [
    "def partial_derivative_b(y, y_hat):\n",
    "    n = len(y)\n",
    "    return -2 * sum([(y[i] - y_hat[i]) for i in range(n)]) / n"
   ]
  },
  {
   "cell_type": "markdown",
   "metadata": {},
   "source": [
    "## training model "
   ]
  },
  {
   "cell_type": "code",
   "execution_count": 31,
   "metadata": {},
   "outputs": [],
   "source": [
    "import random\n",
    "def train(iteration_num, learning_rate=1e-3):\n",
    "    #initialized parameters\n",
    "    k = random.random() * 200 - 100  # -100 100\n",
    "    b = random.random() * 200 - 100  # -100 100\n",
    "    print(\"k={}, b={}\".format(k, b))\n",
    "    \n",
    "    losses = []\n",
    "    for i in range(iteration_num):\n",
    "\n",
    "        prices = [price(rm, k, b) for rm in x_rm]\n",
    "\n",
    "        losses.append(loss(y, prices))\n",
    "\n",
    "        k = k + (-1 * partial_derivative_k(x_rm, y, prices)) * learning_rate\n",
    "        b = b + (-1 * partial_derivative_b(y, prices)) * learning_rate\n",
    "        print(\"k={}, b={}\".format(k, b))\n",
    "    \n",
    "    return k, b, losses"
   ]
  },
  {
   "cell_type": "code",
   "execution_count": 32,
   "metadata": {},
   "outputs": [
    {
     "name": "stdout",
     "output_type": "stream",
     "text": [
      "k=20.980383731905846, b=-17.27542756211622\n",
      "k=19.811730503645805, b=-17.45951917646651\n",
      "k=18.738858478942387, b=-17.628553491057673\n",
      "k=17.753917947268917, b=-17.783764520180295\n",
      "k=16.849702518000527, b=-17.92628514497497\n",
      "k=16.019596397387655, b=-18.057155401759346\n",
      "k=15.257525986424223, b=-18.177330091088646\n",
      "k=14.557915445493226, b=-18.287685763218636\n",
      "k=13.915645900694127, b=-18.38902713107779\n",
      "k=13.326017993399454, b=-18.48209295766684\n",
      "k=12.78471749904757, b=-18.56756146095886\n",
      "k=12.287783763633607, b=-18.646055275842905\n",
      "k=11.831580726975215, b=-18.718146009413548\n",
      "k=11.412770320755032, b=-18.784358422933455\n",
      "k=11.028288046716002, b=-18.845174271064895\n",
      "k=10.675320556335972, b=-18.901035826458568\n",
      "k=10.35128506795113, b=-18.952349115486133\n",
      "k=10.053810470740903, b=-18.999486888789594\n",
      "k=9.78071997732825, b=-19.042791348380465\n",
      "k=9.530015198079196, b=-19.082576651240633\n",
      "k=9.299861520586804, b=-19.119131207741596\n",
      "k=9.08857468737372, b=-19.15271979169767\n",
      "k=8.89460847361377, b=-19.18358547749062\n",
      "k=8.716543374720967, b=-19.211951418438026\n",
      "k=8.553076221042666, b=-19.23802247941616\n",
      "k=8.403010643676414, b=-19.261986735681916\n",
      "k=8.265248321656966, b=-19.284016848859395\n",
      "k=8.138780946476627, b=-19.304271330158027\n",
      "k=8.022682845150117, b=-19.32289570006419\n",
      "k=7.91610420785322, b=-19.340023552990736\n",
      "k=7.81826487058762, b=-19.355777534673603\n",
      "k=7.728448607384958, b=-19.370270239466272\n",
      "k=7.645997890291035, b=-19.383605034096824\n",
      "k=7.570309078793427, b=-19.395876813914292\n",
      "k=7.500828003497641, b=-19.407172697157176\n",
      "k=7.437045911741338, b=-19.417572662323426\n",
      "k=7.378495745484125, b=-19.427150133305044\n",
      "k=7.324748724241411, b=-19.43597251656821\n",
      "k=7.275411208062554, b=-19.44410169430901\n",
      "k=7.230121817602389, b=-19.4515944771928\n",
      "k=7.188548790216149, b=-19.458503019989486\n",
      "k=7.1503875527345695, b=-19.46487520314558\n",
      "k=7.1153584931612475, b=-19.470754983084685\n",
      "k=7.083204914989653, b=-19.476182713799208\n",
      "k=7.053691159173281, b=-19.481195442086193\n",
      "k=7.026600880008985, b=-19.485827178587197\n",
      "k=7.00173546231961, b=-19.490109146615204\n",
      "k=6.9789125683557955, b=-19.49407001058902\n",
      "k=6.957964803785854, b=-19.497736085746443\n",
      "k=6.938738493013929, b=-19.501131530670442\n",
      "k=6.921092554866456, b=-19.504278524036952\n",
      "k=6.9048974704212975, b=-19.507197426877372\n",
      "k=6.890034335428034, b=-19.509906931542893\n",
      "k=6.87639399038676, b=-19.51242419846052\n",
      "k=6.863876221920942, b=-19.514764981681303\n",
      "k=6.852389029601435, b=-19.51694374413934\n",
      "k=6.841847952857646, b=-19.51897376346473\n",
      "k=6.832175453051432, b=-19.5208672291247\n",
      "k=6.82330034619288, b=-19.522635331603567\n",
      "k=6.815157282147638, b=-19.524288344273966\n",
      "k=6.807686266525606, b=-19.52583569855839\n",
      "k=6.8008322217530495, b=-19.52728605293087\n",
      "k=6.794544584116868, b=-19.528647356263665\n",
      "k=6.7887769338329464, b=-19.52992690598239\n",
      "k=6.783486655432102, b=-19.531131401455056\n",
      "k=6.778634625978971, b=-19.532266993005667\n",
      "k=6.774184928842787, b=-19.533339326910877\n",
      "k=6.770104590925963, b=-19.534353586709006\n",
      "k=6.766363341428007, b=-19.53531453112357\n",
      "k=6.762933390379833, b=-19.536226528878814\n",
      "k=6.7597892253282135, b=-19.537093590661936\n",
      "k=6.756907424682874, b=-19.537919398465885\n",
      "k=6.754266486360649, b=-19.53870733252736\n",
      "k=6.7518466704730455, b=-19.539460496057124\n",
      "k=6.749629854906276, b=-19.540181737943552\n",
      "k=6.74759940273718, b=-19.540873673595524\n",
      "k=6.745740040515012, b=-19.541538704077144\n",
      "k=6.74403774651861, b=-19.54217903367428\n",
      "k=6.742479648171388, b=-19.54279668602145\n",
      "k=6.741053927863654, b=-19.54339351890702\n",
      "k=6.739749736493219, b=-19.543971237865076\n",
      "k=6.738557114091747, b=-19.544531408653345\n",
      "k=6.737466916956144, b=-19.54507546870853\n",
      "k=6.73647075075187, b=-19.545604737662785\n",
      "k=6.73556090909873, b=-19.546120426998367\n",
      "k=6.734730317189855, b=-19.546623648910998\n",
      "k=6.733972480031359, b=-19.547115424446858\n",
      "k=6.733281434923999, b=-19.547596690972714\n",
      "k=6.732651707839175, b=-19.54806830903383\n",
      "k=6.732078273370129, b=-19.54853106864984\n",
      "k=6.731556517965312, b=-19.54898569509465\n",
      "k=6.7310822061749604, b=-19.549432854202653\n",
      "k=6.730651449663913, b=-19.549873157240064\n",
      "k=6.7302606787639725, b=-19.55030716537704\n",
      "k=6.729906616357678, b=-19.550735393793268\n",
      "k=6.729586253902432, b=-19.551158315447115\n",
      "k=6.729296829419548, b=-19.551576364535848\n",
      "k=6.7290358072872065, b=-19.55198993967229\n",
      "k=6.7288008596894695, b=-19.552399406801122\n",
      "k=6.728589849585628, b=-19.552805101876192\n",
      "k=6.728400815075298, b=-19.5532073333184\n",
      "k=6.728231955044862, b=-19.553606384272157\n",
      "k=6.728081615990257, b=-19.5540025146769\n",
      "k=6.727948279919688, b=-19.554395963168847\n",
      "k=6.7278305532477765, b=-19.554786948826905\n",
      "k=6.727727156599882, b=-19.555175672775462\n",
      "k=6.727636915452007, b=-19.555562319655866\n",
      "k=6.727558751537801, b=-19.555947058977267\n",
      "k=6.727491674959809, b=-19.55633004635678\n",
      "k=6.727434776947227, b=-19.556711424657998\n",
      "k=6.727387223207207, b=-19.557091325036197\n",
      "k=6.7273482478210385, b=-19.5574698678979\n",
      "k=6.72731714764058, b=-19.557847163781776\n",
      "k=6.727293277143916, b=-19.558223314167357\n",
      "k=6.727276043712627, b=-19.558598412217478\n",
      "k=6.727264903296103, b=-19.55897254345987\n",
      "k=6.727259356431186, b=-19.559345786412887\n",
      "k=6.727258944588027, b=-19.559718213159965\n",
      "k=6.7272632468154105, b=-19.560089889876977\n",
      "k=6.727271876661013, b=-19.56046087731641\n",
      "k=6.72728447934406, b=-19.56083123125181\n",
      "k=6.727300729159696, b=-19.561201002885852\n",
      "k=6.7273203270960815, b=-19.561570239224928\n",
      "k=6.727342998646775, b=-19.561938983423055\n",
      "k=6.727368491802404, b=-19.5623072750976\n",
      "k=6.727396575206927, b=-19.562675150619118\n",
      "k=6.727427036464997, b=-19.563042643377454\n",
      "k=6.727459680588046, b=-19.563409784026014\n",
      "k=6.727494328567719, b=-19.56377660070603\n",
      "k=6.727530816066222, b=-19.56414311925246\n",
      "k=6.727568992214004, b=-19.56450936338297\n",
      "k=6.727608718505968, b=-19.564875354871482\n",
      "k=6.727649867788151, b=-19.565241113707458\n",
      "k=6.727692323327446, b=-19.56560665824215\n",
      "k=6.727735977957563, b=-19.565972005322855\n",
      "k=6.727780733294986, b=-19.56633717041618\n",
      "k=6.727826499019182, b=-19.566702167721182\n",
      "k=6.727873192211806, b=-19.567067010273263\n",
      "k=6.727920736750055, b=-19.56743171003953\n",
      "k=6.727969062749742, b=-19.56779627800634\n",
      "k=6.728018106054015, b=-19.568160724259698\n",
      "k=6.7280678077639715, b=-19.568525058059024\n",
      "k=6.728118113807751, b=-19.5688892879049\n",
      "k=6.728168974544931, b=-19.569253421601267\n",
      "k=6.728220344403354, b=-19.569617466312522\n",
      "k=6.728272181545712, b=-19.56998142861591\n",
      "k=6.728324447563462, b=-19.570345314549666\n",
      "k=6.728377107195817, b=-19.57070912965718\n",
      "k=6.72843012807178, b=-19.57107287902755\n",
      "k=6.728483480473307, b=-19.57143656733282\n",
      "k=6.728537137117888, b=-19.571800198862157\n",
      "k=6.728591072958942, b=-19.57216377755322\n",
      "k=6.728645265002574, b=-19.572527307020987\n",
      "k=6.7286996921393465, b=-19.57289079058418\n",
      "k=6.7287543349898415, b=-19.573254231289553\n",
      "k=6.728809175762875, b=-19.57361763193419\n",
      "k=6.728864198125336, b=-19.573980995085957\n",
      "k=6.728919387082689, b=-19.57434432310228\n",
      "k=6.7289747288692725, b=-19.57470761814741\n",
      "k=6.729030210847588, b=-19.57507088220824\n",
      "k=6.72908582141584, b=-19.575434117108845\n",
      "k=6.729141549923056, b=-19.57579732452383\n",
      "k=6.729197386591163, b=-19.57616050599057\n",
      "k=6.729253322443448, b=-19.57652366292046\n",
      "k=6.729309349238885, b=-19.57688679660926\n",
      "k=6.729365459411839, b=-19.57724990824653\n",
      "k=6.729421646016719, b=-19.57761299892437\n",
      "k=6.729477902677156, b=-19.57797606964539\n",
      "k=6.7295342235393605, b=-19.578339121330057\n",
      "k=6.729590603229288, b=-19.578702154823407\n",
      "k=6.729647036813325, b=-19.57906517090125\n",
      "k=6.729703519762193, b=-19.57942817027582\n",
      "k=6.729760047917812, b=-19.579791153601004\n",
      "k=6.729816617462878, b=-19.580154121477122\n",
      "k=6.729873224892935, b=-19.580517074455305\n",
      "k=6.729929866990737, b=-19.580880013041533\n",
      "k=6.729986540802709, b=-19.58124293770034\n",
      "k=6.7300432436173345, b=-19.581605848858203\n",
      "k=6.730099972945326, b=-19.581968746906668\n",
      "k=6.730156726501404, b=-19.582331632205207\n",
      "k=6.730213502187581, b=-19.58269450508385\n",
      "k=6.730270298077813, b=-19.583057365845598\n",
      "k=6.730327112403907, b=-19.58342021476863\n",
      "k=6.7303839435425825, b=-19.583783052108352\n",
      "k=6.730440790003599, b=-19.58414587809925\n",
      "k=6.73049765041885, b=-19.584508692956614\n",
      "k=6.730554523532354, b=-19.584871496878105\n",
      "k=6.7306114081910655, b=-19.585234290045204\n",
      "k=6.73066830333644, b=-19.58559707262453\n",
      "k=6.730725207996688, b=-19.585959844769075\n",
      "k=6.730782121279665, b=-19.586322606619298\n",
      "k=6.730839042366346, b=-19.586685358304173\n",
      "k=6.730895970504828, b=-19.587048099942113\n",
      "k=6.730952905004836, b=-19.58741083164185\n",
      "k=6.731009845232668, b=-19.587773553503222\n",
      "k=6.731066790606559, b=-19.588136265617898\n",
      "k=6.731123740592425, b=-19.588498968070056\n",
      "k=6.731180694699956, b=-19.58886166093699\n",
      "k=6.731237652479028, b=-19.589224344289672\n",
      "k=6.7312946135164085, b=-19.589587018193285\n",
      "k=6.731351577432735, b=-19.58994968270768\n"
     ]
    }
   ],
   "source": [
    "k, b, losses = train(200)"
   ]
  },
  {
   "cell_type": "code",
   "execution_count": 33,
   "metadata": {},
   "outputs": [
    {
     "data": {
      "text/plain": [
       "[<matplotlib.lines.Line2D at 0x1ec74616518>]"
      ]
     },
     "execution_count": 33,
     "metadata": {},
     "output_type": "execute_result"
    },
    {
     "data": {
      "image/png": "[encoded data removed]",
      "text/plain": [
       "<Figure size 432x288 with 1 Axes>"
      ]
     },
     "metadata": {
      "needs_background": "light"
     },
     "output_type": "display_data"
    }
   ],
   "source": [
    "plt.plot(list(range(200)), losses)"
   ]
  },
  {
   "cell_type": "code",
   "execution_count": 34,
   "metadata": {},
   "outputs": [
    {
     "data": {
      "text/plain": [
       "<matplotlib.collections.PathCollection at 0x1ec7467a278>"
      ]
     },
     "execution_count": 34,
     "metadata": {},
     "output_type": "execute_result"
    },
    {
     "data": {
      "image/png": "[encoded data removed]",
      "text/plain": [
       "<Figure size 432x288 with 1 Axes>"
      ]
     },
     "metadata": {
      "needs_background": "light"
     },
     "output_type": "display_data"
    }
   ],
   "source": [
    "prices = [price(rm, k, b) for rm in x_rm]\n",
    "\n",
    "plt.scatter(x_rm, y)\n",
    "plt.scatter(x_rm, prices)"
   ]
  }
 ],
 "metadata": {
  "kernelspec": {
   "display_name": "Python 3",
   "language": "python",
   "name": "python3"
  },
  "language_info": {
   "codemirror_mode": {
    "name": "ipython",
    "version": 3
   },
   "file_extension": ".py",
   "mimetype": "text/x-python",
   "name": "python",
   "nbconvert_exporter": "python",
   "pygments_lexer": "ipython3",
   "version": "3.7.3"
  }
 },
 "nbformat": 4,
 "nbformat_minor": 2
}

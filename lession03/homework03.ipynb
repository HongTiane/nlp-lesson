{
 "cells": [
  {
   "cell_type": "code",
   "execution_count": 1,
   "metadata": {},
   "outputs": [],
   "source": [
    "import matplotlib.pyplot as plt\n",
    "import numpy as np"
   ]
  },
  {
   "cell_type": "code",
   "execution_count": 2,
   "metadata": {},
   "outputs": [],
   "source": [
    "from sklearn import datasets, linear_model\n",
    "from sklearn.datasets import load_boston"
   ]
  },
  {
   "cell_type": "markdown",
   "metadata": {},
   "source": [
    "# Part-1 Programming Review 编程回顾"
   ]
  },
  {
   "cell_type": "markdown",
   "metadata": {},
   "source": [
    "##  1. Re-code the Linear-Regression Model using scikit-learning(10 points)"
   ]
  },
  {
   "cell_type": "code",
   "execution_count": 3,
   "metadata": {},
   "outputs": [],
   "source": [
    "dataset = load_boston()"
   ]
  },
  {
   "cell_type": "code",
   "execution_count": 4,
   "metadata": {},
   "outputs": [],
   "source": [
    "# Use 'RM' feature\n",
    "boston_X = dataset['data'][:, np.newaxis, 5]\n",
    "boston_y = dataset['target']"
   ]
  },
  {
   "cell_type": "code",
   "execution_count": 5,
   "metadata": {},
   "outputs": [],
   "source": [
    "# Split the data into training/testing sets\n",
    "boston_X_train = boston_X[:-20]\n",
    "boston_X_test = boston_X[-20:]\n",
    "\n",
    "# Split the data into training/testing sets\n",
    "boston_y_train = boston_y[:-20]\n",
    "boston_y_test = boston_y[-20:]"
   ]
  },
  {
   "cell_type": "code",
   "execution_count": 6,
   "metadata": {},
   "outputs": [],
   "source": [
    "lregr = linear_model.LinearRegression()"
   ]
  },
  {
   "cell_type": "code",
   "execution_count": 7,
   "metadata": {},
   "outputs": [
    {
     "data": {
      "text/plain": [
       "LinearRegression(copy_X=True, fit_intercept=True, n_jobs=None,\n",
       "         normalize=False)"
      ]
     },
     "execution_count": 7,
     "metadata": {},
     "output_type": "execute_result"
    }
   ],
   "source": [
    "# 训练模型\n",
    "lregr.fit(boston_X_train, boston_y_train)"
   ]
  },
  {
   "cell_type": "code",
   "execution_count": 8,
   "metadata": {},
   "outputs": [],
   "source": [
    "# 使用测试集进行预测\n",
    "boston_y_pred = lregr.predict(boston_X_test)"
   ]
  },
  {
   "cell_type": "code",
   "execution_count": 9,
   "metadata": {},
   "outputs": [
    {
     "data": {
      "image/png": "[encoded data removed]",
      "text/plain": [
       "<Figure size 432x288 with 1 Axes>"
      ]
     },
     "metadata": {},
     "output_type": "display_data"
    }
   ],
   "source": [
    "# 可视化\n",
    "plt.scatter(boston_X_test, boston_y_test,  color='black')\n",
    "plt.plot(boston_X_test, boston_y_pred, color='blue', linewidth=3)\n",
    "\n",
    "plt.xticks(())\n",
    "plt.yticks(())\n",
    "\n",
    "plt.show()"
   ]
  },
  {
   "cell_type": "markdown",
   "metadata": {},
   "source": [
    "## 2. Complete the unfinished KNN Model using pure python to solve the previous Line-Regression problem. (8 points) "
   ]
  },
  {
   "cell_type": "code",
   "execution_count": 10,
   "metadata": {},
   "outputs": [],
   "source": [
    "import statistics"
   ]
  },
  {
   "cell_type": "code",
   "execution_count": 11,
   "metadata": {},
   "outputs": [],
   "source": [
    "class KNearestNeighborsRegression:\n",
    "    def __init__(self, n_neighbors):\n",
    "        self.n_neighbors = n_neighbors\n",
    "    def fit(self, X: list, y: list):\n",
    "        self.X_y = list(zip(X, y))\n",
    "    def predict(self, X: list):\n",
    "        y = []\n",
    "        for x in X:\n",
    "            n_X_y = sorted(self.X_y, key=lambda x_y: abs(x_y[0] - x))[:self.n_neighbors]\n",
    "            _, n_y = zip(*n_X_y)\n",
    "            y.append(statistics.mean(n_y))\n",
    "        return y"
   ]
  },
  {
   "cell_type": "code",
   "execution_count": 12,
   "metadata": {},
   "outputs": [],
   "source": [
    "# Use 'RM' feature\n",
    "boston_X = list(dataset['data'][:, 5])\n",
    "boston_y = list(dataset['target'])"
   ]
  },
  {
   "cell_type": "code",
   "execution_count": 13,
   "metadata": {},
   "outputs": [],
   "source": [
    "# Split the data into training/testing sets\n",
    "boston_X_train = boston_X[:-20]\n",
    "boston_X_test = boston_X[-20:]\n",
    "\n",
    "# Split the data into training/testing sets\n",
    "boston_y_train = boston_y[:-20]\n",
    "boston_y_test = boston_y[-20:]"
   ]
  },
  {
   "cell_type": "code",
   "execution_count": 14,
   "metadata": {},
   "outputs": [],
   "source": [
    "knn = KNearestNeighborsRegression(50)"
   ]
  },
  {
   "cell_type": "code",
   "execution_count": 15,
   "metadata": {},
   "outputs": [],
   "source": [
    "# 训练模型\n",
    "knn.fit(boston_X_train, boston_y_train)"
   ]
  },
  {
   "cell_type": "code",
   "execution_count": 16,
   "metadata": {},
   "outputs": [],
   "source": [
    "# 使用测试集进行预测\n",
    "boston_y_pred = knn.predict(boston_X_test)"
   ]
  },
  {
   "cell_type": "code",
   "execution_count": 17,
   "metadata": {},
   "outputs": [
    {
     "data": {
      "image/png": "[encoded data removed]",
      "text/plain": [
       "<Figure size 432x288 with 1 Axes>"
      ]
     },
     "metadata": {},
     "output_type": "display_data"
    }
   ],
   "source": [
    "# 可视化\n",
    "plt.scatter(boston_X_test, boston_y_test,  color='black')\n",
    "plt.plot(boston_X_test, boston_y_pred, color='blue', linewidth=3)\n",
    "\n",
    "plt.xticks(())\n",
    "plt.yticks(())\n",
    "\n",
    "plt.show()"
   ]
  },
  {
   "cell_type": "markdown",
   "metadata": {},
   "source": [
    "## 3. Re-code the Decision Tree, which could sort the features by salience. (12 points)"
   ]
  },
  {
   "cell_type": "markdown",
   "metadata": {},
   "source": [
    "### 信息熵\n",
    "\n",
    "$$Entropy=-\\sum_{i=0}^{n}Pr(x_i)\\log(Pr(x_i))$$"
   ]
  },
  {
   "cell_type": "code",
   "execution_count": 18,
   "metadata": {},
   "outputs": [],
   "source": [
    "from collections import Counter\n",
    "import math\n",
    "def entropy(seq):\n",
    "    counter = Counter(seq)\n",
    "    n = len(seq)\n",
    "    return -sum([counter[e] / n * math.log(counter[e] / n) for e in set(seq)])"
   ]
  },
  {
   "cell_type": "code",
   "execution_count": 19,
   "metadata": {},
   "outputs": [],
   "source": [
    "import pandas as pd\n",
    "def get_partition_feature(X):\n",
    "    \"\"\"获取划分特征\"\"\"\n",
    "    feature_indexs = list(X.columns)[:-1]\n",
    "    # 信息增益率\n",
    "    gain_ratios = []\n",
    "\n",
    "    y_entropy = entropy(X.iloc[:, -1])\n",
    "    n = X.shape[0]\n",
    "    for index in feature_indexs:\n",
    "        # 信息增益\n",
    "        info_gain = y_entropy - sum([sub.shape[0] / n * entropy(sub.iloc[:, -1]) for _, sub in X.groupby(index)])\n",
    "        # 属性固有值\n",
    "        iv = - sum([sub.shape[0] / n * math.log(sub.shape[0] / n) for _, sub in X.groupby(index)])\n",
    "        gain_ratios.append((index, info_gain / iv))\n",
    "    return sorted(gain_ratios, key=lambda gain_ratio: gain_ratio[1])[-1][0]"
   ]
  },
  {
   "cell_type": "code",
   "execution_count": 20,
   "metadata": {},
   "outputs": [],
   "source": [
    "X = pd.DataFrame({\n",
    "    'gender':['F', 'F', 'F', 'F', 'M', 'M', 'M'],\n",
    "    'income': ['+10', '-10', '+10', '+10', '+10', '+10', '-10'],\n",
    "    'family_number': [1, 1, 2, 1, 1, 1, 2],\n",
    "    'bought': [1, 1, 1, 0, 0, 0, 1]})"
   ]
  },
  {
   "cell_type": "code",
   "execution_count": 21,
   "metadata": {},
   "outputs": [
    {
     "data": {
      "text/html": [
       "<div>\n",
       "<style scoped>\n",
       "    .dataframe tbody tr th:only-of-type {\n",
       "        vertical-align: middle;\n",
       "    }\n",
       "\n",
       "    .dataframe tbody tr th {\n",
       "        vertical-align: top;\n",
       "    }\n",
       "\n",
       "    .dataframe thead th {\n",
       "        text-align: right;\n",
       "    }\n",
       "</style>\n",
       "<table border=\"1\" class=\"dataframe\">\n",
       "  <thead>\n",
       "    <tr style=\"text-align: right;\">\n",
       "      <th></th>\n",
       "      <th>gender</th>\n",
       "      <th>income</th>\n",
       "      <th>family_number</th>\n",
       "      <th>bought</th>\n",
       "    </tr>\n",
       "  </thead>\n",
       "  <tbody>\n",
       "    <tr>\n",
       "      <th>0</th>\n",
       "      <td>F</td>\n",
       "      <td>+10</td>\n",
       "      <td>1</td>\n",
       "      <td>1</td>\n",
       "    </tr>\n",
       "    <tr>\n",
       "      <th>1</th>\n",
       "      <td>F</td>\n",
       "      <td>-10</td>\n",
       "      <td>1</td>\n",
       "      <td>1</td>\n",
       "    </tr>\n",
       "    <tr>\n",
       "      <th>2</th>\n",
       "      <td>F</td>\n",
       "      <td>+10</td>\n",
       "      <td>2</td>\n",
       "      <td>1</td>\n",
       "    </tr>\n",
       "    <tr>\n",
       "      <th>3</th>\n",
       "      <td>F</td>\n",
       "      <td>+10</td>\n",
       "      <td>1</td>\n",
       "      <td>0</td>\n",
       "    </tr>\n",
       "    <tr>\n",
       "      <th>4</th>\n",
       "      <td>M</td>\n",
       "      <td>+10</td>\n",
       "      <td>1</td>\n",
       "      <td>0</td>\n",
       "    </tr>\n",
       "    <tr>\n",
       "      <th>5</th>\n",
       "      <td>M</td>\n",
       "      <td>+10</td>\n",
       "      <td>1</td>\n",
       "      <td>0</td>\n",
       "    </tr>\n",
       "    <tr>\n",
       "      <th>6</th>\n",
       "      <td>M</td>\n",
       "      <td>-10</td>\n",
       "      <td>2</td>\n",
       "      <td>1</td>\n",
       "    </tr>\n",
       "  </tbody>\n",
       "</table>\n",
       "</div>"
      ],
      "text/plain": [
       "  gender income  family_number  bought\n",
       "0      F    +10              1       1\n",
       "1      F    -10              1       1\n",
       "2      F    +10              2       1\n",
       "3      F    +10              1       0\n",
       "4      M    +10              1       0\n",
       "5      M    +10              1       0\n",
       "6      M    -10              2       1"
      ]
     },
     "execution_count": 21,
     "metadata": {},
     "output_type": "execute_result"
    }
   ],
   "source": [
    "X"
   ]
  },
  {
   "cell_type": "code",
   "execution_count": 22,
   "metadata": {},
   "outputs": [
    {
     "data": {
      "text/plain": [
       "'family_number'"
      ]
     },
     "execution_count": 22,
     "metadata": {},
     "output_type": "execute_result"
    }
   ],
   "source": [
    "get_partition_feature(X)"
   ]
  },
  {
   "cell_type": "code",
   "execution_count": 23,
   "metadata": {},
   "outputs": [],
   "source": [
    "class Node:\n",
    "    def __init__(self, feature):\n",
    "        self.feature = feature\n",
    "        self.children = {}\n",
    "    def addChild(self, value, child):\n",
    "        self.children[value] = child\n",
    "    def __str__(self):\n",
    "        s = str(self.feature) + '\\n'\n",
    "        for key, value in self.children.items():\n",
    "            tmp = '|__(' + str(key) + ')__'\n",
    "            if isinstance(value, Node):\n",
    "                tmp += value.__tree_format_str(' ' * len(tmp))\n",
    "            else:\n",
    "                tmp += str(value)\n",
    "            s += tmp + '\\n'\n",
    "        return s\n",
    "    def __tree_format_str(self, placeholder):\n",
    "        s = str(self.feature) + '\\n'\n",
    "        for key, value in self.children.items():\n",
    "            tmp = placeholder + '|__(' + str(key) + ')__'\n",
    "            if isinstance(value, Node):\n",
    "                tmp += value.__tree_format_str(' ' * len(tmp))\n",
    "            else:\n",
    "                tmp += str(value)\n",
    "            s += tmp + '\\n'\n",
    "        return s"
   ]
  },
  {
   "cell_type": "code",
   "execution_count": 24,
   "metadata": {},
   "outputs": [],
   "source": [
    "from collections import deque, Counter\n",
    "from icecream import ic\n",
    "def build_decision_tree(X):\n",
    "    \"\"\"构建决策树\"\"\"\n",
    "    decision_tree = Node(None)\n",
    "    q = deque()\n",
    "    q.append((X, decision_tree, 'head'))\n",
    "    while q:\n",
    "        e = q.popleft()\n",
    "        if (e[0].shape[1] == 2):\n",
    "            feature = e[0].columns[0]\n",
    "            node = Node(feature)\n",
    "            for _, g in e[0].groupby(feature):\n",
    "                child = Counter(list(g.iloc[:, -1])).most_common(1)[0][0]\n",
    "                node.addChild(g[feature].values[0], child)\n",
    "        else:\n",
    "            partition_feature = get_partition_feature(e[0])\n",
    "            node = Node(partition_feature)\n",
    "            for _, g in e[0].groupby(partition_feature):\n",
    "                types = g.iloc[:, -1].values\n",
    "                if len(set(types)) == 1:\n",
    "                    node.addChild(g[partition_feature].values[0], types[0])\n",
    "                else:\n",
    "                    q.append((g.drop(partition_feature, axis=1), node, g[partition_feature].values[0]))\n",
    "        \n",
    "        e[1].addChild(e[2], node)\n",
    "                             \n",
    "    return decision_tree.children['head']"
   ]
  },
  {
   "cell_type": "code",
   "execution_count": 25,
   "metadata": {},
   "outputs": [],
   "source": [
    "decision_tree = build_decision_tree(X)"
   ]
  },
  {
   "cell_type": "code",
   "execution_count": 26,
   "metadata": {},
   "outputs": [
    {
     "name": "stdout",
     "output_type": "stream",
     "text": [
      "family_number\n",
      "|__(2)__1\n",
      "|__(1)__income\n",
      "        |__(-10)__1\n",
      "        |__(+10)__gender\n",
      "                  |__(F)__1\n",
      "                  |__(M)__0\n",
      "\n",
      "\n",
      "\n"
     ]
    }
   ],
   "source": [
    "# 持续的特征选则\n",
    "print(decision_tree)"
   ]
  },
  {
   "cell_type": "markdown",
   "metadata": {},
   "source": [
    "## 4. Finish the K-Means using 2-D matplotlib (8 points) "
   ]
  },
  {
   "cell_type": "code",
   "execution_count": 27,
   "metadata": {},
   "outputs": [],
   "source": [
    "from sklearn.cluster import KMeans\n",
    "from sklearn.datasets import make_blobs"
   ]
  },
  {
   "cell_type": "code",
   "execution_count": 28,
   "metadata": {},
   "outputs": [],
   "source": [
    "n_samples = 1500\n",
    "random_state = 170\n",
    "X, y = make_blobs(n_samples=n_samples, random_state=random_state)"
   ]
  },
  {
   "cell_type": "code",
   "execution_count": 29,
   "metadata": {},
   "outputs": [],
   "source": [
    "# K-Means模型训练和预测\n",
    "y_pred = KMeans(n_clusters=3, random_state=random_state).fit_predict(X)"
   ]
  },
  {
   "cell_type": "code",
   "execution_count": 30,
   "metadata": {},
   "outputs": [
    {
     "data": {
      "text/plain": [
       "<matplotlib.collections.PathCollection at 0x1ec9db179b0>"
      ]
     },
     "execution_count": 30,
     "metadata": {},
     "output_type": "execute_result"
    },
    {
     "data": {
      "image/png": "[encoded data removed]",
      "text/plain": [
       "<Figure size 864x864 with 1 Axes>"
      ]
     },
     "metadata": {
      "needs_background": "light"
     },
     "output_type": "display_data"
    }
   ],
   "source": [
    "# 可视化\n",
    "plt.figure(figsize=(12, 12))\n",
    "plt.subplot(221)\n",
    "plt.scatter(X[:, 0], X[:, 1], c=y_pred)"
   ]
  },
  {
   "cell_type": "markdown",
   "metadata": {},
   "source": [
    "# Part-2 Question and Answer"
   ]
  },
  {
   "cell_type": "markdown",
   "metadata": {},
   "source": [
    "#### 1. What's the *model*? why  all the models are wrong, but some are useful? (5 points) "
   ]
  },
  {
   "cell_type": "markdown",
   "metadata": {},
   "source": [
    "模型是指从数据（经验）中学习的结果，对应了关于数据的某种潜在的规律。模型只是对数据在特定场景的抽象，只包含了数据一部分特征。所以模型只反映了事物的局部特征，并不能表示整个事务。"
   ]
  },
  {
   "cell_type": "markdown",
   "metadata": {},
   "source": [
    "#### 2. What's the underfitting and overfitting? List the reasons that could make model overfitting or underfitting. (10 points)"
   ]
  },
  {
   "cell_type": "markdown",
   "metadata": {},
   "source": [
    "欠拟合是指模型对训练样本的一般性质尚未学好，通常是由于学习能力低下而造成的；过拟合是指模型将训练样本自身的一些特点当作了所有潜在样本都会有的一般性质，导致泛化性能下降，通常是由于学习能力过于强大，以至于把训练样本所包含的不太一般的特性都学到了。\n",
    "欠拟合产生的可能因素：（1）模型复杂度过低（2）特征量过少\n",
    "过拟合产生的可能因素：（1）样本数量太少（2）样本噪音干扰过大（3）特征量过太多，模型复杂度过高"
   ]
  },
  {
   "cell_type": "markdown",
   "metadata": {},
   "source": [
    "#### 3. What's the precision, recall, AUC, F1, F2score. What are they mainly target on? (12')"
   ]
  },
  {
   "cell_type": "markdown",
   "metadata": {},
   "source": [
    "precision（查准率、准确率）用于表示预测正例中的真正例的比率，用于度量模型预测的结果中有多少是正确结果。\n",
    "recall（查全率、召回率）用于表示所有的正例中被预测出来的比率，用于度量模型预测出正确结果的能力。\n",
    "查准率和查全率是一对矛盾的度量，一般来说，查准率高时，查全率往往偏低；而查全率高时，查准率往往偏低，F1是综合考虑查准率、查全率的性能度量，是基于查准率与查全率的调和平均定义的，F1越大，性能越优；F2_Score是查准率与查全率的加权调和平均，更偏向于查全率有更大的影响。\n",
    "AUC表示ROC曲线的面积，模型泛化性能的度量，AUC越大表示模型泛化性能越好"
   ]
  },
  {
   "cell_type": "markdown",
   "metadata": {},
   "source": [
    "#### 4. Based on our course and yourself mind, what's the machine learning?  (8')"
   ]
  },
  {
   "cell_type": "markdown",
   "metadata": {},
   "source": [
    "机器学习致力于研究如何通过计算的手段，利用经验来改善系统自身的性能，即从数据中提取知识（模型）。传统的分析式编程是基于决策规则来处理数据的，需要人为的制定决策规则，决策逻辑只适用于单一领域和单项任务。如果任务稍有变化，就可能需要重新实现整个系统。并且制定规则，需要对决策过程有很深刻的理解。机器学习能够将决策过程自动化，通过经验（数据）泛化出决策过程（产生模型），在没有预先制定规则的情况下，能够对输入给出相应输出。"
   ]
  },
  {
   "cell_type": "markdown",
   "metadata": {},
   "source": [
    "#### 5. \"正确定义了机器学习模型的评价标准(evaluation)， 问题基本上就已经解决一半\". 这句话是否正确？你是怎么看待的？ (8‘)"
   ]
  },
  {
   "cell_type": "markdown",
   "metadata": {},
   "source": [
    "判断机器学习模型泛化能力需要选择一个能反映预测能力的评价指标，不同的机器学习任务有着不同的评价指标，同一机器学习任务也有着不同的评价指标，每个指标的着重点不一样，并且很多指标可以对多种不同的机器学习模型进行评价，所以选择一个合适的评价指标评估模型的泛化能力非常重要，可以达到事半功倍的效果。例如，在垃圾邮件检测是一个二分类问题，可以使用准确率（Accuracy）、对数损失函数（log-loss）、AUC等评价方法。"
   ]
  },
  {
   "cell_type": "markdown",
   "metadata": {},
   "source": [
    "# Part-03 Programming Practice"
   ]
  },
  {
   "cell_type": "markdown",
   "metadata": {},
   "source": [
    "1. In our course and previous practice, we complete some importance components of Decision Tree. In this problem, you need to build a **completed** Decision Tree Model. You show finish a `predicate()` function, which accepts three parameters **<gender, income, family_number>**, and outputs the predicated 'bought': 1 or 0.  (20 points)"
   ]
  },
  {
   "cell_type": "code",
   "execution_count": 31,
   "metadata": {},
   "outputs": [],
   "source": [
    "class DecisionTree:\n",
    "    def fit(self, X, y):\n",
    "        df = pd.DataFrame(X)\n",
    "        df[df.shape[1]] = y\n",
    "        self.head = build_decision_tree(df)\n",
    "\n",
    "    def predict(self, X: list):\n",
    "        current_node = self.head\n",
    "        while True:\n",
    "            value = str(X[current_node.feature])\n",
    "            if isinstance(current_node.children[value], Node):\n",
    "                current_node = current_node.children[value]\n",
    "            else:\n",
    "                return current_node.children[value]"
   ]
  },
  {
   "cell_type": "code",
   "execution_count": 32,
   "metadata": {},
   "outputs": [],
   "source": [
    "dt = DecisionTree()"
   ]
  },
  {
   "cell_type": "code",
   "execution_count": 33,
   "metadata": {},
   "outputs": [],
   "source": [
    "# 模型训练\n",
    "dt.fit(np.array([['F', 'F', 'F', 'F', 'M', 'M', 'M'], ['+10', '-10', '+10', '+10', '+10', '+10', '-10'], [1, 1, 2, 1, 1, 1, 2]]).T, [1, 1, 1, 0, 0, 0, 1])"
   ]
  },
  {
   "cell_type": "code",
   "execution_count": 34,
   "metadata": {},
   "outputs": [
    {
     "data": {
      "text/plain": [
       "1"
      ]
     },
     "execution_count": 34,
     "metadata": {},
     "output_type": "execute_result"
    }
   ],
   "source": [
    "# 预测\n",
    "dt.predict(['M', '-10', 1])"
   ]
  },
  {
   "cell_type": "markdown",
   "metadata": {},
   "source": [
    "2. 将上一节课(第二节课)的线性回归问题中的Loss函数改成\"绝对值\"，并且改变其偏导的求值方式，观察其结果的变化。(19 point)"
   ]
  },
  {
   "cell_type": "markdown",
   "metadata": {},
   "source": [
    "## Linear Regression "
   ]
  },
  {
   "cell_type": "markdown",
   "metadata": {},
   "source": [
    "### linear function\n",
    "$$ y = k*rm + b$$"
   ]
  },
  {
   "cell_type": "code",
   "execution_count": 35,
   "metadata": {},
   "outputs": [],
   "source": [
    "def price(rm, k, b):\n",
    "    return k * rm + b"
   ]
  },
  {
   "cell_type": "markdown",
   "metadata": {},
   "source": [
    "### loss function(absolute loss)\n",
    "$$ loss = \\frac{1}{n} \\sum{|y_i - \\hat{y_i}|} = \\frac{1}{n} \\sum{|y_i - (kx_i + b_i)|}$$"
   ]
  },
  {
   "cell_type": "code",
   "execution_count": 36,
   "metadata": {},
   "outputs": [],
   "source": [
    "def loss(y, y_hat):\n",
    "    n = len(y)\n",
    "    return sum([abs(y[i] - y_hat[i]) for i in range(n)]) / n"
   ]
  },
  {
   "cell_type": "markdown",
   "metadata": {},
   "source": [
    "### gradient descent\n",
    "#### partial derivatives\n",
    "\n",
    "$$ \\frac{\\partial{loss}}{\\partial{k}} = \\frac{1}{m}(\\sum_{y_i>\\hat{y_i}}{-x_i} + \\sum_{y_i<\\hat{y_i}}{x_i})$$\n",
    "\n",
    "$$ \\frac{\\partial{loss}}{\\partial{b}} = \\frac{1}{m}(\\sum_{y_i>\\hat{y_i}}{-1} + \\sum_{y_i<\\hat{y_i}}{1})$$\n"
   ]
  },
  {
   "cell_type": "code",
   "execution_count": 37,
   "metadata": {},
   "outputs": [],
   "source": [
    "def partial_derivative_k(X, y, y_hat):\n",
    "    n = len(y)\n",
    "    pds_sum = 0\n",
    "    for X_i, y_i, y_hat_i in zip(X, y, y_hat):\n",
    "        if y_i > y_hat_i:\n",
    "            pds_sum += -X_i\n",
    "        elif y_i < y_hat_i:\n",
    "            pds_sum += X_i\n",
    "        else:\n",
    "            # 偏导数不存在\n",
    "            n -= 1\n",
    "    return pds_sum / n"
   ]
  },
  {
   "cell_type": "code",
   "execution_count": 38,
   "metadata": {},
   "outputs": [],
   "source": [
    "def partial_derivative_b(y, y_hat):\n",
    "    n = len(y)\n",
    "    pds_sum = 0\n",
    "    for y_i, y_hat_i in zip(y, y_hat):\n",
    "        if y_i > y_hat_i:\n",
    "            pds_sum += -1\n",
    "        elif y_i < y_hat_i:\n",
    "            pds_sum += 1\n",
    "        else:\n",
    "            # 偏导数不存在\n",
    "            n -= 1\n",
    "    return pds_sum / n"
   ]
  },
  {
   "cell_type": "markdown",
   "metadata": {},
   "source": [
    "### training model "
   ]
  },
  {
   "cell_type": "code",
   "execution_count": 39,
   "metadata": {},
   "outputs": [],
   "source": [
    "dataset = load_boston()\n",
    "X, y = dataset['data'], dataset['target']\n",
    "X_rm = X[:, 5]"
   ]
  },
  {
   "cell_type": "code",
   "execution_count": 40,
   "metadata": {},
   "outputs": [],
   "source": [
    "import random\n",
    "def fit(X, y, iteration_num, learning_rate=1e-3):\n",
    "    #initialized parameters\n",
    "    k = random.random() * 200 - 100  # -100 100\n",
    "    b = random.random() * 200 - 100  # -100 100\n",
    "    \n",
    "    losses = []\n",
    "    for i in range(iteration_num):\n",
    "\n",
    "        y_pred = [price(x, k, b) for x in X]\n",
    "\n",
    "        losses.append(loss(y, y_pred))\n",
    "\n",
    "        k = k + (-1 * partial_derivative_k(X, y, y_pred)) * learning_rate\n",
    "        b = b + (-1 * partial_derivative_b(y, y_pred)) * learning_rate\n",
    "    \n",
    "    return k, b, losses"
   ]
  },
  {
   "cell_type": "code",
   "execution_count": 69,
   "metadata": {},
   "outputs": [],
   "source": [
    "k, b, losses = fit(X_rm, y, 5000)"
   ]
  },
  {
   "cell_type": "code",
   "execution_count": 70,
   "metadata": {},
   "outputs": [
    {
     "name": "stdout",
     "output_type": "stream",
     "text": [
      "k=13.576922269798887, b=-62.615843736305386\n"
     ]
    }
   ],
   "source": [
    "print('k={}, b={}'.format(k, b))"
   ]
  },
  {
   "cell_type": "code",
   "execution_count": 71,
   "metadata": {},
   "outputs": [
    {
     "data": {
      "text/plain": [
       "[<matplotlib.lines.Line2D at 0x1ec9e3270f0>]"
      ]
     },
     "execution_count": 71,
     "metadata": {},
     "output_type": "execute_result"
    },
    {
     "data": {
      "image/png": "[encoded data removed]",
      "text/plain": [
       "<Figure size 432x288 with 1 Axes>"
      ]
     },
     "metadata": {
      "needs_background": "light"
     },
     "output_type": "display_data"
    }
   ],
   "source": [
    "plt.plot(list(range(5000)), losses)"
   ]
  },
  {
   "cell_type": "code",
   "execution_count": 72,
   "metadata": {},
   "outputs": [
    {
     "data": {
      "text/plain": [
       "<matplotlib.collections.PathCollection at 0x1ec9e35ec18>"
      ]
     },
     "execution_count": 72,
     "metadata": {},
     "output_type": "execute_result"
    },
    {
     "data": {
      "image/png": "[encoded data removed]",
      "text/plain": [
       "<Figure size 432x288 with 1 Axes>"
      ]
     },
     "metadata": {
      "needs_background": "light"
     },
     "output_type": "display_data"
    }
   ],
   "source": [
    "y_pred = [price(rm, k, b) for rm in X_rm]\n",
    "\n",
    "plt.scatter(X_rm, y)\n",
    "plt.scatter(X_rm, y_pred)"
   ]
  }
 ],
 "metadata": {
  "kernelspec": {
   "display_name": "Python 3",
   "language": "python",
   "name": "python3"
  },
  "language_info": {
   "codemirror_mode": {
    "name": "ipython",
    "version": 3
   },
   "file_extension": ".py",
   "mimetype": "text/x-python",
   "name": "python",
   "nbconvert_exporter": "python",
   "pygments_lexer": "ipython3",
   "version": "3.7.3"
  }
 },
 "nbformat": 4,
 "nbformat_minor": 2
}

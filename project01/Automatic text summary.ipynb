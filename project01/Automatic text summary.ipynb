{
 "cells": [
  {
   "cell_type": "code",
   "execution_count": 1,
   "metadata": {},
   "outputs": [],
   "source": [
    "import re\n",
    "import jieba\n",
    "import numpy as np\n",
    "from sklearn.decomposition import PCA\n",
    "from gensim.models import Word2Vec"
   ]
  },
  {
   "cell_type": "code",
   "execution_count": 2,
   "metadata": {},
   "outputs": [],
   "source": [
    "def load_model(fname: str):\n",
    "    return Word2Vec.load(fname)"
   ]
  },
  {
   "cell_type": "code",
   "execution_count": 3,
   "metadata": {},
   "outputs": [],
   "source": [
    "class AutomaticTextSummarizer:\n",
    "    def __init__(self, word_vec_model, a=1e-4, C_compute_model='cs', n_neighbors=5, summarize_sentences_size=0.3):\n",
    "        \"\"\"\n",
    "        Parameters\n",
    "        ----------\n",
    "        word_vec_model: Word2Vec\n",
    "            Word2Vec model\n",
    "        a: float\n",
    "            sentence embedding weight\n",
    "        C_compute_model: str\n",
    "            C_i calculation model\n",
    "            'cs'\n",
    "                Cosine similarity\n",
    "            'cc'\n",
    "                Correlation coefficient\n",
    "        n_neighbors: int\n",
    "            KNN smooth window size\n",
    "        summarize_sentences_size: float\n",
    "            summarize sentences size, should be between 0.0 and 1.0\n",
    "        \"\"\"\n",
    "        self.word_vec_model = word_vec_model\n",
    "        self.a = a\n",
    "        self.C_compute_model = C_compute_model\n",
    "        self.n_neighbors = n_neighbors\n",
    "        self.summarize_sentences_size = summarize_sentences_size\n",
    "    \n",
    "    def summarize(self, title: str, content: str):\n",
    "        \"\"\"\n",
    "        Parameters\n",
    "        ----------\n",
    "        content: str\n",
    "            news content\n",
    "        title: str\n",
    "            news title\n",
    "        Returns\n",
    "        -------\n",
    "        summarize: dict\n",
    "            summarization: str\n",
    "            C: dict\n",
    "            Vs: dict\n",
    "            Vt: list\n",
    "            Vc: list\n",
    "        \"\"\"\n",
    "        sentences = self.cut_sentences(content)\n",
    "        \n",
    "        all_sentence_embeddings = self.compute_sentence_embeddings([title, content] + sentences)\n",
    "        Vt = all_sentence_embeddings[0]\n",
    "        Vc = all_sentence_embeddings[1]\n",
    "        Vs = all_sentence_embeddings[2:]\n",
    "        \n",
    "        C = self.compute_C(Vs, Vt, Vc)\n",
    "        \n",
    "        summarize_sentences_size = int(self.summarize_sentences_size * len(sentences))\n",
    "        summarize_sentences = [(sentence, index) for sentence, index, _ in sorted(zip(sentences, range(len(sentences)), C), key=lambda e: e[2], reverse=True)[:summarize_sentences_size]]\n",
    "        summarization = ''.join([sentence for sentence, _ in sorted(summarize_sentences, key=lambda e: e[1])])\n",
    "        \n",
    "        return {\n",
    "            'summarization': summarization,\n",
    "            'C': dict(zip(sentences, C)),\n",
    "            'Vs': dict(zip(sentences, Vs)),\n",
    "            'Vc': Vc,\n",
    "            'Vt': Vt\n",
    "        }\n",
    "    \n",
    "    def compute_sentence_embeddings(self, sentences):\n",
    "        model = self.word_vec_model\n",
    "        a = self.a\n",
    "        sentence_embeddings = np.array([self.compute_sentence_embedding(sentence, model, a) for sentence in sentences])\n",
    "        u = self.compute_first_principal_component(sentence_embeddings)\n",
    "        return (1 - np.dot(u, u.T)) * sentence_embeddings\n",
    "    \n",
    "    def compute_C(self, Vs, Vt, Vc):\n",
    "        if self.C_compute_model == 'cs':\n",
    "            C_compute_model = self.cosine_similarity\n",
    "        elif self.C_compute_model == 'cc':\n",
    "            C_compute_model = self.correlation_coefficient\n",
    "        else:\n",
    "            C_compute_model = self.cosine_similarity\n",
    "        \n",
    "        return self.KNN_smooth([C_compute_model(Vsi, Vt, Vc) for Vsi in Vs])\n",
    "    \n",
    "    def KNN_smooth(self, C):\n",
    "        n_neighbors = self.n_neighbors + 1\n",
    "        C = np.array(C)\n",
    "        return [np.sum(sorted(C, key=lambda e: abs(e - Ci))[:n_neighbors]) / n_neighbors for Ci in C]\n",
    "    \n",
    "    def set_word_vec_model(self, word_vec_model):\n",
    "        self.word_vec_model = word_vec_model\n",
    "    \n",
    "    def set_a(self, a):\n",
    "        self.a = a\n",
    "    \n",
    "    def set_C_compute_model(self, C_compute_model):\n",
    "        self.C_compute_model = C_compute_model\n",
    "        \n",
    "    def set_n_neighbors(self, n_neighbors):\n",
    "        self.n_neighbors = n_neighbors\n",
    "        \n",
    "    def set_summarize_sentences_size(self, summarize_sentences_size):\n",
    "        self.summarize_sentences_size = summarize_sentences_size\n",
    "    \n",
    "    @staticmethod\n",
    "    def cosine_similarity(Vsi, Vt, Vc):\n",
    "        \"\"\"\n",
    "        余弦相似度\n",
    "        \"\"\"\n",
    "        si_t_cs = abs(np.sum(Vsi * Vt) / (np.sqrt(np.sum(Vsi**2)) * np.sqrt(np.sum(Vt**2))))\n",
    "\n",
    "        si_c_cs = abs(np.sum(Vsi * Vc) / (np.sqrt(np.sum(Vsi**2)) * np.sqrt(np.sum(Vc**2))))\n",
    "\n",
    "        return (si_t_cs + si_c_cs) / 2\n",
    "    \n",
    "    @staticmethod\n",
    "    def correlation_coefficient(Vsi, Vt, Vc):\n",
    "        \"\"\"\n",
    "        相关系数\n",
    "        \"\"\"\n",
    "        pass\n",
    "    \n",
    "    @staticmethod\n",
    "    def compute_sentence_embedding(sentence, model, a):\n",
    "        \"\"\"\n",
    "        如果词向量不存在应该如何处理？（目前的处理是忽略该词向量）(out-of-word)\n",
    "        \"\"\"\n",
    "        words = AutomaticTextSummarizer.cut_words(sentence)\n",
    "        # 词向量加权求和\n",
    "        word_embeddings = np.array([a / (a + (model.wv.vocab[word].count / model.corpus_total_words)) * model.wv[word] for word in words if word in model.wv])\n",
    "        return np.sum(word_embeddings, axis=0) / word_embeddings.shape[0]\n",
    "    \n",
    "    @staticmethod\n",
    "    def compute_first_principal_component(sentence_embeddings):\n",
    "        pca = PCA(n_components=1)\n",
    "        pca.fit(sentence_embeddings)\n",
    "        return pca.components_\n",
    "    \n",
    "    @staticmethod\n",
    "    def cut_words(content: str):\n",
    "        return [word for word in list(jieba.cut(AutomaticTextSummarizer.clean_data(content))) if word != ' ']\n",
    "    \n",
    "    @staticmethod\n",
    "    def cut_sentences(content: str):\n",
    "        sentence_division = '[〇一-\\u9fff㐀-\\u4dbf豈-\\ufaff𠀀-\\U0002a6df𪜀-\\U0002b73f𫝀-\\U0002b81f丽-\\U0002fa1f⼀-⿕⺀-⻳0-9a-zA-G ＂＃＄％＆＇（）＊＋，－／：；＜＝＞＠［＼］＾＿｀｛｜｝～｟｠｢｣､\\u3000、〃〈〉《》「」『』【】〔〕〖〗〘〙〚〛〜〝〞〟〰〾〿–—‘’‛“”„‟…‧﹏﹑﹔·]*[！？｡。][」﹂”』’》）］｝〕〗〙〛〉】]*'\n",
    "        return re.findall(sentence_division, content)\n",
    "    \n",
    "    @staticmethod\n",
    "    def clean_data(content: str):\n",
    "        chinese_punctuation = '＂＃＄％＆＇（）＊＋，－／：；＜＝＞＠［＼］＾＿｀｛｜｝～｟｠｢｣､\\u3000、〃〈〉《》「」『』【】〔〕〖〗〘〙〚〛〜〝〞〟〰〾〿–—‘’‛“”„‟…‧﹏﹑﹔·！？｡。'\n",
    "        english_punctuation = ',.?;:\\'\"`~!'\n",
    "        special_char = r'<>/\\\\|\\[\\]{}@#\\$%\\^&\\*\\(\\)-\\+=_\\n'\n",
    "        return re.sub('(?P<punctuation>[{}]|[{}])|(?P<special_char>[{}])'.format(chinese_punctuation, english_punctuation, special_char), ' ', content)"
   ]
  },
  {
   "cell_type": "code",
   "execution_count": 4,
   "metadata": {},
   "outputs": [],
   "source": [
    "title = \"\"\"全面贯彻新时代军事教育方针\n",
    "一论认真学习贯彻习主席在全军院校长集训开班式上的重要讲话\"\"\"\n",
    "content = \"\"\"治军先治校，强军必强校。在强军事业对人才提出强劲需求、新时代院校体系重塑后转型升级的关节点上，习主席出席全军院校长集训开班式并发表重要讲话，体现了对军队院校建设和人才培养的高度重视，对全军教育战线广大官兵的关心厚爱。习主席站在时代发展和战略全局高度，回答了院校建设和人才培养带根本性、方向性的一系列重大问题，鲜明提出新时代军事教育方针，对全面深化军事院校改革、提高院校长办学治校能力作出重大部署，为开创院校教育和人才培养新局面提供了科学指南和根本遵循。这必将开启军事教育新的历史征程，汇聚起人才强军的磅礴力量。\n",
    "\n",
    "强军兴军，关键靠人才，基础在教育。院校教育是我军人才培养的主渠道，具有基础性、先导性、全局性作用。我党我军对办学育人历来高度重视。我军之所以能够不断发展壮大，完成党在各个历史时期赋予的使命任务，一个很重要的原因就是重视人才培养。人才强则事业强，人才兴则军队兴。当前，世界军事领域围绕人才和科技的竞争日趋激烈，我国安全形势正在发生新的深刻变化，我军职能任务不断拓展，我军建设正加快向质量效能型和科技密集型转变，这对我们培养军事人才和办好军事教育提出更高要求。\n",
    "\n",
    "发展军事教育，必须有一个管总的方针，解决好培养什么人、怎样培养人、为谁培养人这个根本问题。习主席在讲话中指出，新时代军事教育方针，就是坚持党对军队的绝对领导，为强国兴军服务，立德树人，为战育人，培养德才兼备的高素质、专业化新型军事人才。这一军事教育方针，着眼院校建设和人才培养的长远大计，赋予了军事教育鲜明的时代要求和强军指向，是做好军事教育工作的基本遵循，标志着我党我军对军事教育规律和军事人才培养规律的认识提升到新的境界。\n",
    "\n",
    "贯彻新时代军事教育方针，关系新时代军事教育和人才培养的方向与全局。要坚持正确政治方向，以习近平新时代中国特色社会主义思想为指导，贯彻习近平强军思想，贯彻新时代军事战略方针，把政治建军要求贯彻到军事教育全部实践中，确保军事教育领域始终成为坚持党的领导的坚强阵地。坚持立德树人，把思想政治教育贯穿育人全过程，确保枪杆子永远掌握在忠于党的、可靠的人手中，确保党和军队事业后继有人。坚持为战育人，打仗需要什么就教什么，部队需要什么就练什么，确保培养的人才能够打赢现代战争。坚持一体化布局，推进联合育人、开放育人、全程育人，形成高水平军事人才培养体系。坚持内涵式发展，厚植发展基础，增强发展活力，推动军事教育事业高质量发展。\n",
    "\n",
    "全军各级要认真学习领会习主席重要讲话精神，深刻领会丰富内涵和精神实质。要毫不动摇贯彻落实新时代军事教育方针，并结合新的实践不断丰富发展。要全面实施人才强军战略，全面深化军事院校改革创新，把培养人才摆在更加突出的位置，培养德才兼备的高素质、专业化新型军事人才，努力在新的起点推动院校教育和人才培养迈上新台阶。\"\"\""
   ]
  },
  {
   "cell_type": "code",
   "execution_count": 5,
   "metadata": {},
   "outputs": [
    {
     "name": "stderr",
     "output_type": "stream",
     "text": [
      "/home/student/anaconda3/lib/python3.6/site-packages/smart_open/smart_open_lib.py:398: UserWarning: This function is deprecated, use smart_open.open instead. See the migration notes for details: https://github.com/RaRe-Technologies/smart_open/blob/master/README.rst#migrating-to-the-new-open-function\n",
      "  'See the migration notes for details: %s' % _MIGRATION_NOTES_URL\n"
     ]
    }
   ],
   "source": [
    "path = '/home/student/project/project-01/no_name_group/model/word2vec_normal_full.model'\n",
    "model = load_model(path)"
   ]
  },
  {
   "cell_type": "code",
   "execution_count": 6,
   "metadata": {},
   "outputs": [],
   "source": [
    "automatic_text_summarizer = AutomaticTextSummarizer(model)"
   ]
  },
  {
   "cell_type": "code",
   "execution_count": 7,
   "metadata": {},
   "outputs": [],
   "source": [
    "automatic_text_summarizer.set_n_neighbors(5)"
   ]
  },
  {
   "cell_type": "code",
   "execution_count": 8,
   "metadata": {},
   "outputs": [],
   "source": [
    "automatic_text_summarizer.set_summarize_sentences_size(0.4)"
   ]
  },
  {
   "cell_type": "code",
   "execution_count": 9,
   "metadata": {},
   "outputs": [
    {
     "name": "stderr",
     "output_type": "stream",
     "text": [
      "Building prefix dict from the default dictionary ...\n",
      "Loading model from cache /tmp/jieba.cache\n",
      "Loading model cost 0.830 seconds.\n",
      "Prefix dict has been built succesfully.\n"
     ]
    }
   ],
   "source": [
    "result = automatic_text_summarizer.summarize(title, content)"
   ]
  },
  {
   "cell_type": "code",
   "execution_count": 10,
   "metadata": {},
   "outputs": [
    {
     "data": {
      "text/plain": [
       "'在强军事业对人才提出强劲需求、新时代院校体系重塑后转型升级的关节点上，习主席出席全军院校长集训开班式并发表重要讲话，体现了对军队院校建设和人才培养的高度重视，对全军教育战线广大官兵的关心厚爱。习主席站在时代发展和战略全局高度，回答了院校建设和人才培养带根本性、方向性的一系列重大问题，鲜明提出新时代军事教育方针，对全面深化军事院校改革、提高院校长办学治校能力作出重大部署，为开创院校教育和人才培养新局面提供了科学指南和根本遵循。习主席在讲话中指出，新时代军事教育方针，就是坚持党对军队的绝对领导，为强国兴军服务，立德树人，为战育人，培养德才兼备的高素质、专业化新型军事人才。这一军事教育方针，着眼院校建设和人才培养的长远大计，赋予了军事教育鲜明的时代要求和强军指向，是做好军事教育工作的基本遵循，标志着我党我军对军事教育规律和军事人才培养规律的认识提升到新的境界。贯彻新时代军事教育方针，关系新时代军事教育和人才培养的方向与全局。要坚持正确政治方向，以习近平新时代中国特色社会主义思想为指导，贯彻习近平强军思想，贯彻新时代军事战略方针，把政治建军要求贯彻到军事教育全部实践中，确保军事教育领域始终成为坚持党的领导的坚强阵地。全军各级要认真学习领会习主席重要讲话精神，深刻领会丰富内涵和精神实质。要毫不动摇贯彻落实新时代军事教育方针，并结合新的实践不断丰富发展。'"
      ]
     },
     "execution_count": 10,
     "metadata": {},
     "output_type": "execute_result"
    }
   ],
   "source": [
    "result['summarization']"
   ]
  },
  {
   "cell_type": "code",
   "execution_count": 11,
   "metadata": {},
   "outputs": [
    {
     "data": {
      "text/plain": [
       "{'治军先治校，强军必强校。': 0.5588323275248209,\n",
       " '在强军事业对人才提出强劲需求、新时代院校体系重塑后转型升级的关节点上，习主席出席全军院校长集训开班式并发表重要讲话，体现了对军队院校建设和人才培养的高度重视，对全军教育战线广大官兵的关心厚爱。': 0.8055345813433329,\n",
       " '习主席站在时代发展和战略全局高度，回答了院校建设和人才培养带根本性、方向性的一系列重大问题，鲜明提出新时代军事教育方针，对全面深化军事院校改革、提高院校长办学治校能力作出重大部署，为开创院校教育和人才培养新局面提供了科学指南和根本遵循。': 0.786156435807546,\n",
       " '这必将开启军事教育新的历史征程，汇聚起人才强军的磅礴力量。': 0.6407455007235209,\n",
       " '强军兴军，关键靠人才，基础在教育。': 0.5780286192893982,\n",
       " '院校教育是我军人才培养的主渠道，具有基础性、先导性、全局性作用。': 0.6125023365020752,\n",
       " '我党我军对办学育人历来高度重视。': 0.5588323275248209,\n",
       " '我军之所以能够不断发展壮大，完成党在各个历史时期赋予的使命任务，一个很重要的原因就是重视人才培养。': 0.6407455007235209,\n",
       " '人才强则事业强，人才兴则军队兴。': 0.5588323275248209,\n",
       " '当前，世界军事领域围绕人才和科技的竞争日趋激烈，我国安全形势正在发生新的深刻变化，我军职能任务不断拓展，我军建设正加快向质量效能型和科技密集型转变，这对我们培养军事人才和办好军事教育提出更高要求。': 0.7503223121166229,\n",
       " '发展军事教育，必须有一个管总的方针，解决好培养什么人、怎样培养人、为谁培养人这个根本问题。': 0.6519306202729543,\n",
       " '习主席在讲话中指出，新时代军事教育方针，就是坚持党对军队的绝对领导，为强国兴军服务，立德树人，为战育人，培养德才兼备的高素质、专业化新型军事人才。': 0.7950089375178019,\n",
       " '这一军事教育方针，着眼院校建设和人才培养的长远大计，赋予了军事教育鲜明的时代要求和强军指向，是做好军事教育工作的基本遵循，标志着我党我军对军事教育规律和军事人才培养规律的认识提升到新的境界。': 0.779465784629186,\n",
       " '贯彻新时代军事教育方针，关系新时代军事教育和人才培养的方向与全局。': 0.7950089375178019,\n",
       " '要坚持正确政治方向，以习近平新时代中国特色社会主义思想为指导，贯彻习近平强军思想，贯彻新时代军事战略方针，把政治建军要求贯彻到军事教育全部实践中，确保军事教育领域始终成为坚持党的领导的坚强阵地。': 0.8055345813433329,\n",
       " '坚持立德树人，把思想政治教育贯穿育人全过程，确保枪杆子永远掌握在忠于党的、可靠的人手中，确保党和军队事业后继有人。': 0.6125023365020752,\n",
       " '坚持为战育人，打仗需要什么就教什么，部队需要什么就练什么，确保培养的人才能够打赢现代战争。': 0.5937062402566274,\n",
       " '坚持一体化布局，推进联合育人、开放育人、全程育人，形成高水平军事人才培养体系。': 0.670341432094574,\n",
       " '坚持内涵式发展，厚植发展基础，增强发展活力，推动军事教育事业高质量发展。': 0.6519306202729543,\n",
       " '全军各级要认真学习领会习主席重要讲话精神，深刻领会丰富内涵和精神实质。': 0.779465784629186,\n",
       " '要毫不动摇贯彻落实新时代军事教育方针，并结合新的实践不断丰富发展。': 0.779465784629186,\n",
       " '要全面实施人才强军战略，全面深化军事院校改革创新，把培养人才摆在更加突出的位置，培养德才兼备的高素质、专业化新型军事人才，努力在新的起点推动院校教育和人才培养迈上新台阶。': 0.779465784629186}"
      ]
     },
     "execution_count": 11,
     "metadata": {},
     "output_type": "execute_result"
    }
   ],
   "source": [
    "result['C']"
   ]
  }
 ],
 "metadata": {
  "kernelspec": {
   "display_name": "Python 3",
   "language": "python",
   "name": "python3"
  },
  "language_info": {
   "codemirror_mode": {
    "name": "ipython",
    "version": 3
   },
   "file_extension": ".py",
   "mimetype": "text/x-python",
   "name": "python",
   "nbconvert_exporter": "python",
   "pygments_lexer": "ipython3",
   "version": "3.6.6"
  }
 },
 "nbformat": 4,
 "nbformat_minor": 2
}

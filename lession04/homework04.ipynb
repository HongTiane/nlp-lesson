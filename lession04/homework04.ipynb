{
 "cells": [
  {
   "cell_type": "markdown",
   "metadata": {},
   "source": [
    "# Assignment 4"
   ]
  },
  {
   "cell_type": "markdown",
   "metadata": {},
   "source": [
    "## 1. 复习上课内容以及复现课程代码"
   ]
  },
  {
   "cell_type": "markdown",
   "metadata": {},
   "source": [
    "在本部分，你需要复习上课内容和课程代码后，自己复现课程代码。"
   ]
  },
  {
   "cell_type": "markdown",
   "metadata": {},
   "source": [
    "## 2. 回答一下理论题目"
   ]
  },
  {
   "cell_type": "markdown",
   "metadata": {},
   "source": [
    "#### 1. What does a neuron compute?"
   ]
  },
  {
   "cell_type": "markdown",
   "metadata": {},
   "source": [
    "神经元将输入信号乘以权重求和并加上偏置，然后通过激活函数得到输出"
   ]
  },
  {
   "cell_type": "markdown",
   "metadata": {},
   "source": [
    "####  2. Why we use non-linear activation funcitons in neural networks?\n"
   ]
  },
  {
   "cell_type": "markdown",
   "metadata": {},
   "source": [
    "使用线性函数会使神经网络的层数没有意义，因为如果使用线性函数作为激活函数会导致无论有多少层的隐藏层都能转化为一个线性函数表示。"
   ]
  },
  {
   "cell_type": "markdown",
   "metadata": {},
   "source": [
    "#### 3. What is the 'Logistic Loss' ?"
   ]
  },
  {
   "cell_type": "markdown",
   "metadata": {},
   "source": [
    "Logistic Loss是Logistic Regression的Loss函数，二分类问题是对数损失，多分类问题是交叉熵损失。"
   ]
  },
  {
   "cell_type": "markdown",
   "metadata": {},
   "source": [
    "#### 4. Assume that you are building a binary classifier for detecting if an image containing cats, which activation functions would you recommen using for the output layer ?\n",
    "\n",
    "A. ReLU    \n",
    "B. Leaky ReLU    \n",
    "C. sigmoid    \n",
    "D. tanh  "
   ]
  },
  {
   "cell_type": "markdown",
   "metadata": {},
   "source": [
    "答案：C. sigmoid"
   ]
  },
  {
   "cell_type": "markdown",
   "metadata": {},
   "source": [
    "#### 5. Why we don't use zero initialization for all parameters ?"
   ]
  },
  {
   "cell_type": "markdown",
   "metadata": {},
   "source": [
    "如果初始化参数全为零，会使多个神经元的输出值相同，则每个神经元反向传播更新的参数都相同，导致不同神经元无法学习到不同的特征，失去了多个神经元的意义，相当于只有一个神经元。"
   ]
  },
  {
   "cell_type": "markdown",
   "metadata": {},
   "source": [
    "#### 6. Can you implement the softmax function using python ? "
   ]
  },
  {
   "cell_type": "code",
   "execution_count": 1,
   "metadata": {},
   "outputs": [],
   "source": [
    "def softmax(z):\n",
    "    '''\n",
    "    Compute the softmax of z\n",
    "    Arguments: z -- a scalar or numpy array of any size.\n",
    "    \n",
    "    Return:\n",
    "    s -- softmax(z)\n",
    "    '''\n",
    "    return np.exp(z) / np.sum(np.exp(z))"
   ]
  },
  {
   "cell_type": "markdown",
   "metadata": {},
   "source": [
    "## 3.实践题"
   ]
  },
  {
   "cell_type": "markdown",
   "metadata": {},
   "source": [
    "#### In this practical part, you will build a simple digits recognizer to check if the digit in the image is larger than 5. This assignmnet will guide you step by step to finish your first small project in this course ."
   ]
  },
  {
   "cell_type": "markdown",
   "metadata": {},
   "source": [
    "### 1 - Packages  \n",
    "sklearn is a famous package for machine learning.   \n",
    "matplotlib is a common package for vasualization."
   ]
  },
  {
   "cell_type": "code",
   "execution_count": 2,
   "metadata": {},
   "outputs": [],
   "source": [
    "from sklearn import datasets\n",
    "import matplotlib.pyplot as plt\n",
    "from sklearn.model_selection import train_test_split"
   ]
  },
  {
   "cell_type": "markdown",
   "metadata": {},
   "source": [
    "### 2 - Overvie of the dataset  \n",
    "    - a training set has m_train images labeled as 0 if the digit < 5 or 1 if the digit >= 5\n",
    "    - a test set contains m_test images labels as if the digit < 5 or 1 if the digit >= 5\n",
    "    - eah image if of shape (num_px, num_px ). Thus, each image is square(height=num_px and  width = num_px)"
   ]
  },
  {
   "cell_type": "code",
   "execution_count": 3,
   "metadata": {},
   "outputs": [],
   "source": [
    "# Loading the data \n",
    "digits = datasets.load_digits()"
   ]
  },
  {
   "cell_type": "code",
   "execution_count": 4,
   "metadata": {},
   "outputs": [
    {
     "data": {
      "image/png": "[encoded data removed]",
      "text/plain": [
       "<Figure size 432x288 with 10 Axes>"
      ]
     },
     "metadata": {},
     "output_type": "display_data"
    }
   ],
   "source": [
    "# Vilizating the data\n",
    "for i in range(1,11):\n",
    "    plt.subplot(2,5,i)\n",
    "    plt.imshow(digits.data[i-1].reshape([8,8]),cmap=plt.cm.gray_r)\n",
    "    plt.text(3,10,str(digits.target[i-1]))\n",
    "    plt.xticks([])\n",
    "    plt.yticks([])\n",
    "plt.show()"
   ]
  },
  {
   "cell_type": "code",
   "execution_count": 5,
   "metadata": {},
   "outputs": [],
   "source": [
    "# Split the data into training set and test set \n",
    "X_train, X_test, y_train, y_test = train_test_split(digits.data, digits.target, test_size=0.25)"
   ]
  },
  {
   "cell_type": "code",
   "execution_count": 6,
   "metadata": {},
   "outputs": [],
   "source": [
    "# reformulate the label. \n",
    "# If the digit is smaller than 5, the label is 0.\n",
    "# If the digit is larger than 5, the label is 1.\n",
    "\n",
    "y_train[y_train < 5 ] = 0\n",
    "y_train[y_train >= 5] = 1\n",
    "y_test[y_test < 5] = 0\n",
    "y_test[y_test >= 5] = 1"
   ]
  },
  {
   "cell_type": "markdown",
   "metadata": {},
   "source": [
    "### 3- Architecture of the neural network"
   ]
  },
  {
   "cell_type": "markdown",
   "metadata": {},
   "source": [
    "##### Mathematical expression of the algorithm:"
   ]
  },
  {
   "cell_type": "markdown",
   "metadata": {},
   "source": [
    "For one example $x^{(i)}$:   \n",
    " $$ z^{(i)} = w^T * x^{(i)} +b $$   \n",
    " $$ y^{(i)} = a^{(i)} = sigmoid(z^{(i)})$$   \n",
    " $$L(a^{(i)},y^{(i)}) = -y^{(i)} log(a^{(i)})-(1-y^{(i)})log(1-a^{(i)})$$"
   ]
  },
  {
   "cell_type": "markdown",
   "metadata": {},
   "source": [
    "The total cost over all training examples:\n",
    "$$ J = \\frac{1}{m}\\sum_{i=1}^{m}L(a^{(i)},y^{(i)}) $$"
   ]
  },
  {
   "cell_type": "markdown",
   "metadata": {},
   "source": [
    "#### 4 - Building the algorithm"
   ]
  },
  {
   "cell_type": "markdown",
   "metadata": {},
   "source": [
    "##### 4.1- Activation function    \n",
    "###### Exercise:\n",
    "Finish the sigmoid funciton "
   ]
  },
  {
   "cell_type": "code",
   "execution_count": 7,
   "metadata": {},
   "outputs": [],
   "source": [
    "import numpy as np\n",
    "def sigmoid(z):\n",
    "    '''\n",
    "    Compute the sigmoid of z\n",
    "    Arguments: z -- a scalar or numpy array of any size.\n",
    "    \n",
    "    Return:\n",
    "    s -- sigmoid(z)\n",
    "    '''\n",
    "    # 解决大于19，sigmoid返回1的问题\n",
    "    z[z > 19.5] = 19.5\n",
    "    s = 1 / (1 + np.exp(-z))\n",
    "    \n",
    "    return s"
   ]
  },
  {
   "cell_type": "markdown",
   "metadata": {},
   "source": [
    "##### 4.1-Initializaing parameters\n",
    "###### Exercise:\n",
    "Finishe the initialize_parameters function below"
   ]
  },
  {
   "cell_type": "code",
   "execution_count": 8,
   "metadata": {},
   "outputs": [],
   "source": [
    "# Random innitialize the parameters\n",
    "\n",
    "def initialize_parameters(dim):\n",
    "    '''\n",
    "    Argument: dim -- size of the w vector\n",
    "    \n",
    "    Returns:\n",
    "    w -- initialized vector of shape (dim,1)\n",
    "    b -- initializaed scalar\n",
    "    '''\n",
    "    # 正态分布\n",
    "    w = np.random.normal(size=(dim, 1))\n",
    "    b = np.random.normal()\n",
    "\n",
    "    assert(w.shape == (dim,1))\n",
    "    assert(isinstance(b,float))\n",
    "    \n",
    "    return w,b"
   ]
  },
  {
   "cell_type": "markdown",
   "metadata": {},
   "source": [
    "#### 4.3-Forward and backward propagation"
   ]
  },
  {
   "cell_type": "markdown",
   "metadata": {},
   "source": [
    "###### Some mathematical expressions\n",
    "Forward Propagation:   \n",
    ". X    \n",
    ". A = $\\sigma(w^T*X+b) = (a^{(1)},a^{(2)},...,a^{(m)})$   \n",
    ". J = $-\\frac{1}{m} \\sum_{i=1}^{m}y^{(i)}log(a^{(i)})+(1-y^{(i)})log(1-a^{(i)})$       "
   ]
  },
  {
   "cell_type": "markdown",
   "metadata": {},
   "source": [
    "Some derivative: \n",
    "$$\\frac{\\partial{J}}{\\partial{w}} = \\frac{1}{m}X^T*(A-Y)$$   \n",
    "$$\\frac{\\partial{J}}{\\partial{b}} = \\frac{1}{m}\\sum_{i=1}^m(a^{(i)}-y^{(i)}) $$"
   ]
  },
  {
   "cell_type": "markdown",
   "metadata": {},
   "source": [
    "###### Exercise:\n",
    "Finish the function below:"
   ]
  },
  {
   "cell_type": "code",
   "execution_count": 9,
   "metadata": {},
   "outputs": [],
   "source": [
    "def propagate(w, b, X, Y):\n",
    "    '''\n",
    "    Implement the cost function and its gradient for the propagation\n",
    "    \n",
    "    Arguments:\n",
    "    w - weights\n",
    "    b - bias\n",
    "    X - data\n",
    "    Y - ground truth\n",
    "    '''\n",
    "    m = X.shape[0]\n",
    "    \n",
    "    A = sigmoid(np.dot(X, w) + b)\n",
    "    \n",
    "    cost = -np.sum(Y * np.log(A) + (1 - Y) * np.log(1 - A)) / m\n",
    "    \n",
    "    dw = np.dot(X.T, (A - Y)) / m\n",
    "    \n",
    "    db = np.sum(A - Y) / m\n",
    "    \n",
    "    assert(dw.shape == w.shape)\n",
    "    assert(db.dtype == float)\n",
    "    \n",
    "    grads = {'dw':dw, 'db':db}\n",
    "    return grads, cost"
   ]
  },
  {
   "cell_type": "markdown",
   "metadata": {},
   "source": [
    "##### 4.4 -Optimization"
   ]
  },
  {
   "cell_type": "markdown",
   "metadata": {},
   "source": [
    "###### Exercise:\n",
    "Minimizing the cost function using gradient descent.   \n",
    "$$\\theta = \\theta - \\alpha*d\\theta$$ where $\\alpha$ is the learning rate."
   ]
  },
  {
   "cell_type": "code",
   "execution_count": 10,
   "metadata": {},
   "outputs": [],
   "source": [
    "def optimize(w, b, X, Y, num_iterations, learning_rate, print_cost=False):\n",
    "    '''\n",
    "    This function optimize w and b by running a gradient descen algorithm\n",
    "    \n",
    "    Arguments:\n",
    "    w - weights\n",
    "    b - bias\n",
    "    X - data\n",
    "    Y - ground truth\n",
    "    num_iterations -- number of iterations of the optimization loop\n",
    "    learning_rate -- learning rate of the gradient descent update rule\n",
    "    print_cost -- True to print the loss every 100 steps\n",
    "    \n",
    "    Returns:\n",
    "    params - dictionary containing the weights w and bias b\n",
    "    grads -- dictionary containing the gradients of the weights and bias with respect to the cost function\n",
    "    costs -- list of all the costs computed during the optimization, this will be used to plot the learning curve.\n",
    "    \n",
    "    '''\n",
    "    \n",
    "    costs = []\n",
    "    for i in range(num_iterations):\n",
    "        \n",
    "        grads, cost = propagate(w, b, X, Y)\n",
    "        \n",
    "        dw = grads['dw']\n",
    "        db = grads['db']\n",
    "        \n",
    "        w = w - learning_rate * dw\n",
    "        b = b - learning_rate * db\n",
    "        \n",
    "        if i % 100 == 0:\n",
    "            costs.append(cost)\n",
    "            if print_cost:\n",
    "                print (\"Cost after iteration %i: %f\" %(i, cost))\n",
    "    \n",
    "    params = {\"w\":w,\n",
    "              \"b\":b}\n",
    "    \n",
    "    grads = {\"dw\":dw,\n",
    "             \"db\":db}\n",
    "    \n",
    "    return params, grads, costs"
   ]
  },
  {
   "cell_type": "markdown",
   "metadata": {},
   "source": [
    "###### Exercise\n",
    "The previous function will output the learned w and b. We are able to use w and b to predict the labels for a dataset X. Implement the predict() function.    \n",
    "Two steps to finish this task:   \n",
    "1. Calculate $\\hat{Y} = A = \\sigma(w^T*X+b)$   \n",
    "2. Convert the entries of a into 0 (if activation <= 0.5) or 1 (if activation > 0.5), stores the predictions in a vector Y_prediction. If you wish, you can use an if/else statement in a for loop (though there is also a way to vectorize this)."
   ]
  },
  {
   "cell_type": "code",
   "execution_count": 11,
   "metadata": {},
   "outputs": [],
   "source": [
    "def predict(w, b, X):\n",
    "    '''\n",
    "    Predict whether the label is 0 or 1 using learned logistic regression parameters (w, b)\n",
    "    \n",
    "    Arguments:\n",
    "    w -- weights\n",
    "    b -- bias \n",
    "    X -- data \n",
    "    \n",
    "    Returns:\n",
    "    y_pred -- a numpy array (vector) containing all predictions (0/1) for the examples in X\n",
    "    '''\n",
    "\n",
    "    y_pred = sigmoid(np.dot(X, w) + b)\n",
    "    \n",
    "    y_pred = y_pred.squeeze()\n",
    "    \n",
    "    assert(y_pred.shape == (X.shape[0],))\n",
    "    \n",
    "    return y_pred"
   ]
  },
  {
   "cell_type": "markdown",
   "metadata": {},
   "source": [
    "##### 5- Merge all functions into a model"
   ]
  },
  {
   "cell_type": "markdown",
   "metadata": {},
   "source": [
    "Congratulations !! You have finished all the necessary components for constructing a model. Now, Let's take the challenge to merge all the implemented function into one model."
   ]
  },
  {
   "cell_type": "code",
   "execution_count": 12,
   "metadata": {},
   "outputs": [],
   "source": [
    "def fit_predict(X_train, y_train, X_test, y_test, num_iterations, learning_rate, print_cost=False):\n",
    "    \"\"\"\n",
    "    Build the logistic regression model by calling all the functions you have implemented.\n",
    "    Arguments:\n",
    "    X_train - training set\n",
    "    y_train - training label\n",
    "    X_test - test set\n",
    "    y_test - test label\n",
    "    num_iteration - hyperparameter representing the number of iterations to optimize the parameters\n",
    "    learning_rate -- hyperparameter representing the learning rate used in the update rule of optimize()\n",
    "    print_cost -- Set to true to print the cost every 100 iterations\n",
    "    \n",
    "    Returns:\n",
    "    d - dictionary should contain following information w,b,training_accuracy, test_accuracy,cost\n",
    "    eg: d = {\"w\":w,\n",
    "             \"b\":b,\n",
    "             \"training_accuracy\": traing_accuracy,\n",
    "             \"test_accuracy\":test_accuracy,\n",
    "             \"costs\":costs}\n",
    "    \"\"\"\n",
    "    \n",
    "    w, b = initialize_parameters(X_train.shape[1])\n",
    "    \n",
    "    params, grads, costs = optimize(w, b, X_train, y_train.reshape(y_train.shape[0], 1), num_iterations, learning_rate, print_cost=print_cost)\n",
    "    \n",
    "    y_train_pred = predict(params['w'], params['b'], X_train)\n",
    "\n",
    "    y_train_pred[y_train_pred < 0.5] = 0\n",
    "    y_train_pred[y_train_pred >= 0.5] = 1\n",
    "    training_accuracy = np.sum(y_train_pred == y_train) / y_train.size\n",
    "    \n",
    "    y_test_pred = predict(params['w'], params['b'], X_test)\n",
    "    \n",
    "    y_test_pred[y_test_pred < 0.5] = 0\n",
    "    y_test_pred[y_test_pred >= 0.5] = 1\n",
    "    test_accuracy = np.sum(y_test_pred == y_test) / y_test.size\n",
    "    \n",
    "    return {\n",
    "        \"w\": params['w'].squeeze(), \n",
    "        \"b\": params['b'], \n",
    "        \"training_accuracy\": training_accuracy, \n",
    "        \"test_accuracy\": test_accuracy, \n",
    "        \"costs\": costs\n",
    "    }"
   ]
  },
  {
   "cell_type": "code",
   "execution_count": 13,
   "metadata": {
    "scrolled": true
   },
   "outputs": [],
   "source": [
    "result = fit_predict(X_train, y_train, X_test, y_test, 3000, 1e-2, print_cost=False)"
   ]
  },
  {
   "cell_type": "markdown",
   "metadata": {},
   "source": [
    "### w"
   ]
  },
  {
   "cell_type": "code",
   "execution_count": 14,
   "metadata": {},
   "outputs": [
    {
     "data": {
      "text/plain": [
       "array([-1.21866014, -0.81981429, -0.03551776,  0.01007036,  0.12517523,\n",
       "        0.14468878, -0.00864456,  0.58231276,  2.2501605 , -0.29855307,\n",
       "        0.14722133,  0.08286797, -0.05704881, -0.05799691,  0.094563  ,\n",
       "        0.72020183,  0.47587078,  0.2212154 ,  0.13814193, -0.00691692,\n",
       "       -0.22785175, -0.11522975, -0.23046885, -0.82904678,  0.16002359,\n",
       "       -0.29114283,  0.10804093,  0.17481189,  0.04913468,  0.23261403,\n",
       "       -0.16510015,  1.91141019, -0.77421737, -0.18903896, -0.09168604,\n",
       "        0.27327393, -0.13078909, -0.05978335,  0.16191268, -1.57106045,\n",
       "        0.52605482, -0.21000907,  0.1839726 , -0.10981681,  0.21212121,\n",
       "        0.11933169,  0.00877658,  0.84464521,  0.88358985,  0.11602356,\n",
       "       -0.0118733 , -0.07052497, -0.38370362, -0.05028487,  0.24436663,\n",
       "       -0.54913411, -0.01580589,  0.09075985,  0.18629169, -0.12312284,\n",
       "       -0.12774271, -0.09396828, -0.21625881,  0.25522322])"
      ]
     },
     "execution_count": 14,
     "metadata": {},
     "output_type": "execute_result"
    }
   ],
   "source": [
    "result['w']"
   ]
  },
  {
   "cell_type": "markdown",
   "metadata": {},
   "source": [
    "### b "
   ]
  },
  {
   "cell_type": "code",
   "execution_count": 15,
   "metadata": {},
   "outputs": [
    {
     "data": {
      "text/plain": [
       "-1.884940131853359"
      ]
     },
     "execution_count": 15,
     "metadata": {},
     "output_type": "execute_result"
    }
   ],
   "source": [
    "result['b']"
   ]
  },
  {
   "cell_type": "markdown",
   "metadata": {},
   "source": [
    "###  training accuracy"
   ]
  },
  {
   "cell_type": "code",
   "execution_count": 16,
   "metadata": {},
   "outputs": [
    {
     "data": {
      "text/plain": [
       "0.888641425389755"
      ]
     },
     "execution_count": 16,
     "metadata": {},
     "output_type": "execute_result"
    }
   ],
   "source": [
    "result['training_accuracy']"
   ]
  },
  {
   "cell_type": "markdown",
   "metadata": {},
   "source": [
    "###  test accuracy"
   ]
  },
  {
   "cell_type": "code",
   "execution_count": 17,
   "metadata": {},
   "outputs": [
    {
     "data": {
      "text/plain": [
       "0.9022222222222223"
      ]
     },
     "execution_count": 17,
     "metadata": {},
     "output_type": "execute_result"
    }
   ],
   "source": [
    "result['test_accuracy']"
   ]
  },
  {
   "cell_type": "markdown",
   "metadata": {},
   "source": [
    "### costs"
   ]
  },
  {
   "cell_type": "code",
   "execution_count": 18,
   "metadata": {},
   "outputs": [
    {
     "data": {
      "text/plain": [
       "[<matplotlib.lines.Line2D at 0x2b20ca2f390>]"
      ]
     },
     "execution_count": 18,
     "metadata": {},
     "output_type": "execute_result"
    },
    {
     "data": {
      "image/png": "[encoded data removed]",
      "text/plain": [
       "<Figure size 432x288 with 1 Axes>"
      ]
     },
     "metadata": {
      "needs_background": "light"
     },
     "output_type": "display_data"
    }
   ],
   "source": [
    "plt.plot(list(range(len(result['costs']))), result['costs'])"
   ]
  },
  {
   "cell_type": "markdown",
   "metadata": {},
   "source": [
    "### 4.选做题"
   ]
  },
  {
   "cell_type": "markdown",
   "metadata": {},
   "source": [
    "Congratulations on building your first logistic regression model. It is your time to analyze it further."
   ]
  },
  {
   "cell_type": "markdown",
   "metadata": {},
   "source": [
    "##### 4.1 Observe the effect of learning rate on the leraning process.   \n",
    "Hits: plot the learning curve with different learning rate"
   ]
  },
  {
   "cell_type": "code",
   "execution_count": 19,
   "metadata": {},
   "outputs": [],
   "source": [
    "def plot_learning_curve_learning_rate(learning_rate, X_train, y_train, X_test, y_test, num_iterations=1000):\n",
    "    learning_rate_score = []\n",
    "    train_accuracy_score = []\n",
    "    test_accuracy_score = []\n",
    "    for _ in range(15):\n",
    "        result = fit_predict(X_train, y_train, X_test, y_test, num_iterations, learning_rate , print_cost=False)\n",
    "        learning_rate_score.append(learning_rate)\n",
    "        train_accuracy_score.append(result['training_accuracy'])\n",
    "        test_accuracy_score.append(result['test_accuracy'])\n",
    "        \n",
    "        learning_rate += 1e-3\n",
    "    \n",
    "    plt.plot(learning_rate_score, train_accuracy_score, label=\"train\")\n",
    "    plt.plot(learning_rate_score, test_accuracy_score, label=\"test\")\n",
    "    plt.legend()\n",
    "    plt.show()"
   ]
  },
  {
   "cell_type": "code",
   "execution_count": 20,
   "metadata": {},
   "outputs": [
    {
     "data": {
      "image/png": "[encoded data removed]",
      "text/plain": [
       "<Figure size 432x288 with 1 Axes>"
      ]
     },
     "metadata": {
      "needs_background": "light"
     },
     "output_type": "display_data"
    }
   ],
   "source": [
    "plot_learning_curve_learning_rate(1e-3, X_train, y_train, X_test, y_test)"
   ]
  },
  {
   "cell_type": "markdown",
   "metadata": {},
   "source": [
    "##### 4.2 Observe the effect of iteration_num on the test accuracy."
   ]
  },
  {
   "cell_type": "code",
   "execution_count": 21,
   "metadata": {},
   "outputs": [],
   "source": [
    "def plot_learning_cure_iteration_num(num_iterations, X_train, y_train, X_test, y_test, learning_rate=1e-3):\n",
    "    iteration_num_score = []\n",
    "    train_accuracy_score = []\n",
    "    test_accuracy_score = []\n",
    "    for _ in range(15):\n",
    "        result = fit_predict(X_train, y_train, X_test, y_test, num_iterations, learning_rate , print_cost=False)\n",
    "        iteration_num_score.append(num_iterations)\n",
    "        train_accuracy_score.append(result['training_accuracy'])\n",
    "        test_accuracy_score.append(result['test_accuracy'])\n",
    "        \n",
    "        num_iterations += 500\n",
    "    \n",
    "    plt.plot(iteration_num_score, train_accuracy_score, label=\"train\")\n",
    "    plt.plot(iteration_num_score, test_accuracy_score, label=\"test\")\n",
    "    plt.legend()\n",
    "    plt.show()"
   ]
  },
  {
   "cell_type": "code",
   "execution_count": 22,
   "metadata": {},
   "outputs": [
    {
     "data": {
      "image/png": "[encoded data removed]",
      "text/plain": [
       "<Figure size 432x288 with 1 Axes>"
      ]
     },
     "metadata": {
      "needs_background": "light"
     },
     "output_type": "display_data"
    }
   ],
   "source": [
    "plot_learning_cure_iteration_num(500, X_train, y_train, X_test, y_test)"
   ]
  },
  {
   "cell_type": "markdown",
   "metadata": {},
   "source": [
    "# Challenge ! ! !\n",
    "\n",
    "The original data have images labeled 0,1,2,3,4,5,6,7,8,9. In our logistic model, we only detect if the digit in the image is larger or smaller than 5. Now, Let's go for a more challenging problem. Try to use softmax function to build a model to recognize which digits (0,1,2,3,4,5,6,7,8,9) is in the image."
   ]
  },
  {
   "cell_type": "code",
   "execution_count": 23,
   "metadata": {},
   "outputs": [],
   "source": [
    "def initialize_parameters(dim):\n",
    "    '''\n",
    "    Argument: dim -- size of the w vector\n",
    "    \n",
    "    Returns:\n",
    "    w -- initialized vector of shape (dim,10)\n",
    "    b -- initializaed scalar\n",
    "    '''\n",
    "    # 正态分布\n",
    "    w = np.random.normal(size=(dim, 10))\n",
    "    b = np.random.normal(size=(1, 10))\n",
    "\n",
    "    assert(w.shape == (dim,10))\n",
    "    assert(b.shape == (1,10))\n",
    "    \n",
    "    return w,b"
   ]
  },
  {
   "cell_type": "code",
   "execution_count": 24,
   "metadata": {},
   "outputs": [],
   "source": [
    "def propagate(w, b, X ,Y):\n",
    "    '''\n",
    "    Implement the cost function and its gradient for the propagation\n",
    "    \n",
    "    Arguments:\n",
    "    w - weights\n",
    "    b - bias\n",
    "    X - data\n",
    "    Y - ground truth\n",
    "    '''\n",
    "    m = X.shape[0]\n",
    "    \n",
    "    tmp = np.dot(X, w) + b\n",
    "    \n",
    "    A = np.empty(tmp.shape)\n",
    "    for i in range(tmp.shape[0]):\n",
    "        A[i] = softmax(tmp[i])\n",
    "    \n",
    "    cost = -sum(np.dot(Y * np.log(A), np.ones((Y.shape[1], 1)))) / m\n",
    "    \n",
    "    dw = np.dot(X.T, A - Y) / m\n",
    "    \n",
    "    db = np.dot(np.ones((1, Y.shape[0])), A - Y) / m\n",
    "    \n",
    "    assert(dw.shape == w.shape)\n",
    "    assert(db.shape == b.shape)\n",
    "    \n",
    "    grads = {'dw':dw,\n",
    "             'db':db}\n",
    "    return grads, cost"
   ]
  },
  {
   "cell_type": "code",
   "execution_count": 25,
   "metadata": {},
   "outputs": [],
   "source": [
    "def optimize(w, b, X, Y, num_iterations, learning_rate, print_cost=False):\n",
    "    '''\n",
    "    This function optimize w and b by running a gradient descen algorithm\n",
    "    \n",
    "    Arguments:\n",
    "    w - weights\n",
    "    b - bias\n",
    "    X - data\n",
    "    Y - ground truth\n",
    "    num_iterations -- number of iterations of the optimization loop\n",
    "    learning_rate -- learning rate of the gradient descent update rule\n",
    "    print_cost -- True to print the loss every 100 steps\n",
    "    \n",
    "    Returns:\n",
    "    params - dictionary containing the weights w and bias b\n",
    "    grads -- dictionary containing the gradients of the weights and bias with respect to the cost function\n",
    "    costs -- list of all the costs computed during the optimization, this will be used to plot the learning curve.\n",
    "    \n",
    "    '''\n",
    "    \n",
    "    costs = []\n",
    "    \n",
    "    for i in range(num_iterations):\n",
    "        \n",
    "        grads, cost = propagate(w, b, X, Y)\n",
    "        \n",
    "        dw = grads['dw']\n",
    "        db = grads['db']\n",
    "        \n",
    "        w = w - learning_rate * dw\n",
    "        b = b - learning_rate * db\n",
    "        \n",
    "        if i % 100 == 0:\n",
    "            costs.append(cost)\n",
    "        if print_cost and i % 100 == 0:\n",
    "            print (\"Cost after iteration %i: %f\" %(i, cost))\n",
    "    \n",
    "    params = {\"w\":w,\n",
    "              \"b\":b}\n",
    "    \n",
    "    grads = {\"dw\":dw,\n",
    "             \"db\":db}\n",
    "    \n",
    "    return params, grads, costs"
   ]
  },
  {
   "cell_type": "code",
   "execution_count": 26,
   "metadata": {},
   "outputs": [],
   "source": [
    "def predict(w, b, X):\n",
    "    '''\n",
    "    Predict whether the label is 0 or 1 using learned logistic regression parameters (w, b)\n",
    "    \n",
    "    Arguments:\n",
    "    w -- weights\n",
    "    b -- bias \n",
    "    X -- data \n",
    "    \n",
    "    Returns:\n",
    "    Y_prediction -- a numpy array (vector) containing all predictions (0-9) for the examples in X\n",
    "    '''\n",
    "    \n",
    "    tmp = np.dot(X, w) + b\n",
    "    \n",
    "    A = np.empty(tmp.shape)\n",
    "    for i in range(tmp.shape[0]):\n",
    "        A[i] = softmax(tmp[i])\n",
    "    \n",
    "    y_pred = A.argmax(axis=1)\n",
    "    \n",
    "    assert(y_pred.shape == (X.shape[0],))\n",
    "    \n",
    "    return y_pred"
   ]
  },
  {
   "cell_type": "code",
   "execution_count": 27,
   "metadata": {},
   "outputs": [],
   "source": [
    "def fit_predict(X_train, y_train, X_test, y_test, num_iterations, learning_rate, print_cost=False):\n",
    "    \"\"\"\n",
    "    Build the logistic regression model by calling all the functions you have implemented.\n",
    "    Arguments:\n",
    "    X_train - training set\n",
    "    y_train - training label\n",
    "    X_test - test set\n",
    "    y_test - test label\n",
    "    num_iteration - hyperparameter representing the number of iterations to optimize the parameters\n",
    "    learning_rate -- hyperparameter representing the learning rate used in the update rule of optimize()\n",
    "    print_cost -- Set to true to print the cost every 100 iterations\n",
    "    \n",
    "    Returns:\n",
    "    d - dictionary should contain following information w,b,training_accuracy, test_accuracy,cost\n",
    "    eg: d = {\"w\":w,\n",
    "             \"b\":b,\n",
    "             \"training_accuracy\": traing_accuracy,\n",
    "             \"test_accuracy\":test_accuracy,\n",
    "             \"costs\":costs}\n",
    "    \"\"\"\n",
    "    \n",
    "    w, b = initialize_parameters(X_train.shape[1])\n",
    "    \n",
    "    y_pr_train = np.zeros((y_train.shape[0], 10))\n",
    "    for i in range(y_train.shape[0]):\n",
    "        y_pr_train[i][y_train[i]] = 1\n",
    "    params, grads, costs = optimize(w, b, X_train, y_pr_train, num_iterations, learning_rate, print_cost=print_cost)\n",
    "    \n",
    "    y_train_pred = predict(params['w'], params['b'], X_train)\n",
    "\n",
    "    training_accuracy = np.sum(y_train_pred == y_train) / y_train.size\n",
    "    \n",
    "    y_test_pred = predict(params['w'], params['b'], X_test)\n",
    "    \n",
    "    test_accuracy = np.sum(y_test_pred == y_test) / y_test.size\n",
    "    \n",
    "    return {\n",
    "        \"w\": params['w'].T, \n",
    "        \"b\": params['b'], \n",
    "        \"training_accuracy\": training_accuracy, \n",
    "        \"test_accuracy\": test_accuracy, \n",
    "        \"costs\": costs\n",
    "    }"
   ]
  },
  {
   "cell_type": "code",
   "execution_count": 28,
   "metadata": {},
   "outputs": [],
   "source": [
    "result = fit_predict(X_train, y_train, X_test, y_test, 1000, 1e-2)"
   ]
  },
  {
   "cell_type": "markdown",
   "metadata": {},
   "source": [
    "### w"
   ]
  },
  {
   "cell_type": "code",
   "execution_count": 29,
   "metadata": {},
   "outputs": [
    {
     "data": {
      "text/plain": [
       "array([[ 9.81359076e-01, -1.47760918e-01,  6.60732807e-01,\n",
       "         3.82339685e-01, -1.60736119e-01,  2.19044789e+00,\n",
       "        -1.40068266e+00, -3.08383905e-01, -1.57317971e+00,\n",
       "         1.13176499e+00, -9.18891403e-01, -6.13495340e-03,\n",
       "         4.69358591e-01,  5.06751310e-01,  1.12347906e+00,\n",
       "        -6.30428650e-01, -3.73511630e-01,  6.77103687e-02,\n",
       "        -4.04400067e-01,  6.34049804e-01,  3.27479315e-01,\n",
       "         3.55155266e-01,  1.09613425e-01,  3.17081284e-01,\n",
       "         1.38605513e+00,  6.83877427e-02,  1.14100581e+00,\n",
       "         3.78457890e-01,  2.82983723e-01, -3.99391308e-01,\n",
       "         1.26337013e+00, -4.51239947e-01, -6.05480237e-01,\n",
       "        -2.91500822e-01,  4.10903031e-01, -2.42331722e-02,\n",
       "         1.03938340e+00,  6.09739737e-01, -8.88928587e-01,\n",
       "        -2.61486246e-01,  6.04225095e-01,  5.59773244e-01,\n",
       "         2.19677057e-01, -8.20307595e-01, -2.67651411e-01,\n",
       "        -1.82894468e-01,  6.42976660e-01, -1.29181927e+00,\n",
       "         4.11734199e-01, -2.62901732e-01, -6.79427453e-01,\n",
       "         2.15480767e-01,  6.32699636e-01,  1.30524042e-01,\n",
       "        -6.78066836e-01,  8.21775073e-01, -1.36610633e+00,\n",
       "        -2.02263282e-01, -5.23542855e-01,  5.11630071e-01,\n",
       "         1.07643623e+00,  1.04757184e+00,  4.45820322e-01,\n",
       "         1.33059326e+00],\n",
       "       [-1.88118305e+00, -7.19808437e-01,  1.35306223e-01,\n",
       "        -6.72348058e-01,  3.13785119e-01,  2.07525866e+00,\n",
       "         5.68856052e-01,  8.85115143e-01, -2.69577391e-01,\n",
       "        -1.89443542e-01, -4.09101355e-01,  1.52517677e-01,\n",
       "         1.69735902e-01,  5.57737922e-01,  7.14236242e-03,\n",
       "         4.35961791e-01,  3.63259385e-01,  7.53520677e-01,\n",
       "        -1.63629514e-01,  4.32710562e-01, -1.43077297e-01,\n",
       "         4.03253963e-02,  1.00911256e-01,  3.19267797e-01,\n",
       "        -1.69703478e+00, -5.58732432e-01,  1.29088170e+00,\n",
       "         9.95197175e-01,  3.18861754e-01,  1.04224637e-01,\n",
       "         5.54090292e-01,  1.36680208e+00, -6.23447989e-01,\n",
       "        -7.70842682e-01,  3.73510826e-01,  2.66310994e-01,\n",
       "         9.87616494e-01,  4.42563971e-01, -1.77557510e-01,\n",
       "         8.07482876e-01,  1.04968860e+00, -2.15969463e-01,\n",
       "         6.02672250e-01, -7.69323478e-01,  9.09086034e-02,\n",
       "        -5.52971669e-02,  5.26554449e-01, -9.07577045e-01,\n",
       "        -2.42169726e-01, -3.22661816e-01, -5.96109290e-01,\n",
       "         1.40557802e-03, -2.70408696e-01,  3.16827360e-01,\n",
       "        -3.22039442e-01,  4.57069480e-02,  6.81961873e-01,\n",
       "        -8.89469546e-01,  5.32461175e-01,  8.64750754e-01,\n",
       "         7.08034110e-01,  5.46527720e-01,  6.14348914e-01,\n",
       "         7.52473792e-01],\n",
       "       [-7.34205206e-01,  1.02808038e+00, -3.74066302e-01,\n",
       "        -1.23161667e+00,  9.40982148e-01, -1.97812380e-01,\n",
       "         1.31085775e+00,  2.60282077e-01, -3.61946148e-01,\n",
       "         1.79472629e+00,  8.06994557e-01,  1.34455937e-01,\n",
       "        -1.11888453e+00, -1.58553327e+00, -1.31740523e+00,\n",
       "        -4.57147765e-01, -2.03168693e+00,  9.40713674e-01,\n",
       "         5.50740277e-03,  1.07809910e-01,  3.18402326e-01,\n",
       "        -1.67784006e+00,  1.16113782e-01, -9.93438015e-01,\n",
       "        -2.25380554e+00, -1.05761224e+00, -5.02991463e-01,\n",
       "        -9.90772722e-01, -6.69699129e-01, -2.34659249e-01,\n",
       "         4.45587296e-01, -1.18460873e+00,  4.61817997e-01,\n",
       "         1.02611023e+00,  1.19995331e+00, -5.08350843e-01,\n",
       "        -2.30665184e-01,  1.65203324e+00,  3.44006402e-01,\n",
       "         9.91613826e-01,  1.82904854e-01, -2.47737534e-01,\n",
       "        -8.06444842e-01, -3.36946749e-01,  2.90013190e-01,\n",
       "        -1.16221635e+00, -6.32292123e-03, -9.71211797e-01,\n",
       "         1.49804341e+00,  6.52498402e-01, -1.23855168e-01,\n",
       "        -1.34681549e+00,  7.61577955e-01, -8.05199803e-01,\n",
       "        -1.56724802e+00, -1.17841537e+00,  6.20218313e-01,\n",
       "        -1.01057371e+00,  1.04873922e+00, -1.24126545e+00,\n",
       "         7.82958862e-01, -9.71700544e-01,  3.93097283e-02,\n",
       "        -1.79803305e-01],\n",
       "       [ 2.54026672e+00, -7.99957290e-01, -9.84534483e-01,\n",
       "        -1.49439839e+00,  2.44318483e+00, -8.98971896e-01,\n",
       "         6.09071388e-02, -4.83887692e-01, -9.44714296e-01,\n",
       "        -4.73099917e-01, -1.77434237e-01,  3.57526262e-01,\n",
       "         1.89122853e+00,  6.01882049e-02, -6.43693189e-01,\n",
       "         1.19782896e+00,  2.81409365e-01,  3.72540827e-01,\n",
       "        -1.11972618e+00, -7.88189215e-01, -1.72697184e+00,\n",
       "         9.50518643e-01, -1.64677324e+00,  1.96613129e-01,\n",
       "         8.48044045e-01,  2.30302937e-02,  1.23122313e+00,\n",
       "         2.61167494e-01,  9.36134153e-01,  1.24694396e+00,\n",
       "         1.63781016e+00, -2.57715628e-01,  3.85115051e-01,\n",
       "         3.77303070e-01,  1.17373941e+00, -8.36114749e-01,\n",
       "        -4.27558802e-01, -7.12508913e-01, -8.66723478e-01,\n",
       "        -5.53229084e-01,  1.24539647e+00, -7.19500430e-01,\n",
       "        -1.99458605e+00, -4.18948806e-01, -1.97757919e+00,\n",
       "        -6.19979189e-01,  1.13496082e+00, -1.04807983e+00,\n",
       "        -3.07436551e-01,  5.70225021e-01,  3.06251041e-01,\n",
       "        -3.58805777e-01,  2.78769410e-01, -8.22267852e-01,\n",
       "         1.74700989e-02,  3.66740437e-01,  9.32663523e-01,\n",
       "         4.57007367e-01,  7.44850271e-01, -1.81238340e+00,\n",
       "        -2.13605641e-01,  6.51180351e-01, -1.76800495e-01,\n",
       "        -8.02906544e-02],\n",
       "       [-1.41487882e+00,  1.31064800e+00, -7.87400295e-02,\n",
       "        -1.28940470e+00, -1.11047691e+00, -5.80012617e-01,\n",
       "        -3.73097758e-01,  1.80478560e-01,  1.14899718e-02,\n",
       "        -3.13527722e-01,  1.75210822e-01, -3.89917934e-01,\n",
       "         5.90132754e-01,  1.27436184e-01, -5.84333679e-01,\n",
       "        -4.73287336e-01,  2.21014553e-01,  3.18169351e-01,\n",
       "        -1.03605156e+00,  2.54965427e-01, -4.86832180e-01,\n",
       "        -1.23710486e+00, -1.15396721e+00, -3.07988344e-02,\n",
       "         1.30107245e+00,  1.76846365e+00, -9.92201004e-02,\n",
       "         1.60596135e-01, -1.33673667e+00, -1.83372640e-01,\n",
       "         9.89063790e-01,  4.18437982e-01,  2.02325529e+00,\n",
       "         1.04766449e+00,  5.09606358e-01,  1.65824334e+00,\n",
       "        -3.75252966e-01,  7.09105911e-01, -5.73032048e-01,\n",
       "         1.48740875e-01,  2.41778754e-01, -8.17337076e-01,\n",
       "         7.07604366e-01, -3.00522911e-01,  4.71168207e-01,\n",
       "         1.47206094e+00, -4.63603252e-01, -9.59700290e-01,\n",
       "        -1.14547010e+00, -1.25492481e+00, -7.45524698e-01,\n",
       "        -1.75732377e+00,  1.29711166e+00, -1.16011991e+00,\n",
       "        -1.34092355e+00,  4.10808113e-01,  1.09165250e+00,\n",
       "        -9.39251752e-01,  1.31353014e-01,  3.18648860e-01,\n",
       "         4.90278979e-03, -1.22764378e+00, -1.11627194e+00,\n",
       "        -1.59732530e+00],\n",
       "       [-1.42483989e+00, -1.51645551e+00,  1.78365379e-01,\n",
       "        -3.19827620e-01, -9.36007217e-01,  1.00009513e+00,\n",
       "         1.54424195e+00,  2.58823801e-01,  5.48581010e-01,\n",
       "        -6.02890664e-01,  1.46357045e+00, -1.36325099e-01,\n",
       "        -1.31783382e-01, -9.85569640e-01,  6.35616816e-01,\n",
       "        -2.94852917e-01,  1.96982982e+00,  1.30641738e+00,\n",
       "         9.02323411e-01, -7.50907186e-02, -1.51317232e+00,\n",
       "         9.09498318e-01,  7.66840905e-01, -9.07405223e-01,\n",
       "         3.07029740e-02, -1.81962820e+00, -4.77904871e-01,\n",
       "        -1.65463170e+00, -5.79369877e-01,  1.12041362e+00,\n",
       "        -2.99283635e-01,  1.16892522e+00, -4.15571525e-01,\n",
       "        -2.74873406e-01, -1.37323790e+00, -1.37990353e-01,\n",
       "        -1.70437873e+00, -2.79274604e-01,  8.27068244e-01,\n",
       "        -3.61968300e-01,  3.39621070e-01,  2.06441094e+00,\n",
       "         1.43066160e-01, -1.08350313e+00,  1.03631474e-01,\n",
       "        -5.67477213e-02, -7.72903474e-01,  3.67990539e-01,\n",
       "        -1.17605604e+00,  1.15255540e-01,  5.89859770e-01,\n",
       "        -1.20598892e+00, -1.38185887e+00,  1.21701605e-02,\n",
       "         6.89415805e-01,  5.26244997e-01,  2.80998246e+00,\n",
       "         6.03576155e-01,  3.37332260e-01, -2.34837663e-01,\n",
       "        -5.76990596e-01, -6.68734652e-01,  1.35320049e+00,\n",
       "        -1.52778285e+00],\n",
       "       [-3.67566427e-01,  4.15130823e-01, -3.56127140e-01,\n",
       "         4.55932921e-01,  1.26274679e+00,  5.61626104e-01,\n",
       "         9.97966922e-02,  3.93473563e-01, -5.67432377e-01,\n",
       "         5.20973305e-01,  3.66556022e-01, -2.13289372e+00,\n",
       "         1.40419940e+00,  6.02208832e-01, -4.59454323e-01,\n",
       "        -5.47849799e-01, -1.11327497e+00,  2.90341844e-01,\n",
       "        -2.24456563e-01, -6.53997245e-01,  3.80578163e-01,\n",
       "        -5.75485078e-01, -8.46041609e-01,  4.67505740e-01,\n",
       "         1.07998564e+00, -2.75508463e-02, -8.36477415e-01,\n",
       "         1.29379492e+00, -3.81427957e-01, -9.60474847e-01,\n",
       "         5.10828892e-01,  8.61663839e-01, -1.71449039e-01,\n",
       "         4.56603400e-01, -7.89023094e-01, -1.86295121e-01,\n",
       "         1.14257714e+00,  3.37517714e-01,  1.29069789e+00,\n",
       "        -9.45418864e-01, -5.05146255e-01, -1.80442256e-01,\n",
       "         4.04307004e-01, -5.29704324e-01,  3.92905876e-01,\n",
       "         1.54880412e-02,  6.21160742e-01, -6.04900052e-01,\n",
       "         7.50351217e-01, -9.43504770e-01, -1.27506876e+00,\n",
       "         1.30359612e-01,  1.64590276e-01,  1.27969765e+00,\n",
       "        -3.53423821e-01,  9.92425172e-01,  1.37816744e+00,\n",
       "         7.66067889e-03, -1.33611042e+00, -1.70435867e+00,\n",
       "         2.66728570e-01,  1.98080992e-01, -1.23679539e+00,\n",
       "        -1.81926270e-01],\n",
       "       [ 6.54461424e-01, -9.73465396e-01,  1.73289358e-01,\n",
       "        -8.72315543e-01, -4.03369420e-01,  1.18353630e+00,\n",
       "        -7.26894714e-01,  1.78276168e+00,  9.33882239e-01,\n",
       "        -2.90724747e+00, -1.37766252e-01, -1.20383103e+00,\n",
       "         4.31267172e-01,  2.68443696e-01, -3.54377089e-01,\n",
       "         2.71922742e-01, -1.59098793e-01,  7.16438755e-01,\n",
       "         5.96335432e-01,  1.17085646e+00,  1.81243649e+00,\n",
       "        -7.85879603e-01,  7.73817255e-01,  2.77214799e-01,\n",
       "        -3.72823243e-01, -5.28186866e-01, -8.16835807e-01,\n",
       "        -2.21917648e-01, -5.85300066e-01,  8.57073983e-01,\n",
       "         5.15638596e-01,  1.62561587e+00,  1.55233726e-01,\n",
       "        -5.17054067e-01, -7.94450807e-01, -2.16269627e+00,\n",
       "         6.45166445e-01,  1.65829337e-01,  6.30358629e-01,\n",
       "         1.18947026e-01,  7.05551031e-01,  1.28962714e-01,\n",
       "         4.17636712e-01, -2.99699993e-03, -2.02843673e+00,\n",
       "         6.17166302e-01,  2.18108485e-01,  2.36169089e-01,\n",
       "        -2.11154100e-01, -9.91456813e-01,  1.39681831e-01,\n",
       "        -2.60752408e+00, -6.70326814e-01,  7.51717847e-01,\n",
       "        -2.62900476e+00,  2.53873747e+00, -1.31651847e+00,\n",
       "         5.94756350e-01,  1.43940855e-01,  1.96359005e+00,\n",
       "        -3.64685313e-01,  7.77375959e-01, -2.94934934e-01,\n",
       "        -8.36061274e-01],\n",
       "       [-4.74948076e-01,  3.41746022e-01,  6.95042733e-01,\n",
       "         9.23639486e-03,  3.99728237e-01, -2.78343993e-01,\n",
       "        -1.31913863e-02,  8.77264476e-01, -3.13527431e-01,\n",
       "        -8.42046351e-01, -1.25375320e+00, -5.95048954e-01,\n",
       "         6.69099568e-01,  7.14736149e-01, -2.39933759e-01,\n",
       "        -2.75463602e-01, -1.60776482e+00,  1.25913624e+00,\n",
       "         1.21522095e+00,  4.49667250e-01,  4.05882938e-02,\n",
       "        -4.29466670e-02,  1.03247905e+00, -1.00573617e-01,\n",
       "         9.23986175e-01, -5.46438636e-01, -4.06925045e-01,\n",
       "         1.30349345e+00, -6.33821832e-01, -2.75984407e-01,\n",
       "         2.44048040e-01, -1.96046811e+00, -2.51075498e+00,\n",
       "        -2.27480770e+00, -1.51926366e+00,  7.89799262e-01,\n",
       "         2.83455825e-01, -6.60879541e-03,  2.15095216e-01,\n",
       "        -1.18765071e+00, -8.83264630e-01,  3.34791163e-01,\n",
       "        -1.72796893e+00,  1.06804343e+00, -6.19902631e-01,\n",
       "         3.60028179e-01,  1.08740187e+00, -2.76483464e-01,\n",
       "         4.81535276e-01,  8.75811840e-02, -1.51637936e+00,\n",
       "        -1.35761004e-01, -1.33886524e+00,  1.63755910e+00,\n",
       "        -1.09611532e+00,  1.32502599e+00,  1.42588075e+00,\n",
       "        -4.17366640e-01, -3.45140946e-01,  1.01013206e-02,\n",
       "        -1.19817573e-01,  1.18940134e+00,  1.79365738e-01,\n",
       "        -4.03367218e-01],\n",
       "       [ 5.95870424e-01, -9.96314253e-01,  1.64001783e+00,\n",
       "        -1.62251184e+00,  3.76235817e-01, -2.15748389e+00,\n",
       "         6.54544452e-01,  3.98047118e-01, -5.69910736e-02,\n",
       "         1.17461594e+00, -4.45397199e-01,  1.27596385e+00,\n",
       "        -9.10780529e-01,  1.51026020e+00,  2.50231749e-01,\n",
       "        -1.98191073e+00,  9.02311589e-02,  8.78149349e-01,\n",
       "        -1.88023307e+00, -5.59786813e-03,  9.55696958e-02,\n",
       "        -6.81512917e-01, -2.92932415e-02,  1.89031138e-01,\n",
       "        -8.21055843e-01, -6.15239726e-01,  1.85479979e-01,\n",
       "        -2.31420097e-01,  9.52547349e-02, -4.47382131e-02,\n",
       "        -1.43904082e-01, -2.38376429e-01, -7.48098683e-01,\n",
       "         2.45745089e-01, -4.11086838e-01,  8.38015371e-01,\n",
       "         1.13953866e+00, -1.15421195e+00,  1.85880067e+00,\n",
       "        -1.44713002e+00,  5.22610866e-01, -4.84012488e-01,\n",
       "         1.04480597e-01, -3.05674782e+00,  4.07507960e-01,\n",
       "        -9.09881341e-01,  2.12671421e-01, -1.05016907e-01,\n",
       "        -1.15464845e-01, -8.91989081e-02,  4.08490834e-02,\n",
       "        -9.49674577e-01,  3.70398111e-01, -1.78108801e+00,\n",
       "         2.94403644e-01, -8.28485065e-01,  3.36311397e-01,\n",
       "         2.01640669e+00,  3.34726883e-01,  1.40093202e+00,\n",
       "         4.45215798e-01,  8.62773009e-01, -4.50725127e-01,\n",
       "        -1.48425633e+00]])"
      ]
     },
     "execution_count": 29,
     "metadata": {},
     "output_type": "execute_result"
    }
   ],
   "source": [
    "result['w']"
   ]
  },
  {
   "cell_type": "markdown",
   "metadata": {},
   "source": [
    "### b"
   ]
  },
  {
   "cell_type": "code",
   "execution_count": 30,
   "metadata": {},
   "outputs": [
    {
     "data": {
      "text/plain": [
       "array([[-1.57986388, -0.08570777,  0.70185907,  0.69222954,  0.29250454,\n",
       "         0.18756303,  0.3891807 ,  0.43494654, -0.74966595,  0.58759019]])"
      ]
     },
     "execution_count": 30,
     "metadata": {},
     "output_type": "execute_result"
    }
   ],
   "source": [
    "result['b']"
   ]
  },
  {
   "cell_type": "markdown",
   "metadata": {},
   "source": [
    "### training_accuracy"
   ]
  },
  {
   "cell_type": "code",
   "execution_count": 31,
   "metadata": {},
   "outputs": [
    {
     "data": {
      "text/plain": [
       "0.8730512249443207"
      ]
     },
     "execution_count": 31,
     "metadata": {},
     "output_type": "execute_result"
    }
   ],
   "source": [
    "result['training_accuracy']"
   ]
  },
  {
   "cell_type": "markdown",
   "metadata": {},
   "source": [
    "### test_accuracy"
   ]
  },
  {
   "cell_type": "code",
   "execution_count": 32,
   "metadata": {},
   "outputs": [
    {
     "data": {
      "text/plain": [
       "0.8511111111111112"
      ]
     },
     "execution_count": 32,
     "metadata": {},
     "output_type": "execute_result"
    }
   ],
   "source": [
    "result['test_accuracy']"
   ]
  },
  {
   "cell_type": "markdown",
   "metadata": {},
   "source": [
    "### costs"
   ]
  },
  {
   "cell_type": "code",
   "execution_count": 33,
   "metadata": {},
   "outputs": [
    {
     "data": {
      "text/plain": [
       "[<matplotlib.lines.Line2D at 0x2b20dfd1208>]"
      ]
     },
     "execution_count": 33,
     "metadata": {},
     "output_type": "execute_result"
    },
    {
     "data": {
      "image/png": "[encoded data removed]",
      "text/plain": [
       "<Figure size 432x288 with 1 Axes>"
      ]
     },
     "metadata": {
      "needs_background": "light"
     },
     "output_type": "display_data"
    }
   ],
   "source": [
    "plt.plot(list(range(len(result['costs']))), result['costs'])"
   ]
  },
  {
   "cell_type": "markdown",
   "metadata": {},
   "source": [
    "# Congratulations ! You have completed assigment 4. "
   ]
  }
 ],
 "metadata": {
  "kernelspec": {
   "display_name": "Python 3",
   "language": "python",
   "name": "python3"
  },
  "language_info": {
   "codemirror_mode": {
    "name": "ipython",
    "version": 3
   },
   "file_extension": ".py",
   "mimetype": "text/x-python",
   "name": "python",
   "nbconvert_exporter": "python",
   "pygments_lexer": "ipython3",
   "version": "3.7.3"
  }
 },
 "nbformat": 4,
 "nbformat_minor": 2
}

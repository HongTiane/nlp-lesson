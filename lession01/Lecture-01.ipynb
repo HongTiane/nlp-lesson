{
 "cells": [
  {
   "cell_type": "code",
   "execution_count": 1,
   "metadata": {},
   "outputs": [],
   "source": [
    "import random"
   ]
  },
  {
   "cell_type": "code",
   "execution_count": 2,
   "metadata": {},
   "outputs": [],
   "source": [
    "def generate_sentence(grammar_rules: str, target, stmt_split='=', expr_split='|'):\n",
    "    \"\"\"\n",
    "    产生句子\n",
    "    \"\"\"\n",
    "    grammar_rules_dict = parse_grammar_rules(grammar_rules, stmt_split, expr_split)\n",
    "\n",
    "    return random_genrate_sentence(grammar_rules_dict, target)"
   ]
  },
  {
   "cell_type": "code",
   "execution_count": 3,
   "metadata": {},
   "outputs": [],
   "source": [
    "def parse_grammar_rules(grammar_rules: str, stmt_split='=', expr_split='|'):\n",
    "    \"\"\"\n",
    "    解析语法规则\n",
    "    \"\"\"\n",
    "    grammar_rules_dict = {}\n",
    "    for line in grammar_rules.split('\\n'):\n",
    "        if line:\n",
    "            stmt, expr = line.split(stmt_split)\n",
    "            grammar_rules_dict[stmt.strip()] = expr.split(expr_split)\n",
    "    return grammar_rules_dict;"
   ]
  },
  {
   "cell_type": "code",
   "execution_count": 5,
   "metadata": {},
   "outputs": [],
   "source": [
    "def random_genrate_sentence(grammar_rules: dict, target):\n",
    "    \"\"\"\n",
    "    随机产生句子\n",
    "    \"\"\"\n",
    "    if target in grammar_rules:\n",
    "        candidate = random.choice(grammar_rules[target])\n",
    "        return ''.join(random_genrate_sentence(grammar_rules, e.strip()) for e in candidate.split())\n",
    "    else:\n",
    "        return target"
   ]
  },
  {
   "cell_type": "code",
   "execution_count": 6,
   "metadata": {},
   "outputs": [],
   "source": [
    "geetings_rules = \"\"\"\n",
    "say_hello = names hello tail\n",
    "names = name names | name\n",
    "name = Jhon | Mike | 老梁 | 老刘\n",
    "hello = 你好 | 您来啦 | 快请进\n",
    "tail = 呀 | !\n",
    "\"\"\""
   ]
  },
  {
   "cell_type": "code",
   "execution_count": 7,
   "metadata": {},
   "outputs": [
    {
     "data": {
      "text/plain": [
       "{'say_hello': [' names hello tail'],\n",
       " 'names': [' name names ', ' name'],\n",
       " 'name': [' Jhon ', ' Mike ', ' 老梁 ', ' 老刘'],\n",
       " 'hello': [' 你好 ', ' 您来啦 ', ' 快请进'],\n",
       " 'tail': [' 呀 ', ' !']}"
      ]
     },
     "execution_count": 7,
     "metadata": {},
     "output_type": "execute_result"
    }
   ],
   "source": [
    "parse_grammar_rules(geetings_rules)"
   ]
  },
  {
   "cell_type": "code",
   "execution_count": 8,
   "metadata": {},
   "outputs": [
    {
     "data": {
      "text/plain": [
       "'Mike您来啦呀'"
      ]
     },
     "execution_count": 8,
     "metadata": {},
     "output_type": "execute_result"
    }
   ],
   "source": [
    "generate_sentence(geetings_rules, 'say_hello')"
   ]
  },
  {
   "cell_type": "code",
   "execution_count": 9,
   "metadata": {},
   "outputs": [
    {
     "data": {
      "text/plain": [
       "'这个好看的蓝色的女人听着一个小小的好看的蓝色的小猫'"
      ]
     },
     "execution_count": 9,
     "metadata": {},
     "output_type": "execute_result"
    }
   ],
   "source": [
    "\n",
    "simple_grammar = \"\"\"\n",
    "sentence => noun_phrase verb_phrase\n",
    "noun_phrase => Article Adj* noun\n",
    "Adj* => Adj | Adj Adj*\n",
    "verb_phrase => verb noun_phrase\n",
    "Article =>  一个 | 这个\n",
    "noun =>   女人 |  篮球 | 桌子 | 小猫\n",
    "verb => 看着   |  坐在 |  听着 | 看见\n",
    "Adj =>   蓝色的 |  好看的 | 小小的\"\"\"\n",
    "generate_sentence(simple_grammar, 'sentence', stmt_split='=>')"
   ]
  },
  {
   "cell_type": "code",
   "execution_count": 10,
   "metadata": {},
   "outputs": [
    {
     "data": {
      "text/plain": [
       "'when(bd<e):c=4'"
      ]
     },
     "execution_count": 10,
     "metadata": {},
     "output_type": "execute_result"
    }
   ],
   "source": [
    "when_grammar_rules = \"\"\"\n",
    "when_stmt => when ( condition ): stmt\n",
    "condition => var op var | u_op var\n",
    "op => > | < | == | >= | <=\n",
    "u_op => !\n",
    "var => char var | char\n",
    "char => a | b | c | d | e | f\n",
    "stmt => assign | when_stmt\n",
    "assign => var = 2 | var = 3 | var = 4 | var = 5\n",
    "\"\"\"\n",
    "\n",
    "generate_sentence(when_grammar_rules, 'when_stmt', stmt_split='=>')"
   ]
  },
  {
   "cell_type": "markdown",
   "metadata": {},
   "source": [
    "# 2-gram Language Model\n",
    "$$ language\\_model(String) = Probability(String) \\in (0, 1) $$\n",
    "$$ Pro(w_1 w_2 w_3 w_4) = Pr(w_1 | w_2 w_3 w_ 4) * P(w_2 | w_3 w_4) * Pr(w_3 | w_4) * Pr(w_4)$$\n",
    "$$ Pro(w_1 w_2 w_3 w_4) \\sim Pr(w_1 | w_2 ) * P(w2 | w_3 ) * Pr(w_3 | w_4) * Pr(w_4)$$"
   ]
  },
  {
   "cell_type": "code",
   "execution_count": 11,
   "metadata": {},
   "outputs": [
    {
     "name": "stderr",
     "output_type": "stream",
     "text": [
      "Building prefix dict from the default dictionary ...\n",
      "Loading model from cache C:\\Users\\ZENGYU~1\\AppData\\Local\\Temp\\jieba.cache\n",
      "Loading model cost 1.131 seconds.\n",
      "Prefix dict has been built succesfully.\n"
     ]
    },
    {
     "name": "stdout",
     "output_type": "stream",
     "text": [
      "基于\n",
      "前缀\n",
      "词典\n",
      "实现\n",
      "高效\n",
      "的\n",
      "词图\n",
      "扫描\n",
      "，\n",
      "生成\n",
      "句子\n",
      "中\n",
      "汉字\n",
      "所有\n",
      "可能\n",
      "成词\n",
      "情况\n",
      "所\n",
      "构成\n",
      "的\n",
      "有\n",
      "向\n",
      "无\n",
      "环图\n",
      " \n",
      "(\n",
      "DAG\n",
      ")\n"
     ]
    }
   ],
   "source": [
    "import jieba\n",
    "words = jieba.cut('基于前缀词典实现高效的词图扫描，生成句子中汉字所有可能成词情况所构成的有向无环图 (DAG)')\n",
    "for word in words:\n",
    "    print(word)"
   ]
  },
  {
   "cell_type": "code",
   "execution_count": 12,
   "metadata": {},
   "outputs": [
    {
     "name": "stdout",
     "output_type": "stream",
     "text": [
      "基于\n",
      "前缀\n",
      "词典\n",
      "实现\n",
      "高效\n",
      "的\n",
      "词图\n",
      "扫描\n",
      "The\n",
      " \n",
      "Pursuit\n",
      " \n",
      "of\n",
      " \n",
      "Happyness\n",
      "生成\n",
      "句子\n",
      "中\n",
      "汉字\n",
      "所有\n",
      "可能\n",
      "成词\n",
      "情况\n",
      "所\n",
      "构成\n",
      "的\n",
      "有\n",
      "向\n",
      "无\n",
      "环图\n"
     ]
    }
   ],
   "source": [
    "en_words = jieba.cut('基于前缀词典实现高效的词图扫描The Pursuit of Happyness生成句子中汉字所有可能成词情况所构成的有向无环图')\n",
    "for word in en_words:\n",
    "    print(word)"
   ]
  },
  {
   "cell_type": "code",
   "execution_count": 13,
   "metadata": {},
   "outputs": [],
   "source": [
    "from collections import Counter\n",
    "\n",
    "def generate_2_gram_words_count(sample_file_path: str, unit_length=1000000):\n",
    "    words_count = {}\n",
    "    two_gram_words_count = {}\n",
    "    with open(sample_file_path, encoding='utf-8') as sample_file:\n",
    "        sample = sample_file.read()\n",
    "        begin_index = 0\n",
    "        while begin_index < len(sample):\n",
    "            words = cut(sample[begin_index:(begin_index + unit_length)])\n",
    "            _generate_2_gram_words_count(words, words_count, two_gram_words_count)\n",
    "            begin_index = begin_index + unit_length\n",
    "    return words_count, two_gram_words_count\n",
    "\n",
    "def cut(sentence):\n",
    "    return list(jieba.cut(sentence))\n",
    "\n",
    "def _generate_2_gram_words_count(words: list, words_count: dict, two_gram_words_count: dict):\n",
    "    _words_count = Counter(words)\n",
    "    for w, f in _words_count.most_common():\n",
    "        if w in words_count:\n",
    "            words_count[w] = words_count[w] + f\n",
    "        else:\n",
    "            words_count[w] = f\n",
    "    \n",
    "    tow_gram_words = [words[i] + words[i + 1] for i in range(0, len(words) - 1)]\n",
    "    _tow_gram_words_count = Counter(tow_gram_words)\n",
    "    for tgw, f in _tow_gram_words_count.most_common():\n",
    "        if tgw in two_gram_words_count:\n",
    "            two_gram_words_count[tgw] = two_gram_words_count[tgw] + f\n",
    "        else:\n",
    "            two_gram_words_count[tgw] = f\n",
    "            \n",
    "        "
   ]
  },
  {
   "cell_type": "code",
   "execution_count": 14,
   "metadata": {},
   "outputs": [
    {
     "name": "stdout",
     "output_type": "stream",
     "text": [
      "{'的': 2, '基于': 1, '前缀': 1, '词典': 1, '实现': 1, '高效': 1, '词图': 1, '扫描': 1, '，': 1, '生成': 1, '句子': 1, '中': 1, '汉字': 1, '所有': 1, '可能': 1, '成词': 1, '情况': 1, '所': 1, '构成': 1, '有': 1, '向': 1, '无': 1, '环图': 1, ' ': 1, '(': 1, 'DAG': 1, ')': 1}\n",
      "{'基于前缀': 1, '前缀词典': 1, '词典实现': 1, '实现高效': 1, '高效的': 1, '的词图': 1, '词图扫描': 1, '扫描，': 1, '，生成': 1, '生成句子': 1, '句子中': 1, '中汉字': 1, '汉字所有': 1, '所有可能': 1, '可能成词': 1, '成词情况': 1, '情况所': 1, '所构成': 1, '构成的': 1, '的有': 1, '有向': 1, '向无': 1, '无环图': 1, '环图 ': 1, ' (': 1, '(DAG': 1, 'DAG)': 1}\n"
     ]
    }
   ],
   "source": [
    "words = cut('基于前缀词典实现高效的词图扫描，生成句子中汉字所有可能成词情况所构成的有向无环图 (DAG)')\n",
    "# print(words)\n",
    "words_count = {}\n",
    "two_gram_words_count = {}\n",
    "_generate_2_gram_words_count(words, words_count, two_gram_words_count)\n",
    "print(words_count)\n",
    "print(two_gram_words_count)"
   ]
  },
  {
   "cell_type": "code",
   "execution_count": 16,
   "metadata": {},
   "outputs": [],
   "source": [
    "sample_file_path = 'D:\\\\Users\\\\ZengYubin\\\\study\\\\nlp-coures\\\\github\\\\2019-autumn\\\\article_9k.txt'\n",
    "words_count, two_gram_words_count = generate_2_gram_words_count(sample_file_path)"
   ]
  },
  {
   "cell_type": "code",
   "execution_count": 17,
   "metadata": {},
   "outputs": [
    {
     "data": {
      "text/plain": [
       "7199"
      ]
     },
     "execution_count": 17,
     "metadata": {},
     "output_type": "execute_result"
    }
   ],
   "source": [
    "len(words_count)\n",
    "# words_count_keys = list(words_count.keys())\n",
    "# words_count_keys[0]\n",
    "words_count['公开赛']"
   ]
  },
  {
   "cell_type": "code",
   "execution_count": 18,
   "metadata": {},
   "outputs": [
    {
     "data": {
      "text/plain": [
       "[<matplotlib.lines.Line2D at 0x206daf88cc0>]"
      ]
     },
     "execution_count": 18,
     "metadata": {},
     "output_type": "execute_result"
    }
   ],
   "source": [
    "import matplotlib.pyplot as plt\n",
    "plt.plot(list(words_count.values()))"
   ]
  },
  {
   "cell_type": "code",
   "execution_count": 19,
   "metadata": {},
   "outputs": [
    {
     "name": "stderr",
     "output_type": "stream",
     "text": [
      "D:\\Users\\ZengYubin\\Anaconda3\\lib\\site-packages\\ipykernel_launcher.py:2: RuntimeWarning: divide by zero encountered in log\n",
      "  \n"
     ]
    },
    {
     "data": {
      "text/plain": [
       "[<matplotlib.lines.Line2D at 0x206e9801c18>]"
      ]
     },
     "execution_count": 19,
     "metadata": {},
     "output_type": "execute_result"
    },
    {
     "data": {
      "image/png": "[encoded data removed]",
      "text/plain": [
       "<Figure size 432x288 with 1 Axes>"
      ]
     },
     "metadata": {
      "needs_background": "light"
     },
     "output_type": "display_data"
    }
   ],
   "source": [
    "import numpy as np\n",
    "plt.plot(np.log(np.log(list(words_count.values()))))"
   ]
  },
  {
   "cell_type": "code",
   "execution_count": 20,
   "metadata": {},
   "outputs": [
    {
     "data": {
      "text/plain": [
       "array([263597, 382020, 703716])"
      ]
     },
     "execution_count": 20,
     "metadata": {},
     "output_type": "execute_result"
    }
   ],
   "source": [
    "np.sort(np.array(list(words_count.values())))[-3:]"
   ]
  },
  {
   "cell_type": "code",
   "execution_count": 21,
   "metadata": {},
   "outputs": [],
   "source": [
    "def calculate_probability_of_sentence_by_two_gram(sentence: str, words_count: dict, two_gram_words_count: dict):\n",
    "    words = cut(sentence)\n",
    "    probability = 1\n",
    "    for i in range(0, len(words) - 1):\n",
    "        probability *= _calculate_probability_of_sentence(words[i], words[i + 1], words_count, two_gram_words_count)\n",
    "    return probability\n",
    "\n",
    "def _calculate_probability_of_sentence(w1: str, w2: str, words_count: dict, two_gram_words_count: dict):\n",
    "    w1w2 = w1 + w2\n",
    "    if w2 not in words_count:\n",
    "        words_count[w2] = 1\n",
    "        two_gram_words_count[w1w2] = 1\n",
    "    elif w1w2 not in two_gram_words_count:\n",
    "        two_gram_words_count[w1w2] = 1\n",
    "    return two_gram_words_count[w1w2] / words_count[w2]"
   ]
  },
  {
   "cell_type": "code",
   "execution_count": 22,
   "metadata": {},
   "outputs": [],
   "source": [
    "def local_calculate_probability_of_sentence(sentence: str):\n",
    "    return calculate_probability_of_sentence_by_two_gram(sentence, words_count, two_gram_words_count)"
   ]
  },
  {
   "cell_type": "code",
   "execution_count": 23,
   "metadata": {},
   "outputs": [
    {
     "data": {
      "text/plain": [
       "4.74121300394843e-37"
      ]
     },
     "execution_count": 23,
     "metadata": {},
     "output_type": "execute_result"
    }
   ],
   "source": [
    "local_calculate_probability_of_sentence('此外自本周6月12日起除小米手机6等15款机型')"
   ]
  },
  {
   "cell_type": "code",
   "execution_count": 24,
   "metadata": {},
   "outputs": [
    {
     "data": {
      "text/plain": [
       "6.239387998125227e-10"
      ]
     },
     "execution_count": 24,
     "metadata": {},
     "output_type": "execute_result"
    }
   ],
   "source": [
    "local_calculate_probability_of_sentence('前天早上吃晚饭的时候')"
   ]
  },
  {
   "cell_type": "code",
   "execution_count": 25,
   "metadata": {},
   "outputs": [
    {
     "data": {
      "text/plain": [
       "2.3509374521948863e-13"
      ]
     },
     "execution_count": 25,
     "metadata": {},
     "output_type": "execute_result"
    }
   ],
   "source": [
    "local_calculate_probability_of_sentence('前天早上吃早饭的时候')"
   ]
  },
  {
   "cell_type": "code",
   "execution_count": 26,
   "metadata": {},
   "outputs": [
    {
     "data": {
      "text/plain": [
       "6.410913456772163e-19"
      ]
     },
     "execution_count": 26,
     "metadata": {},
     "output_type": "execute_result"
    }
   ],
   "source": [
    "local_calculate_probability_of_sentence('发的接打老刘法发发大厦附近')"
   ]
  },
  {
   "cell_type": "code",
   "execution_count": 27,
   "metadata": {},
   "outputs": [
    {
     "data": {
      "text/plain": [
       "8.694432504536294e-14"
      ]
     },
     "execution_count": 27,
     "metadata": {},
     "output_type": "execute_result"
    }
   ],
   "source": [
    "local_calculate_probability_of_sentence('从落地到生根的伟大实践')"
   ]
  },
  {
   "cell_type": "code",
   "execution_count": 28,
   "metadata": {},
   "outputs": [
    {
     "name": "stdout",
     "output_type": "stream",
     "text": [
      "7.2887319454899265e-50\n"
     ]
    },
    {
     "data": {
      "text/plain": [
       "6.850273889972333e-48"
      ]
     },
     "execution_count": 28,
     "metadata": {},
     "output_type": "execute_result"
    }
   ],
   "source": [
    "print(local_calculate_probability_of_sentence('美联储主席本.伯南昨天告诉媒体7000亿美元的救助金将借给上百家银行、保险公司和汽车公司'))\n",
    "local_calculate_probability_of_sentence('本.伯南美联储主席昨天7000亿美元的救助金告诉媒体将借给银行、保险公司和汽车公司上百家')\n",
    "\n",
    "# local_calculate_probability_of_sentence('从落地到生根的伟大实践')\n",
    "# local_calculate_probability_of_sentence('从落地到生根的伟大实践')"
   ]
  },
  {
   "cell_type": "markdown",
   "metadata": {},
   "source": [
    "# 3-gram Language Model\n",
    "$$ language\\_model(String) = Probability(String) \\in (0, 1) $$\n",
    "$$ Pro(w_1 w_2 w_3 w_4) = Pr(w_1 | w_2 w_3 w_ 4) * P(w_2 | w_3 w_4) * Pr(w_3 | w_4) * Pr(w_4)$$\n",
    "$$ Pro(w_1 w_2 w_3 w_4) \\sim Pr(w_1 | w_2w_3 ) * P(w2 | w_3w_4 )$$"
   ]
  },
  {
   "cell_type": "code",
   "execution_count": 29,
   "metadata": {},
   "outputs": [],
   "source": [
    "def generate_3_gram_words_count(sample_file_path: str, unit_length=1000000):\n",
    "    two_gram_words_count = {}\n",
    "    three_gram_words_count = {}\n",
    "    with open(sample_file_path, encoding='utf-8') as sample_file:\n",
    "        sample = sample_file.read()\n",
    "        begin_index = 0\n",
    "        while begin_index < len(sample):\n",
    "            words = cut(sample[begin_index:(begin_index + unit_length)])\n",
    "            _generate_3_gram_words_count(words, two_gram_words_count, three_gram_words_count)\n",
    "            begin_index = begin_index + unit_length\n",
    "    return two_gram_words_count, three_gram_words_count\n",
    "\n",
    "def _generate_3_gram_words_count(words: list, two_gram_words_count: dict, three_gram_words_count: dict):\n",
    "\n",
    "    tow_gram_words = [words[i] + words[i + 1] for i in range(0, len(words) - 1)]\n",
    "    _tow_gram_words_count = Counter(tow_gram_words)\n",
    "    for tgw, f in _tow_gram_words_count.most_common():\n",
    "        if tgw in two_gram_words_count:\n",
    "            two_gram_words_count[tgw] += f\n",
    "        else:\n",
    "            two_gram_words_count[tgw] = f\n",
    "            \n",
    "    three_gram_words = [words[i] + words[i + 1] + words[i + 2] for i in range(0, len(words) - 2)]\n",
    "    _three_gram_words_count = Counter(three_gram_words)\n",
    "    for tgw, f in _three_gram_words_count.most_common():\n",
    "        if tgw in three_gram_words_count:\n",
    "            three_gram_words_count[tgw] += f\n",
    "        else:\n",
    "            three_gram_words_count[tgw] = f"
   ]
  }
 ],
 "metadata": {
  "kernelspec": {
   "display_name": "Python 3",
   "language": "python",
   "name": "python3"
  },
  "language_info": {
   "codemirror_mode": {
    "name": "ipython",
    "version": 3
   },
   "file_extension": ".py",
   "mimetype": "text/x-python",
   "name": "python",
   "nbconvert_exporter": "python",
   "pygments_lexer": "ipython3",
   "version": "3.7.3"
  }
 },
 "nbformat": 4,
 "nbformat_minor": 2
}
